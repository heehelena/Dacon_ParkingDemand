{
 "cells": [
  {
   "cell_type": "markdown",
   "metadata": {},
   "source": [
    "### 학습 목표\n",
    "* 데이터 전처리를 배운다.\n",
    "* 모델을 개선시킨다.\n",
    "* 오류 처리된(2,3번 해결) 데이터를 활용한다.\n",
    "\n",
    "대회 URL : https://www.dacon.io/competitions/official/235745/overview/description"
   ]
  },
  {
   "cell_type": "markdown",
   "metadata": {},
   "source": [
    "### 데이터 살펴 보기"
   ]
  },
  {
   "cell_type": "code",
   "execution_count": 313,
   "metadata": {},
   "outputs": [],
   "source": [
    "import matplotlib.pyplot as plt\n",
    "import seaborn as sns\n",
    "from sklearn.linear_model import LinearRegression"
   ]
  },
  {
   "cell_type": "code",
   "execution_count": 314,
   "metadata": {},
   "outputs": [
    {
     "data": {
      "text/plain": [
       "((2896, 15), (1022, 14), (150, 2), (16, 23))"
      ]
     },
     "execution_count": 314,
     "metadata": {},
     "output_type": "execute_result"
    }
   ],
   "source": [
    "import pandas as pd\n",
    "\n",
    "train = pd.read_csv('train_df_errno.csv')\n",
    "test = pd.read_csv('test.csv')\n",
    "sub = pd.read_csv('sample_submission.csv')\n",
    "age = pd.read_csv('age_gender_info.csv')\n",
    "\n",
    "train.shape, test.shape, sub.shape, age.shape"
   ]
  },
  {
   "cell_type": "code",
   "execution_count": 315,
   "metadata": {},
   "outputs": [
    {
     "name": "stdout",
     "output_type": "stream",
     "text": [
      "<class 'pandas.core.frame.DataFrame'>\n",
      "RangeIndex: 2896 entries, 0 to 2895\n",
      "Data columns (total 15 columns):\n",
      " #   Column      Non-Null Count  Dtype  \n",
      "---  ------      --------------  -----  \n",
      " 0   단지코드        2896 non-null   object \n",
      " 1   총세대수        2896 non-null   int64  \n",
      " 2   임대건물구분      2896 non-null   object \n",
      " 3   지역          2896 non-null   object \n",
      " 4   공급유형        2896 non-null   object \n",
      " 5   전용면적        2896 non-null   float64\n",
      " 6   전용면적별세대수    2896 non-null   int64  \n",
      " 7   공가수         2896 non-null   float64\n",
      " 8   자격유형        2896 non-null   object \n",
      " 9   임대보증금       2327 non-null   object \n",
      " 10  임대료         2327 non-null   object \n",
      " 11  10분내지하철수    2685 non-null   float64\n",
      " 12  10분내버스정류장수  2892 non-null   float64\n",
      " 13  단지내주차면수     2896 non-null   float64\n",
      " 14  등록차량수       2896 non-null   float64\n",
      "dtypes: float64(6), int64(2), object(7)\n",
      "memory usage: 339.5+ KB\n"
     ]
    }
   ],
   "source": [
    "train.info()"
   ]
  },
  {
   "cell_type": "code",
   "execution_count": 316,
   "metadata": {
    "scrolled": true
   },
   "outputs": [
    {
     "name": "stdout",
     "output_type": "stream",
     "text": [
      "<class 'pandas.core.frame.DataFrame'>\n",
      "RangeIndex: 1022 entries, 0 to 1021\n",
      "Data columns (total 14 columns):\n",
      " #   Column                        Non-Null Count  Dtype  \n",
      "---  ------                        --------------  -----  \n",
      " 0   단지코드                          1022 non-null   object \n",
      " 1   총세대수                          1022 non-null   int64  \n",
      " 2   임대건물구분                        1022 non-null   object \n",
      " 3   지역                            1022 non-null   object \n",
      " 4   공급유형                          1022 non-null   object \n",
      " 5   전용면적                          1022 non-null   float64\n",
      " 6   전용면적별세대수                      1022 non-null   int64  \n",
      " 7   공가수                           1022 non-null   float64\n",
      " 8   자격유형                          1020 non-null   object \n",
      " 9   임대보증금                         842 non-null    object \n",
      " 10  임대료                           842 non-null    object \n",
      " 11  도보 10분거리 내 지하철역 수(환승노선 수 반영)  980 non-null    float64\n",
      " 12  도보 10분거리 내 버스정류장 수            1022 non-null   float64\n",
      " 13  단지내주차면수                       1022 non-null   float64\n",
      "dtypes: float64(5), int64(2), object(7)\n",
      "memory usage: 111.9+ KB\n"
     ]
    }
   ],
   "source": [
    "test.info()"
   ]
  },
  {
   "cell_type": "code",
   "execution_count": 317,
   "metadata": {},
   "outputs": [],
   "source": [
    "# 컬럼명 변경\n",
    "train.columns = ['단지코드', '총세대수', '임대건물구분', '지역', '공급유형', '전용면적', '전용면적별세대수', '공가수',\n",
    "       '자격유형', '임대보증금', '임대료', '10분내지하철수', '10분내버스정류장수', '단지내주차면수', '등록차량수']"
   ]
  },
  {
   "cell_type": "code",
   "execution_count": 318,
   "metadata": {},
   "outputs": [],
   "source": [
    "test.columns = ['단지코드', '총세대수', '임대건물구분', '지역', '공급유형', '전용면적', '전용면적별세대수', '공가수',\n",
    "       '자격유형', '임대보증금', '임대료', '10분내지하철수', '10분내버스정류장수', '단지내주차면수']"
   ]
  },
  {
   "cell_type": "code",
   "execution_count": 319,
   "metadata": {},
   "outputs": [
    {
     "data": {
      "text/html": [
       "<div>\n",
       "<style scoped>\n",
       "    .dataframe tbody tr th:only-of-type {\n",
       "        vertical-align: middle;\n",
       "    }\n",
       "\n",
       "    .dataframe tbody tr th {\n",
       "        vertical-align: top;\n",
       "    }\n",
       "\n",
       "    .dataframe thead th {\n",
       "        text-align: right;\n",
       "    }\n",
       "</style>\n",
       "<table border=\"1\" class=\"dataframe\">\n",
       "  <thead>\n",
       "    <tr style=\"text-align: right;\">\n",
       "      <th></th>\n",
       "      <th>총세대수</th>\n",
       "      <th>전용면적</th>\n",
       "      <th>전용면적별세대수</th>\n",
       "      <th>공가수</th>\n",
       "      <th>10분내지하철수</th>\n",
       "      <th>10분내버스정류장수</th>\n",
       "      <th>단지내주차면수</th>\n",
       "      <th>등록차량수</th>\n",
       "    </tr>\n",
       "  </thead>\n",
       "  <tbody>\n",
       "    <tr>\n",
       "      <th>count</th>\n",
       "      <td>2896.000000</td>\n",
       "      <td>2896.000000</td>\n",
       "      <td>2896.000000</td>\n",
       "      <td>2896.000000</td>\n",
       "      <td>2685.000000</td>\n",
       "      <td>2892.000000</td>\n",
       "      <td>2896.000000</td>\n",
       "      <td>2896.000000</td>\n",
       "    </tr>\n",
       "    <tr>\n",
       "      <th>mean</th>\n",
       "      <td>891.025207</td>\n",
       "      <td>44.559033</td>\n",
       "      <td>102.822514</td>\n",
       "      <td>12.877417</td>\n",
       "      <td>0.180261</td>\n",
       "      <td>3.703320</td>\n",
       "      <td>598.766575</td>\n",
       "      <td>558.315953</td>\n",
       "    </tr>\n",
       "    <tr>\n",
       "      <th>std</th>\n",
       "      <td>516.665211</td>\n",
       "      <td>32.000640</td>\n",
       "      <td>132.988590</td>\n",
       "      <td>10.653686</td>\n",
       "      <td>0.431074</td>\n",
       "      <td>2.666876</td>\n",
       "      <td>396.677644</td>\n",
       "      <td>437.015694</td>\n",
       "    </tr>\n",
       "    <tr>\n",
       "      <th>min</th>\n",
       "      <td>26.000000</td>\n",
       "      <td>12.620000</td>\n",
       "      <td>1.000000</td>\n",
       "      <td>0.000000</td>\n",
       "      <td>0.000000</td>\n",
       "      <td>0.000000</td>\n",
       "      <td>13.000000</td>\n",
       "      <td>13.000000</td>\n",
       "    </tr>\n",
       "    <tr>\n",
       "      <th>25%</th>\n",
       "      <td>514.000000</td>\n",
       "      <td>32.100000</td>\n",
       "      <td>14.750000</td>\n",
       "      <td>4.000000</td>\n",
       "      <td>0.000000</td>\n",
       "      <td>2.000000</td>\n",
       "      <td>277.000000</td>\n",
       "      <td>209.000000</td>\n",
       "    </tr>\n",
       "    <tr>\n",
       "      <th>50%</th>\n",
       "      <td>780.000000</td>\n",
       "      <td>39.905000</td>\n",
       "      <td>60.000000</td>\n",
       "      <td>11.000000</td>\n",
       "      <td>0.000000</td>\n",
       "      <td>3.000000</td>\n",
       "      <td>507.000000</td>\n",
       "      <td>481.000000</td>\n",
       "    </tr>\n",
       "    <tr>\n",
       "      <th>75%</th>\n",
       "      <td>1106.000000</td>\n",
       "      <td>51.292500</td>\n",
       "      <td>143.250000</td>\n",
       "      <td>20.000000</td>\n",
       "      <td>0.000000</td>\n",
       "      <td>4.000000</td>\n",
       "      <td>823.000000</td>\n",
       "      <td>763.000000</td>\n",
       "    </tr>\n",
       "    <tr>\n",
       "      <th>max</th>\n",
       "      <td>2568.000000</td>\n",
       "      <td>583.400000</td>\n",
       "      <td>1865.000000</td>\n",
       "      <td>55.000000</td>\n",
       "      <td>3.000000</td>\n",
       "      <td>20.000000</td>\n",
       "      <td>1798.000000</td>\n",
       "      <td>2550.000000</td>\n",
       "    </tr>\n",
       "  </tbody>\n",
       "</table>\n",
       "</div>"
      ],
      "text/plain": [
       "              총세대수         전용면적     전용면적별세대수          공가수     10분내지하철수  \\\n",
       "count  2896.000000  2896.000000  2896.000000  2896.000000  2685.000000   \n",
       "mean    891.025207    44.559033   102.822514    12.877417     0.180261   \n",
       "std     516.665211    32.000640   132.988590    10.653686     0.431074   \n",
       "min      26.000000    12.620000     1.000000     0.000000     0.000000   \n",
       "25%     514.000000    32.100000    14.750000     4.000000     0.000000   \n",
       "50%     780.000000    39.905000    60.000000    11.000000     0.000000   \n",
       "75%    1106.000000    51.292500   143.250000    20.000000     0.000000   \n",
       "max    2568.000000   583.400000  1865.000000    55.000000     3.000000   \n",
       "\n",
       "        10분내버스정류장수      단지내주차면수        등록차량수  \n",
       "count  2892.000000  2896.000000  2896.000000  \n",
       "mean      3.703320   598.766575   558.315953  \n",
       "std       2.666876   396.677644   437.015694  \n",
       "min       0.000000    13.000000    13.000000  \n",
       "25%       2.000000   277.000000   209.000000  \n",
       "50%       3.000000   507.000000   481.000000  \n",
       "75%       4.000000   823.000000   763.000000  \n",
       "max      20.000000  1798.000000  2550.000000  "
      ]
     },
     "execution_count": 319,
     "metadata": {},
     "output_type": "execute_result"
    }
   ],
   "source": [
    "train.describe()"
   ]
  },
  {
   "cell_type": "markdown",
   "metadata": {},
   "source": [
    "### 오류 데이터 확인"
   ]
  },
  {
   "cell_type": "code",
   "execution_count": 320,
   "metadata": {},
   "outputs": [
    {
     "data": {
      "text/html": [
       "<div>\n",
       "<style scoped>\n",
       "    .dataframe tbody tr th:only-of-type {\n",
       "        vertical-align: middle;\n",
       "    }\n",
       "\n",
       "    .dataframe tbody tr th {\n",
       "        vertical-align: top;\n",
       "    }\n",
       "\n",
       "    .dataframe thead th {\n",
       "        text-align: right;\n",
       "    }\n",
       "</style>\n",
       "<table border=\"1\" class=\"dataframe\">\n",
       "  <thead>\n",
       "    <tr style=\"text-align: right;\">\n",
       "      <th></th>\n",
       "      <th>단지코드</th>\n",
       "      <th>총세대수</th>\n",
       "      <th>임대건물구분</th>\n",
       "      <th>지역</th>\n",
       "      <th>공급유형</th>\n",
       "      <th>전용면적</th>\n",
       "      <th>전용면적별세대수</th>\n",
       "      <th>공가수</th>\n",
       "      <th>자격유형</th>\n",
       "      <th>임대보증금</th>\n",
       "      <th>임대료</th>\n",
       "      <th>10분내지하철수</th>\n",
       "      <th>10분내버스정류장수</th>\n",
       "      <th>단지내주차면수</th>\n",
       "      <th>등록차량수</th>\n",
       "    </tr>\n",
       "  </thead>\n",
       "  <tbody>\n",
       "  </tbody>\n",
       "</table>\n",
       "</div>"
      ],
      "text/plain": [
       "Empty DataFrame\n",
       "Columns: [단지코드, 총세대수, 임대건물구분, 지역, 공급유형, 전용면적, 전용면적별세대수, 공가수, 자격유형, 임대보증금, 임대료, 10분내지하철수, 10분내버스정류장수, 단지내주차면수, 등록차량수]\n",
       "Index: []"
      ]
     },
     "execution_count": 320,
     "metadata": {},
     "output_type": "execute_result"
    }
   ],
   "source": [
    "train.loc[((train['단지코드']=='C2675') | (train['단지코드']=='C2335') | (train['단지코드']=='C1327')), :]"
   ]
  },
  {
   "cell_type": "code",
   "execution_count": 321,
   "metadata": {},
   "outputs": [
    {
     "data": {
      "text/html": [
       "<div>\n",
       "<style scoped>\n",
       "    .dataframe tbody tr th:only-of-type {\n",
       "        vertical-align: middle;\n",
       "    }\n",
       "\n",
       "    .dataframe tbody tr th {\n",
       "        vertical-align: top;\n",
       "    }\n",
       "\n",
       "    .dataframe thead th {\n",
       "        text-align: right;\n",
       "    }\n",
       "</style>\n",
       "<table border=\"1\" class=\"dataframe\">\n",
       "  <thead>\n",
       "    <tr style=\"text-align: right;\">\n",
       "      <th></th>\n",
       "      <th>단지코드</th>\n",
       "      <th>총세대수</th>\n",
       "      <th>임대건물구분</th>\n",
       "      <th>지역</th>\n",
       "      <th>공급유형</th>\n",
       "      <th>전용면적</th>\n",
       "      <th>전용면적별세대수</th>\n",
       "      <th>공가수</th>\n",
       "      <th>자격유형</th>\n",
       "      <th>임대보증금</th>\n",
       "      <th>임대료</th>\n",
       "      <th>10분내지하철수</th>\n",
       "      <th>10분내버스정류장수</th>\n",
       "      <th>단지내주차면수</th>\n",
       "    </tr>\n",
       "  </thead>\n",
       "  <tbody>\n",
       "    <tr>\n",
       "      <th>579</th>\n",
       "      <td>C2675</td>\n",
       "      <td>512</td>\n",
       "      <td>아파트</td>\n",
       "      <td>경기도</td>\n",
       "      <td>국민임대</td>\n",
       "      <td>36.65</td>\n",
       "      <td>130</td>\n",
       "      <td>9.0</td>\n",
       "      <td>A</td>\n",
       "      <td>18476000</td>\n",
       "      <td>154790</td>\n",
       "      <td>0.0</td>\n",
       "      <td>3.0</td>\n",
       "      <td>1016.0</td>\n",
       "    </tr>\n",
       "    <tr>\n",
       "      <th>580</th>\n",
       "      <td>C2675</td>\n",
       "      <td>512</td>\n",
       "      <td>아파트</td>\n",
       "      <td>경기도</td>\n",
       "      <td>국민임대</td>\n",
       "      <td>46.90</td>\n",
       "      <td>44</td>\n",
       "      <td>9.0</td>\n",
       "      <td>A</td>\n",
       "      <td>34082000</td>\n",
       "      <td>232200</td>\n",
       "      <td>0.0</td>\n",
       "      <td>3.0</td>\n",
       "      <td>1016.0</td>\n",
       "    </tr>\n",
       "    <tr>\n",
       "      <th>581</th>\n",
       "      <td>C2675</td>\n",
       "      <td>512</td>\n",
       "      <td>아파트</td>\n",
       "      <td>경기도</td>\n",
       "      <td>국민임대</td>\n",
       "      <td>46.90</td>\n",
       "      <td>80</td>\n",
       "      <td>9.0</td>\n",
       "      <td>A</td>\n",
       "      <td>34082000</td>\n",
       "      <td>232200</td>\n",
       "      <td>0.0</td>\n",
       "      <td>3.0</td>\n",
       "      <td>1016.0</td>\n",
       "    </tr>\n",
       "    <tr>\n",
       "      <th>582</th>\n",
       "      <td>C2675</td>\n",
       "      <td>512</td>\n",
       "      <td>아파트</td>\n",
       "      <td>경기도</td>\n",
       "      <td>국민임대</td>\n",
       "      <td>46.90</td>\n",
       "      <td>50</td>\n",
       "      <td>9.0</td>\n",
       "      <td>A</td>\n",
       "      <td>34082000</td>\n",
       "      <td>232200</td>\n",
       "      <td>0.0</td>\n",
       "      <td>3.0</td>\n",
       "      <td>1016.0</td>\n",
       "    </tr>\n",
       "    <tr>\n",
       "      <th>583</th>\n",
       "      <td>C2675</td>\n",
       "      <td>512</td>\n",
       "      <td>아파트</td>\n",
       "      <td>경기도</td>\n",
       "      <td>국민임대</td>\n",
       "      <td>46.90</td>\n",
       "      <td>88</td>\n",
       "      <td>9.0</td>\n",
       "      <td>A</td>\n",
       "      <td>34082000</td>\n",
       "      <td>232200</td>\n",
       "      <td>0.0</td>\n",
       "      <td>3.0</td>\n",
       "      <td>1016.0</td>\n",
       "    </tr>\n",
       "    <tr>\n",
       "      <th>584</th>\n",
       "      <td>C2675</td>\n",
       "      <td>512</td>\n",
       "      <td>아파트</td>\n",
       "      <td>경기도</td>\n",
       "      <td>국민임대</td>\n",
       "      <td>47.40</td>\n",
       "      <td>30</td>\n",
       "      <td>9.0</td>\n",
       "      <td>A</td>\n",
       "      <td>34082000</td>\n",
       "      <td>232200</td>\n",
       "      <td>0.0</td>\n",
       "      <td>3.0</td>\n",
       "      <td>1016.0</td>\n",
       "    </tr>\n",
       "    <tr>\n",
       "      <th>585</th>\n",
       "      <td>C2675</td>\n",
       "      <td>512</td>\n",
       "      <td>아파트</td>\n",
       "      <td>경기도</td>\n",
       "      <td>국민임대</td>\n",
       "      <td>51.93</td>\n",
       "      <td>75</td>\n",
       "      <td>9.0</td>\n",
       "      <td>A</td>\n",
       "      <td>43819000</td>\n",
       "      <td>275900</td>\n",
       "      <td>0.0</td>\n",
       "      <td>3.0</td>\n",
       "      <td>1016.0</td>\n",
       "    </tr>\n",
       "    <tr>\n",
       "      <th>586</th>\n",
       "      <td>C2675</td>\n",
       "      <td>512</td>\n",
       "      <td>아파트</td>\n",
       "      <td>경기도</td>\n",
       "      <td>국민임대</td>\n",
       "      <td>51.93</td>\n",
       "      <td>15</td>\n",
       "      <td>9.0</td>\n",
       "      <td>A</td>\n",
       "      <td>43819000</td>\n",
       "      <td>275900</td>\n",
       "      <td>0.0</td>\n",
       "      <td>3.0</td>\n",
       "      <td>1016.0</td>\n",
       "    </tr>\n",
       "    <tr>\n",
       "      <th>891</th>\n",
       "      <td>C1327</td>\n",
       "      <td>98</td>\n",
       "      <td>아파트</td>\n",
       "      <td>대전광역시</td>\n",
       "      <td>행복주택</td>\n",
       "      <td>16.83</td>\n",
       "      <td>30</td>\n",
       "      <td>13.0</td>\n",
       "      <td>J</td>\n",
       "      <td>18800000</td>\n",
       "      <td>94000</td>\n",
       "      <td>NaN</td>\n",
       "      <td>17.0</td>\n",
       "      <td>98.0</td>\n",
       "    </tr>\n",
       "    <tr>\n",
       "      <th>892</th>\n",
       "      <td>C1327</td>\n",
       "      <td>98</td>\n",
       "      <td>아파트</td>\n",
       "      <td>대전광역시</td>\n",
       "      <td>행복주택</td>\n",
       "      <td>26.51</td>\n",
       "      <td>10</td>\n",
       "      <td>13.0</td>\n",
       "      <td>J</td>\n",
       "      <td>28400000</td>\n",
       "      <td>142000</td>\n",
       "      <td>NaN</td>\n",
       "      <td>17.0</td>\n",
       "      <td>98.0</td>\n",
       "    </tr>\n",
       "    <tr>\n",
       "      <th>893</th>\n",
       "      <td>C1327</td>\n",
       "      <td>98</td>\n",
       "      <td>아파트</td>\n",
       "      <td>대전광역시</td>\n",
       "      <td>행복주택</td>\n",
       "      <td>26.51</td>\n",
       "      <td>10</td>\n",
       "      <td>13.0</td>\n",
       "      <td>J</td>\n",
       "      <td>28400000</td>\n",
       "      <td>142000</td>\n",
       "      <td>NaN</td>\n",
       "      <td>17.0</td>\n",
       "      <td>98.0</td>\n",
       "    </tr>\n",
       "    <tr>\n",
       "      <th>894</th>\n",
       "      <td>C1327</td>\n",
       "      <td>98</td>\n",
       "      <td>아파트</td>\n",
       "      <td>대전광역시</td>\n",
       "      <td>행복주택</td>\n",
       "      <td>36.92</td>\n",
       "      <td>48</td>\n",
       "      <td>13.0</td>\n",
       "      <td>J</td>\n",
       "      <td>36800000</td>\n",
       "      <td>184000</td>\n",
       "      <td>NaN</td>\n",
       "      <td>17.0</td>\n",
       "      <td>98.0</td>\n",
       "    </tr>\n",
       "    <tr>\n",
       "      <th>953</th>\n",
       "      <td>C2335</td>\n",
       "      <td>112</td>\n",
       "      <td>아파트</td>\n",
       "      <td>전라북도</td>\n",
       "      <td>영구임대</td>\n",
       "      <td>19.95</td>\n",
       "      <td>84</td>\n",
       "      <td>3.0</td>\n",
       "      <td>C</td>\n",
       "      <td>2312000</td>\n",
       "      <td>51450</td>\n",
       "      <td>0.0</td>\n",
       "      <td>1.0</td>\n",
       "      <td>636.0</td>\n",
       "    </tr>\n",
       "    <tr>\n",
       "      <th>954</th>\n",
       "      <td>C2335</td>\n",
       "      <td>112</td>\n",
       "      <td>아파트</td>\n",
       "      <td>전라북도</td>\n",
       "      <td>영구임대</td>\n",
       "      <td>26.85</td>\n",
       "      <td>28</td>\n",
       "      <td>3.0</td>\n",
       "      <td>C</td>\n",
       "      <td>3111000</td>\n",
       "      <td>69240</td>\n",
       "      <td>0.0</td>\n",
       "      <td>1.0</td>\n",
       "      <td>636.0</td>\n",
       "    </tr>\n",
       "  </tbody>\n",
       "</table>\n",
       "</div>"
      ],
      "text/plain": [
       "      단지코드  총세대수 임대건물구분     지역  공급유형   전용면적  전용면적별세대수   공가수 자격유형     임대보증금  \\\n",
       "579  C2675   512    아파트    경기도  국민임대  36.65       130   9.0    A  18476000   \n",
       "580  C2675   512    아파트    경기도  국민임대  46.90        44   9.0    A  34082000   \n",
       "581  C2675   512    아파트    경기도  국민임대  46.90        80   9.0    A  34082000   \n",
       "582  C2675   512    아파트    경기도  국민임대  46.90        50   9.0    A  34082000   \n",
       "583  C2675   512    아파트    경기도  국민임대  46.90        88   9.0    A  34082000   \n",
       "584  C2675   512    아파트    경기도  국민임대  47.40        30   9.0    A  34082000   \n",
       "585  C2675   512    아파트    경기도  국민임대  51.93        75   9.0    A  43819000   \n",
       "586  C2675   512    아파트    경기도  국민임대  51.93        15   9.0    A  43819000   \n",
       "891  C1327    98    아파트  대전광역시  행복주택  16.83        30  13.0    J  18800000   \n",
       "892  C1327    98    아파트  대전광역시  행복주택  26.51        10  13.0    J  28400000   \n",
       "893  C1327    98    아파트  대전광역시  행복주택  26.51        10  13.0    J  28400000   \n",
       "894  C1327    98    아파트  대전광역시  행복주택  36.92        48  13.0    J  36800000   \n",
       "953  C2335   112    아파트   전라북도  영구임대  19.95        84   3.0    C   2312000   \n",
       "954  C2335   112    아파트   전라북도  영구임대  26.85        28   3.0    C   3111000   \n",
       "\n",
       "        임대료  10분내지하철수  10분내버스정류장수  단지내주차면수  \n",
       "579  154790       0.0         3.0   1016.0  \n",
       "580  232200       0.0         3.0   1016.0  \n",
       "581  232200       0.0         3.0   1016.0  \n",
       "582  232200       0.0         3.0   1016.0  \n",
       "583  232200       0.0         3.0   1016.0  \n",
       "584  232200       0.0         3.0   1016.0  \n",
       "585  275900       0.0         3.0   1016.0  \n",
       "586  275900       0.0         3.0   1016.0  \n",
       "891   94000       NaN        17.0     98.0  \n",
       "892  142000       NaN        17.0     98.0  \n",
       "893  142000       NaN        17.0     98.0  \n",
       "894  184000       NaN        17.0     98.0  \n",
       "953   51450       0.0         1.0    636.0  \n",
       "954   69240       0.0         1.0    636.0  "
      ]
     },
     "execution_count": 321,
     "metadata": {},
     "output_type": "execute_result"
    }
   ],
   "source": [
    "test.loc[ ((test['단지코드']=='C2675') | (test['단지코드']=='C2335') | (test['단지코드']=='C1327') ) , :]"
   ]
  },
  {
   "cell_type": "markdown",
   "metadata": {},
   "source": [
    "### 오류 데이터 처리 확인\n",
    "* 동일한 단지에 코드가 2개로 부여된 단지 코드 (3쌍) : ['C2085', 'C1397'], ['C2431', 'C1649'], ['C1036', 'C2675']\n",
    "* (참고 사항) 주차면수는 하나의 단지임을 전제로 산정된 것이고 총세대수는 두 개 단지의 합계입니다. 다만 등록차량대수는 ['C2085', 'C1397'] 단지의 경우 동일 수치"
   ]
  },
  {
   "cell_type": "code",
   "execution_count": 322,
   "metadata": {},
   "outputs": [],
   "source": [
    "train.loc[train['단지코드']=='C2085',  \"단지코드\"] = 'N2085'\n",
    "train.loc[train['단지코드']=='C1397',  \"단지코드\"] = 'N2085'"
   ]
  },
  {
   "cell_type": "code",
   "execution_count": 323,
   "metadata": {},
   "outputs": [
    {
     "data": {
      "text/plain": [
       "(14, 15)"
      ]
     },
     "execution_count": 323,
     "metadata": {},
     "output_type": "execute_result"
    }
   ],
   "source": [
    "train.loc[train['단지코드']=='N2085', : ].shape"
   ]
  },
  {
   "cell_type": "code",
   "execution_count": 324,
   "metadata": {},
   "outputs": [
    {
     "data": {
      "text/html": [
       "<div>\n",
       "<style scoped>\n",
       "    .dataframe tbody tr th:only-of-type {\n",
       "        vertical-align: middle;\n",
       "    }\n",
       "\n",
       "    .dataframe tbody tr th {\n",
       "        vertical-align: top;\n",
       "    }\n",
       "\n",
       "    .dataframe thead th {\n",
       "        text-align: right;\n",
       "    }\n",
       "</style>\n",
       "<table border=\"1\" class=\"dataframe\">\n",
       "  <thead>\n",
       "    <tr style=\"text-align: right;\">\n",
       "      <th></th>\n",
       "      <th>단지코드</th>\n",
       "      <th>총세대수</th>\n",
       "      <th>임대건물구분</th>\n",
       "      <th>지역</th>\n",
       "      <th>공급유형</th>\n",
       "      <th>전용면적</th>\n",
       "      <th>전용면적별세대수</th>\n",
       "      <th>공가수</th>\n",
       "      <th>자격유형</th>\n",
       "      <th>임대보증금</th>\n",
       "      <th>임대료</th>\n",
       "      <th>10분내지하철수</th>\n",
       "      <th>10분내버스정류장수</th>\n",
       "      <th>단지내주차면수</th>\n",
       "      <th>등록차량수</th>\n",
       "    </tr>\n",
       "  </thead>\n",
       "  <tbody>\n",
       "    <tr>\n",
       "      <th>2029</th>\n",
       "      <td>N2085</td>\n",
       "      <td>1339</td>\n",
       "      <td>아파트</td>\n",
       "      <td>서울특별시</td>\n",
       "      <td>장기전세</td>\n",
       "      <td>23.32</td>\n",
       "      <td>51</td>\n",
       "      <td>9.0</td>\n",
       "      <td>A</td>\n",
       "      <td>87444000</td>\n",
       "      <td>-</td>\n",
       "      <td>0.0</td>\n",
       "      <td>3.0</td>\n",
       "      <td>1590.0</td>\n",
       "      <td>1595.0</td>\n",
       "    </tr>\n",
       "    <tr>\n",
       "      <th>2030</th>\n",
       "      <td>N2085</td>\n",
       "      <td>1339</td>\n",
       "      <td>아파트</td>\n",
       "      <td>서울특별시</td>\n",
       "      <td>장기전세</td>\n",
       "      <td>46.79</td>\n",
       "      <td>4</td>\n",
       "      <td>9.0</td>\n",
       "      <td>A</td>\n",
       "      <td>174888000</td>\n",
       "      <td>-</td>\n",
       "      <td>0.0</td>\n",
       "      <td>3.0</td>\n",
       "      <td>1590.0</td>\n",
       "      <td>1595.0</td>\n",
       "    </tr>\n",
       "    <tr>\n",
       "      <th>2031</th>\n",
       "      <td>N2085</td>\n",
       "      <td>1339</td>\n",
       "      <td>아파트</td>\n",
       "      <td>서울특별시</td>\n",
       "      <td>장기전세</td>\n",
       "      <td>46.91</td>\n",
       "      <td>69</td>\n",
       "      <td>9.0</td>\n",
       "      <td>A</td>\n",
       "      <td>174888000</td>\n",
       "      <td>-</td>\n",
       "      <td>0.0</td>\n",
       "      <td>3.0</td>\n",
       "      <td>1590.0</td>\n",
       "      <td>1595.0</td>\n",
       "    </tr>\n",
       "    <tr>\n",
       "      <th>2032</th>\n",
       "      <td>N2085</td>\n",
       "      <td>1339</td>\n",
       "      <td>아파트</td>\n",
       "      <td>서울특별시</td>\n",
       "      <td>장기전세</td>\n",
       "      <td>51.96</td>\n",
       "      <td>24</td>\n",
       "      <td>9.0</td>\n",
       "      <td>A</td>\n",
       "      <td>194562000</td>\n",
       "      <td>-</td>\n",
       "      <td>0.0</td>\n",
       "      <td>3.0</td>\n",
       "      <td>1590.0</td>\n",
       "      <td>1595.0</td>\n",
       "    </tr>\n",
       "    <tr>\n",
       "      <th>2033</th>\n",
       "      <td>N2085</td>\n",
       "      <td>1339</td>\n",
       "      <td>아파트</td>\n",
       "      <td>서울특별시</td>\n",
       "      <td>장기전세</td>\n",
       "      <td>51.99</td>\n",
       "      <td>80</td>\n",
       "      <td>9.0</td>\n",
       "      <td>A</td>\n",
       "      <td>194562000</td>\n",
       "      <td>-</td>\n",
       "      <td>0.0</td>\n",
       "      <td>3.0</td>\n",
       "      <td>1590.0</td>\n",
       "      <td>1595.0</td>\n",
       "    </tr>\n",
       "    <tr>\n",
       "      <th>2034</th>\n",
       "      <td>N2085</td>\n",
       "      <td>1339</td>\n",
       "      <td>아파트</td>\n",
       "      <td>서울특별시</td>\n",
       "      <td>장기전세</td>\n",
       "      <td>59.93</td>\n",
       "      <td>142</td>\n",
       "      <td>9.0</td>\n",
       "      <td>A</td>\n",
       "      <td>216423000</td>\n",
       "      <td>-</td>\n",
       "      <td>0.0</td>\n",
       "      <td>3.0</td>\n",
       "      <td>1590.0</td>\n",
       "      <td>1595.0</td>\n",
       "    </tr>\n",
       "    <tr>\n",
       "      <th>2172</th>\n",
       "      <td>N2085</td>\n",
       "      <td>1339</td>\n",
       "      <td>아파트</td>\n",
       "      <td>서울특별시</td>\n",
       "      <td>공공임대(10년)</td>\n",
       "      <td>51.96</td>\n",
       "      <td>63</td>\n",
       "      <td>0.0</td>\n",
       "      <td>A</td>\n",
       "      <td>47001000</td>\n",
       "      <td>602270</td>\n",
       "      <td>0.0</td>\n",
       "      <td>3.0</td>\n",
       "      <td>1590.0</td>\n",
       "      <td>1595.0</td>\n",
       "    </tr>\n",
       "    <tr>\n",
       "      <th>2173</th>\n",
       "      <td>N2085</td>\n",
       "      <td>1339</td>\n",
       "      <td>아파트</td>\n",
       "      <td>서울특별시</td>\n",
       "      <td>공공임대(10년)</td>\n",
       "      <td>51.99</td>\n",
       "      <td>41</td>\n",
       "      <td>0.0</td>\n",
       "      <td>A</td>\n",
       "      <td>47001000</td>\n",
       "      <td>602270</td>\n",
       "      <td>0.0</td>\n",
       "      <td>3.0</td>\n",
       "      <td>1590.0</td>\n",
       "      <td>1595.0</td>\n",
       "    </tr>\n",
       "    <tr>\n",
       "      <th>2174</th>\n",
       "      <td>N2085</td>\n",
       "      <td>1339</td>\n",
       "      <td>아파트</td>\n",
       "      <td>서울특별시</td>\n",
       "      <td>공공임대(10년)</td>\n",
       "      <td>59.93</td>\n",
       "      <td>315</td>\n",
       "      <td>0.0</td>\n",
       "      <td>A</td>\n",
       "      <td>61210000</td>\n",
       "      <td>695170</td>\n",
       "      <td>0.0</td>\n",
       "      <td>3.0</td>\n",
       "      <td>1590.0</td>\n",
       "      <td>1595.0</td>\n",
       "    </tr>\n",
       "    <tr>\n",
       "      <th>2175</th>\n",
       "      <td>N2085</td>\n",
       "      <td>1339</td>\n",
       "      <td>아파트</td>\n",
       "      <td>서울특별시</td>\n",
       "      <td>공공임대(분납)</td>\n",
       "      <td>74.80</td>\n",
       "      <td>208</td>\n",
       "      <td>0.0</td>\n",
       "      <td>A</td>\n",
       "      <td>120611000</td>\n",
       "      <td>293490</td>\n",
       "      <td>0.0</td>\n",
       "      <td>3.0</td>\n",
       "      <td>1590.0</td>\n",
       "      <td>1595.0</td>\n",
       "    </tr>\n",
       "    <tr>\n",
       "      <th>2176</th>\n",
       "      <td>N2085</td>\n",
       "      <td>1339</td>\n",
       "      <td>아파트</td>\n",
       "      <td>서울특별시</td>\n",
       "      <td>공공임대(분납)</td>\n",
       "      <td>84.05</td>\n",
       "      <td>20</td>\n",
       "      <td>0.0</td>\n",
       "      <td>A</td>\n",
       "      <td>135521000</td>\n",
       "      <td>329770</td>\n",
       "      <td>0.0</td>\n",
       "      <td>3.0</td>\n",
       "      <td>1590.0</td>\n",
       "      <td>1595.0</td>\n",
       "    </tr>\n",
       "    <tr>\n",
       "      <th>2177</th>\n",
       "      <td>N2085</td>\n",
       "      <td>1339</td>\n",
       "      <td>아파트</td>\n",
       "      <td>서울특별시</td>\n",
       "      <td>공공임대(분납)</td>\n",
       "      <td>84.05</td>\n",
       "      <td>4</td>\n",
       "      <td>0.0</td>\n",
       "      <td>A</td>\n",
       "      <td>135531000</td>\n",
       "      <td>329790</td>\n",
       "      <td>0.0</td>\n",
       "      <td>3.0</td>\n",
       "      <td>1590.0</td>\n",
       "      <td>1595.0</td>\n",
       "    </tr>\n",
       "    <tr>\n",
       "      <th>2178</th>\n",
       "      <td>N2085</td>\n",
       "      <td>1339</td>\n",
       "      <td>아파트</td>\n",
       "      <td>서울특별시</td>\n",
       "      <td>공공임대(분납)</td>\n",
       "      <td>84.39</td>\n",
       "      <td>314</td>\n",
       "      <td>0.0</td>\n",
       "      <td>A</td>\n",
       "      <td>136646000</td>\n",
       "      <td>332510</td>\n",
       "      <td>0.0</td>\n",
       "      <td>3.0</td>\n",
       "      <td>1590.0</td>\n",
       "      <td>1595.0</td>\n",
       "    </tr>\n",
       "    <tr>\n",
       "      <th>2179</th>\n",
       "      <td>N2085</td>\n",
       "      <td>1339</td>\n",
       "      <td>아파트</td>\n",
       "      <td>서울특별시</td>\n",
       "      <td>공공임대(분납)</td>\n",
       "      <td>84.39</td>\n",
       "      <td>4</td>\n",
       "      <td>0.0</td>\n",
       "      <td>A</td>\n",
       "      <td>136628000</td>\n",
       "      <td>332460</td>\n",
       "      <td>0.0</td>\n",
       "      <td>3.0</td>\n",
       "      <td>1590.0</td>\n",
       "      <td>1595.0</td>\n",
       "    </tr>\n",
       "  </tbody>\n",
       "</table>\n",
       "</div>"
      ],
      "text/plain": [
       "       단지코드  총세대수 임대건물구분     지역       공급유형   전용면적  전용면적별세대수  공가수 자격유형  \\\n",
       "2029  N2085  1339    아파트  서울특별시       장기전세  23.32        51  9.0    A   \n",
       "2030  N2085  1339    아파트  서울특별시       장기전세  46.79         4  9.0    A   \n",
       "2031  N2085  1339    아파트  서울특별시       장기전세  46.91        69  9.0    A   \n",
       "2032  N2085  1339    아파트  서울특별시       장기전세  51.96        24  9.0    A   \n",
       "2033  N2085  1339    아파트  서울특별시       장기전세  51.99        80  9.0    A   \n",
       "2034  N2085  1339    아파트  서울특별시       장기전세  59.93       142  9.0    A   \n",
       "2172  N2085  1339    아파트  서울특별시  공공임대(10년)  51.96        63  0.0    A   \n",
       "2173  N2085  1339    아파트  서울특별시  공공임대(10년)  51.99        41  0.0    A   \n",
       "2174  N2085  1339    아파트  서울특별시  공공임대(10년)  59.93       315  0.0    A   \n",
       "2175  N2085  1339    아파트  서울특별시   공공임대(분납)  74.80       208  0.0    A   \n",
       "2176  N2085  1339    아파트  서울특별시   공공임대(분납)  84.05        20  0.0    A   \n",
       "2177  N2085  1339    아파트  서울특별시   공공임대(분납)  84.05         4  0.0    A   \n",
       "2178  N2085  1339    아파트  서울특별시   공공임대(분납)  84.39       314  0.0    A   \n",
       "2179  N2085  1339    아파트  서울특별시   공공임대(분납)  84.39         4  0.0    A   \n",
       "\n",
       "          임대보증금     임대료  10분내지하철수  10분내버스정류장수  단지내주차면수   등록차량수  \n",
       "2029   87444000       -       0.0         3.0   1590.0  1595.0  \n",
       "2030  174888000       -       0.0         3.0   1590.0  1595.0  \n",
       "2031  174888000       -       0.0         3.0   1590.0  1595.0  \n",
       "2032  194562000       -       0.0         3.0   1590.0  1595.0  \n",
       "2033  194562000       -       0.0         3.0   1590.0  1595.0  \n",
       "2034  216423000       -       0.0         3.0   1590.0  1595.0  \n",
       "2172   47001000  602270       0.0         3.0   1590.0  1595.0  \n",
       "2173   47001000  602270       0.0         3.0   1590.0  1595.0  \n",
       "2174   61210000  695170       0.0         3.0   1590.0  1595.0  \n",
       "2175  120611000  293490       0.0         3.0   1590.0  1595.0  \n",
       "2176  135521000  329770       0.0         3.0   1590.0  1595.0  \n",
       "2177  135531000  329790       0.0         3.0   1590.0  1595.0  \n",
       "2178  136646000  332510       0.0         3.0   1590.0  1595.0  \n",
       "2179  136628000  332460       0.0         3.0   1590.0  1595.0  "
      ]
     },
     "execution_count": 324,
     "metadata": {},
     "output_type": "execute_result"
    }
   ],
   "source": [
    "train.loc[train['단지코드']=='N2085', : ]"
   ]
  },
  {
   "cell_type": "markdown",
   "metadata": {},
   "source": [
    "### 오류 코드 변경\n",
    "* C2431, C1649의 총세대수를 1047로 변경\n",
    "* C2431, C1649의 등록차량대수를 1214로 변경\n",
    "* \n",
    "C2431, C1649의 단지코드를 N2431로 변경"
   ]
  },
  {
   "cell_type": "code",
   "execution_count": 325,
   "metadata": {},
   "outputs": [
    {
     "name": "stdout",
     "output_type": "stream",
     "text": [
      "(0, 15) (0, 15)\n",
      "Series([], Name: 총세대수, dtype: int64) Series([], Name: 총세대수, dtype: int64)\n",
      "Series([], Name: 등록차량수, dtype: float64) Series([], Name: 등록차량수, dtype: float64)\n"
     ]
    }
   ],
   "source": [
    "a = train.loc[train['단지코드']=='C2431', : ]\n",
    "b = train.loc[train['단지코드']=='C1649', : ]\n",
    "\n",
    "print(a.shape, b.shape)\n",
    "print(a['총세대수'], b['총세대수'])\n",
    "print(a['등록차량수'], b['등록차량수'])"
   ]
  },
  {
   "cell_type": "code",
   "execution_count": 326,
   "metadata": {},
   "outputs": [],
   "source": [
    "train.loc[ train['단지코드']=='C2431',  \"총세대수\" ] = 1047\n",
    "train.loc[ train['단지코드']=='C1649',  \"총세대수\" ] = 1047\n",
    "\n",
    "train.loc[ train['단지코드']=='C2431',  \"등록차량수\" ] = 1214\n",
    "train.loc[ train['단지코드']=='C1649',  \"등록차량수\" ] = 1214\n",
    "\n",
    "train.loc[ train['단지코드']=='C2431',  \"단지코드\" ] = 'N2431'\n",
    "train.loc[ train['단지코드']=='C1649',  \"단지코드\" ] = 'N2431'"
   ]
  },
  {
   "cell_type": "code",
   "execution_count": 327,
   "metadata": {},
   "outputs": [
    {
     "data": {
      "text/plain": [
       "(6, 15)"
      ]
     },
     "execution_count": 327,
     "metadata": {},
     "output_type": "execute_result"
    }
   ],
   "source": [
    "train.loc[ train['단지코드']=='N2431', : ].shape"
   ]
  },
  {
   "cell_type": "markdown",
   "metadata": {},
   "source": [
    "### 오류 코드 변경\n",
    "* C1036의 총세대수를 1243로 변경\n",
    "* C1036의 단지코드를 N1036로 변경"
   ]
  },
  {
   "cell_type": "code",
   "execution_count": 328,
   "metadata": {},
   "outputs": [
    {
     "data": {
      "text/plain": [
       "((0, 15), (0, 15))"
      ]
     },
     "execution_count": 328,
     "metadata": {},
     "output_type": "execute_result"
    }
   ],
   "source": [
    "a = train.loc[train['단지코드']=='C2675', : ]\n",
    "b = train.loc[train['단지코드']=='C1036', : ]\n",
    "a.shape, b.shape"
   ]
  },
  {
   "cell_type": "code",
   "execution_count": 329,
   "metadata": {},
   "outputs": [],
   "source": [
    "train.loc[train['단지코드']=='C1036',  \"총세대수\"] = 1243\n",
    "train.loc[train['단지코드']=='C1036',  \"단지코드\"] = 'N1036'"
   ]
  },
  {
   "cell_type": "code",
   "execution_count": 330,
   "metadata": {},
   "outputs": [
    {
     "data": {
      "text/plain": [
       "(7, 15)"
      ]
     },
     "execution_count": 330,
     "metadata": {},
     "output_type": "execute_result"
    }
   ],
   "source": [
    "train.loc[ train['단지코드']=='N1036', : ].shape"
   ]
  },
  {
   "cell_type": "markdown",
   "metadata": {},
   "source": [
    "### 오류 3\n",
    "3. 단지코드 등 기입 실수로 데이터 정제 과정에서 매칭 오류 발생  \n",
    " - (오류 내용) 단지코드 등 기입 실수로 총세대수가 주차면수에 비해 과하게 많거나 적은 경우가 발생하였고, 점검 결과 일부 데이터의 단지코드, 총세대수, 주차면수 등에서 오류가 검출되었습니다.\n",
    " - (발생 원인) 원천데이터 수집 과정에서 단지 코드 등이 잘못 기입되었고 이를 인지하지 못한 채 데이터 정제를 하여 오류가 발생하였습니다.\n",
    " - (관련 데이터) 아래와 같이 총 9개 단지에서 같은 문제가 확인되었습니다. \n",
    "※ 실수가 발생한 단지 코드 (9개 단지) : ['C2335', 'C1327', 'C1095', 'C2051', 'C1218', 'C1894', 'C2483', 'C1502', 'C1988']\n",
    " - C2335, C1327 단지는 테스트셋, 나머지는 트레인셋 입니다."
   ]
  },
  {
   "cell_type": "markdown",
   "metadata": {},
   "source": [
    "#### 오류 처리\n",
    "* train 데이터 셋에 오류 발생 코드를 ERR04로 변경 후, 데이터 셋을 두개로 분리"
   ]
  },
  {
   "cell_type": "code",
   "execution_count": 331,
   "metadata": {},
   "outputs": [],
   "source": [
    "train.loc[ train['단지코드']=='C1095',  \"단지코드\" ] = 'ERR04_1095'\n",
    "train.loc[ train['단지코드']=='C2051',  \"단지코드\" ] = 'ERR04_2051'\n",
    "train.loc[ train['단지코드']=='C1218',  \"단지코드\" ] = 'ERR04_1218'\n",
    "train.loc[ train['단지코드']=='C1894',  \"단지코드\" ] = 'ERR04_1894'\n",
    "train.loc[ train['단지코드']=='C2483',  \"단지코드\" ] = 'ERR04_2483'\n",
    "train.loc[ train['단지코드']=='C1502',  \"단지코드\" ] = 'ERR04_1502'\n",
    "train.loc[ train['단지코드']=='C1988',  \"단지코드\" ] = 'ERR04_1988'"
   ]
  },
  {
   "cell_type": "code",
   "execution_count": 332,
   "metadata": {},
   "outputs": [
    {
     "data": {
      "text/plain": [
       "(0, 15)"
      ]
     },
     "execution_count": 332,
     "metadata": {},
     "output_type": "execute_result"
    }
   ],
   "source": [
    "train.loc[ train['단지코드'].str.contains('ERR'), :].shape"
   ]
  },
  {
   "cell_type": "code",
   "execution_count": 333,
   "metadata": {},
   "outputs": [
    {
     "data": {
      "text/html": [
       "<div>\n",
       "<style scoped>\n",
       "    .dataframe tbody tr th:only-of-type {\n",
       "        vertical-align: middle;\n",
       "    }\n",
       "\n",
       "    .dataframe tbody tr th {\n",
       "        vertical-align: top;\n",
       "    }\n",
       "\n",
       "    .dataframe thead th {\n",
       "        text-align: right;\n",
       "    }\n",
       "</style>\n",
       "<table border=\"1\" class=\"dataframe\">\n",
       "  <thead>\n",
       "    <tr style=\"text-align: right;\">\n",
       "      <th></th>\n",
       "      <th>단지코드</th>\n",
       "      <th>총세대수</th>\n",
       "      <th>임대건물구분</th>\n",
       "      <th>지역</th>\n",
       "      <th>공급유형</th>\n",
       "      <th>전용면적</th>\n",
       "      <th>전용면적별세대수</th>\n",
       "      <th>공가수</th>\n",
       "      <th>자격유형</th>\n",
       "      <th>임대보증금</th>\n",
       "      <th>임대료</th>\n",
       "      <th>10분내지하철수</th>\n",
       "      <th>10분내버스정류장수</th>\n",
       "      <th>단지내주차면수</th>\n",
       "      <th>등록차량수</th>\n",
       "    </tr>\n",
       "  </thead>\n",
       "  <tbody>\n",
       "  </tbody>\n",
       "</table>\n",
       "</div>"
      ],
      "text/plain": [
       "Empty DataFrame\n",
       "Columns: [단지코드, 총세대수, 임대건물구분, 지역, 공급유형, 전용면적, 전용면적별세대수, 공가수, 자격유형, 임대보증금, 임대료, 10분내지하철수, 10분내버스정류장수, 단지내주차면수, 등록차량수]\n",
       "Index: []"
      ]
     },
     "execution_count": 333,
     "metadata": {},
     "output_type": "execute_result"
    }
   ],
   "source": [
    "train.loc[train['단지코드'].str.contains('ERR'), :]"
   ]
  },
  {
   "cell_type": "markdown",
   "metadata": {},
   "source": [
    "### 데이터 오류 처리 후, csv파일 만들기"
   ]
  },
  {
   "cell_type": "code",
   "execution_count": 334,
   "metadata": {},
   "outputs": [],
   "source": [
    "train_df = train.copy()\n",
    "train_df_errno = train.loc[ ~train['단지코드'].str.contains('ERR'), :]"
   ]
  },
  {
   "cell_type": "code",
   "execution_count": 335,
   "metadata": {},
   "outputs": [],
   "source": [
    "train_df.to_csv('train')"
   ]
  },
  {
   "cell_type": "markdown",
   "metadata": {},
   "source": [
    "### 결측치 처리"
   ]
  },
  {
   "cell_type": "code",
   "execution_count": 336,
   "metadata": {},
   "outputs": [
    {
     "data": {
      "text/plain": [
       "단지코드            0\n",
       "총세대수            0\n",
       "임대건물구분          0\n",
       "지역              0\n",
       "공급유형            0\n",
       "전용면적            0\n",
       "전용면적별세대수        0\n",
       "공가수             0\n",
       "자격유형            0\n",
       "임대보증금         569\n",
       "임대료           569\n",
       "10분내지하철수      211\n",
       "10분내버스정류장수      4\n",
       "단지내주차면수         0\n",
       "등록차량수           0\n",
       "dtype: int64"
      ]
     },
     "execution_count": 336,
     "metadata": {},
     "output_type": "execute_result"
    }
   ],
   "source": [
    "train.isnull().sum()"
   ]
  },
  {
   "cell_type": "code",
   "execution_count": 337,
   "metadata": {},
   "outputs": [
    {
     "data": {
      "text/plain": [
       "단지코드            0\n",
       "총세대수            0\n",
       "임대건물구분          0\n",
       "지역              0\n",
       "공급유형            0\n",
       "전용면적            0\n",
       "전용면적별세대수        0\n",
       "공가수             0\n",
       "자격유형            2\n",
       "임대보증금         180\n",
       "임대료           180\n",
       "10분내지하철수       42\n",
       "10분내버스정류장수      0\n",
       "단지내주차면수         0\n",
       "dtype: int64"
      ]
     },
     "execution_count": 337,
     "metadata": {},
     "output_type": "execute_result"
    }
   ],
   "source": [
    "test.isnull().sum()"
   ]
  },
  {
   "cell_type": "code",
   "execution_count": 338,
   "metadata": {},
   "outputs": [
    {
     "data": {
      "text/plain": [
       "array(['경상남도', '대전광역시', '경기도', '전라북도', '강원도', '광주광역시', '충청남도', '부산광역시',\n",
       "       '제주특별자치도', '울산광역시', '충청북도', '전라남도', '경상북도', '대구광역시', '서울특별시',\n",
       "       '세종특별자치시'], dtype=object)"
      ]
     },
     "execution_count": 338,
     "metadata": {},
     "output_type": "execute_result"
    }
   ],
   "source": [
    "train['지역'].unique()"
   ]
  },
  {
   "cell_type": "code",
   "execution_count": 339,
   "metadata": {},
   "outputs": [
    {
     "data": {
      "text/plain": [
       "array(['경기도', '부산광역시', '전라북도', '경상남도', '충청남도', '대전광역시', '제주특별자치도', '강원도',\n",
       "       '울산광역시', '경상북도', '충청북도', '광주광역시', '전라남도', '대구광역시', '세종특별자치시'],\n",
       "      dtype=object)"
      ]
     },
     "execution_count": 339,
     "metadata": {},
     "output_type": "execute_result"
    }
   ],
   "source": [
    "test['지역'].unique()"
   ]
  },
  {
   "cell_type": "code",
   "execution_count": 340,
   "metadata": {},
   "outputs": [
    {
     "data": {
      "text/plain": [
       "경기도        602\n",
       "경상남도       369\n",
       "부산광역시      328\n",
       "대전광역시      266\n",
       "강원도        187\n",
       "충청북도       163\n",
       "충청남도       158\n",
       "전라남도       147\n",
       "광주광역시      141\n",
       "경상북도       111\n",
       "전라북도       109\n",
       "대구광역시      102\n",
       "제주특별자치도     91\n",
       "서울특별시       64\n",
       "울산광역시       34\n",
       "세종특별자치시     24\n",
       "Name: 지역, dtype: int64"
      ]
     },
     "execution_count": 340,
     "metadata": {},
     "output_type": "execute_result"
    }
   ],
   "source": [
    "train['지역'].value_counts()"
   ]
  },
  {
   "cell_type": "code",
   "execution_count": 341,
   "metadata": {},
   "outputs": [
    {
     "data": {
      "text/plain": [
       "경기도        259\n",
       "강원도        106\n",
       "부산광역시       88\n",
       "경상남도        85\n",
       "울산광역시       73\n",
       "경상북도        58\n",
       "대전광역시       56\n",
       "충청북도        51\n",
       "광주광역시       46\n",
       "충청남도        41\n",
       "전라북도        41\n",
       "전라남도        37\n",
       "대구광역시       36\n",
       "제주특별자치도     26\n",
       "세종특별자치시     19\n",
       "Name: 지역, dtype: int64"
      ]
     },
     "execution_count": 341,
     "metadata": {},
     "output_type": "execute_result"
    }
   ],
   "source": [
    "test['지역'].value_counts()"
   ]
  },
  {
   "cell_type": "code",
   "execution_count": 342,
   "metadata": {},
   "outputs": [
    {
     "data": {
      "text/html": [
       "<div>\n",
       "<style scoped>\n",
       "    .dataframe tbody tr th:only-of-type {\n",
       "        vertical-align: middle;\n",
       "    }\n",
       "\n",
       "    .dataframe tbody tr th {\n",
       "        vertical-align: top;\n",
       "    }\n",
       "\n",
       "    .dataframe thead th {\n",
       "        text-align: right;\n",
       "    }\n",
       "</style>\n",
       "<table border=\"1\" class=\"dataframe\">\n",
       "  <thead>\n",
       "    <tr style=\"text-align: right;\">\n",
       "      <th></th>\n",
       "      <th>단지코드</th>\n",
       "      <th>총세대수</th>\n",
       "      <th>임대건물구분</th>\n",
       "      <th>지역</th>\n",
       "      <th>공급유형</th>\n",
       "      <th>전용면적</th>\n",
       "      <th>전용면적별세대수</th>\n",
       "      <th>공가수</th>\n",
       "      <th>자격유형</th>\n",
       "      <th>임대보증금</th>\n",
       "      <th>임대료</th>\n",
       "      <th>10분내지하철수</th>\n",
       "      <th>10분내버스정류장수</th>\n",
       "      <th>단지내주차면수</th>\n",
       "    </tr>\n",
       "  </thead>\n",
       "  <tbody>\n",
       "    <tr>\n",
       "      <th>196</th>\n",
       "      <td>C2411</td>\n",
       "      <td>962</td>\n",
       "      <td>아파트</td>\n",
       "      <td>경상남도</td>\n",
       "      <td>국민임대</td>\n",
       "      <td>46.90</td>\n",
       "      <td>240</td>\n",
       "      <td>25.0</td>\n",
       "      <td>NaN</td>\n",
       "      <td>71950000</td>\n",
       "      <td>37470</td>\n",
       "      <td>0.0</td>\n",
       "      <td>2.0</td>\n",
       "      <td>840.0</td>\n",
       "    </tr>\n",
       "    <tr>\n",
       "      <th>258</th>\n",
       "      <td>C2253</td>\n",
       "      <td>1161</td>\n",
       "      <td>아파트</td>\n",
       "      <td>강원도</td>\n",
       "      <td>영구임대</td>\n",
       "      <td>26.37</td>\n",
       "      <td>745</td>\n",
       "      <td>0.0</td>\n",
       "      <td>NaN</td>\n",
       "      <td>2249000</td>\n",
       "      <td>44770</td>\n",
       "      <td>0.0</td>\n",
       "      <td>2.0</td>\n",
       "      <td>173.0</td>\n",
       "    </tr>\n",
       "  </tbody>\n",
       "</table>\n",
       "</div>"
      ],
      "text/plain": [
       "      단지코드  총세대수 임대건물구분    지역  공급유형   전용면적  전용면적별세대수   공가수 자격유형     임대보증금  \\\n",
       "196  C2411   962    아파트  경상남도  국민임대  46.90       240  25.0  NaN  71950000   \n",
       "258  C2253  1161    아파트   강원도  영구임대  26.37       745   0.0  NaN   2249000   \n",
       "\n",
       "       임대료  10분내지하철수  10분내버스정류장수  단지내주차면수  \n",
       "196  37470       0.0         2.0    840.0  \n",
       "258  44770       0.0         2.0    173.0  "
      ]
     },
     "execution_count": 342,
     "metadata": {},
     "output_type": "execute_result"
    }
   ],
   "source": [
    "test.loc[test['자격유형'].isnull()]"
   ]
  },
  {
   "cell_type": "code",
   "execution_count": 343,
   "metadata": {},
   "outputs": [
    {
     "data": {
      "text/plain": [
       "단지코드             C2411\n",
       "총세대수               962\n",
       "임대건물구분             아파트\n",
       "지역                경상남도\n",
       "공급유형              국민임대\n",
       "전용면적              46.9\n",
       "전용면적별세대수           240\n",
       "공가수                 25\n",
       "자격유형               NaN\n",
       "임대보증금         71950000\n",
       "임대료              37470\n",
       "10분내지하철수             0\n",
       "10분내버스정류장수           2\n",
       "단지내주차면수            840\n",
       "Name: 196, dtype: object"
      ]
     },
     "execution_count": 343,
     "metadata": {},
     "output_type": "execute_result"
    }
   ],
   "source": [
    "test.loc[196,:]"
   ]
  },
  {
   "cell_type": "code",
   "execution_count": 344,
   "metadata": {},
   "outputs": [
    {
     "data": {
      "text/html": [
       "<div>\n",
       "<style scoped>\n",
       "    .dataframe tbody tr th:only-of-type {\n",
       "        vertical-align: middle;\n",
       "    }\n",
       "\n",
       "    .dataframe tbody tr th {\n",
       "        vertical-align: top;\n",
       "    }\n",
       "\n",
       "    .dataframe thead th {\n",
       "        text-align: right;\n",
       "    }\n",
       "</style>\n",
       "<table border=\"1\" class=\"dataframe\">\n",
       "  <thead>\n",
       "    <tr style=\"text-align: right;\">\n",
       "      <th></th>\n",
       "      <th>단지코드</th>\n",
       "      <th>총세대수</th>\n",
       "      <th>임대건물구분</th>\n",
       "      <th>지역</th>\n",
       "      <th>공급유형</th>\n",
       "      <th>전용면적</th>\n",
       "      <th>전용면적별세대수</th>\n",
       "      <th>공가수</th>\n",
       "      <th>자격유형</th>\n",
       "      <th>임대보증금</th>\n",
       "      <th>임대료</th>\n",
       "      <th>10분내지하철수</th>\n",
       "      <th>10분내버스정류장수</th>\n",
       "      <th>단지내주차면수</th>\n",
       "    </tr>\n",
       "  </thead>\n",
       "  <tbody>\n",
       "    <tr>\n",
       "      <th>193</th>\n",
       "      <td>C2411</td>\n",
       "      <td>962</td>\n",
       "      <td>아파트</td>\n",
       "      <td>경상남도</td>\n",
       "      <td>국민임대</td>\n",
       "      <td>39.43</td>\n",
       "      <td>56</td>\n",
       "      <td>25.0</td>\n",
       "      <td>A</td>\n",
       "      <td>11992000</td>\n",
       "      <td>100720</td>\n",
       "      <td>0.0</td>\n",
       "      <td>2.0</td>\n",
       "      <td>840.0</td>\n",
       "    </tr>\n",
       "    <tr>\n",
       "      <th>194</th>\n",
       "      <td>C2411</td>\n",
       "      <td>962</td>\n",
       "      <td>아파트</td>\n",
       "      <td>경상남도</td>\n",
       "      <td>국민임대</td>\n",
       "      <td>39.72</td>\n",
       "      <td>336</td>\n",
       "      <td>25.0</td>\n",
       "      <td>A</td>\n",
       "      <td>11992000</td>\n",
       "      <td>100720</td>\n",
       "      <td>0.0</td>\n",
       "      <td>2.0</td>\n",
       "      <td>840.0</td>\n",
       "    </tr>\n",
       "    <tr>\n",
       "      <th>195</th>\n",
       "      <td>C2411</td>\n",
       "      <td>962</td>\n",
       "      <td>아파트</td>\n",
       "      <td>경상남도</td>\n",
       "      <td>국민임대</td>\n",
       "      <td>39.82</td>\n",
       "      <td>179</td>\n",
       "      <td>25.0</td>\n",
       "      <td>A</td>\n",
       "      <td>11992000</td>\n",
       "      <td>100720</td>\n",
       "      <td>0.0</td>\n",
       "      <td>2.0</td>\n",
       "      <td>840.0</td>\n",
       "    </tr>\n",
       "    <tr>\n",
       "      <th>196</th>\n",
       "      <td>C2411</td>\n",
       "      <td>962</td>\n",
       "      <td>아파트</td>\n",
       "      <td>경상남도</td>\n",
       "      <td>국민임대</td>\n",
       "      <td>46.90</td>\n",
       "      <td>240</td>\n",
       "      <td>25.0</td>\n",
       "      <td>NaN</td>\n",
       "      <td>71950000</td>\n",
       "      <td>37470</td>\n",
       "      <td>0.0</td>\n",
       "      <td>2.0</td>\n",
       "      <td>840.0</td>\n",
       "    </tr>\n",
       "    <tr>\n",
       "      <th>197</th>\n",
       "      <td>C2411</td>\n",
       "      <td>962</td>\n",
       "      <td>아파트</td>\n",
       "      <td>경상남도</td>\n",
       "      <td>국민임대</td>\n",
       "      <td>51.93</td>\n",
       "      <td>150</td>\n",
       "      <td>25.0</td>\n",
       "      <td>A</td>\n",
       "      <td>21586000</td>\n",
       "      <td>171480</td>\n",
       "      <td>0.0</td>\n",
       "      <td>2.0</td>\n",
       "      <td>840.0</td>\n",
       "    </tr>\n",
       "  </tbody>\n",
       "</table>\n",
       "</div>"
      ],
      "text/plain": [
       "      단지코드  총세대수 임대건물구분    지역  공급유형   전용면적  전용면적별세대수   공가수 자격유형     임대보증금  \\\n",
       "193  C2411   962    아파트  경상남도  국민임대  39.43        56  25.0    A  11992000   \n",
       "194  C2411   962    아파트  경상남도  국민임대  39.72       336  25.0    A  11992000   \n",
       "195  C2411   962    아파트  경상남도  국민임대  39.82       179  25.0    A  11992000   \n",
       "196  C2411   962    아파트  경상남도  국민임대  46.90       240  25.0  NaN  71950000   \n",
       "197  C2411   962    아파트  경상남도  국민임대  51.93       150  25.0    A  21586000   \n",
       "\n",
       "        임대료  10분내지하철수  10분내버스정류장수  단지내주차면수  \n",
       "193  100720       0.0         2.0    840.0  \n",
       "194  100720       0.0         2.0    840.0  \n",
       "195  100720       0.0         2.0    840.0  \n",
       "196   37470       0.0         2.0    840.0  \n",
       "197  171480       0.0         2.0    840.0  "
      ]
     },
     "execution_count": 344,
     "metadata": {},
     "output_type": "execute_result"
    }
   ],
   "source": [
    "grouped = test.groupby(['단지코드', '임대건물구분', '지역','공급유형'])\n",
    "group1 = grouped.get_group( ('C2411', '아파트', '경상남도', '국민임대')  )\n",
    "group1"
   ]
  },
  {
   "cell_type": "code",
   "execution_count": 345,
   "metadata": {},
   "outputs": [
    {
     "data": {
      "text/html": [
       "<div>\n",
       "<style scoped>\n",
       "    .dataframe tbody tr th:only-of-type {\n",
       "        vertical-align: middle;\n",
       "    }\n",
       "\n",
       "    .dataframe tbody tr th {\n",
       "        vertical-align: top;\n",
       "    }\n",
       "\n",
       "    .dataframe thead th {\n",
       "        text-align: right;\n",
       "    }\n",
       "</style>\n",
       "<table border=\"1\" class=\"dataframe\">\n",
       "  <thead>\n",
       "    <tr style=\"text-align: right;\">\n",
       "      <th></th>\n",
       "      <th>단지코드</th>\n",
       "      <th>총세대수</th>\n",
       "      <th>임대건물구분</th>\n",
       "      <th>지역</th>\n",
       "      <th>공급유형</th>\n",
       "      <th>전용면적</th>\n",
       "      <th>전용면적별세대수</th>\n",
       "      <th>공가수</th>\n",
       "      <th>자격유형</th>\n",
       "      <th>임대보증금</th>\n",
       "      <th>임대료</th>\n",
       "      <th>10분내지하철수</th>\n",
       "      <th>10분내버스정류장수</th>\n",
       "      <th>단지내주차면수</th>\n",
       "    </tr>\n",
       "  </thead>\n",
       "  <tbody>\n",
       "    <tr>\n",
       "      <th>258</th>\n",
       "      <td>C2253</td>\n",
       "      <td>1161</td>\n",
       "      <td>아파트</td>\n",
       "      <td>강원도</td>\n",
       "      <td>영구임대</td>\n",
       "      <td>26.37</td>\n",
       "      <td>745</td>\n",
       "      <td>0.0</td>\n",
       "      <td>NaN</td>\n",
       "      <td>2249000</td>\n",
       "      <td>44770</td>\n",
       "      <td>0.0</td>\n",
       "      <td>2.0</td>\n",
       "      <td>173.0</td>\n",
       "    </tr>\n",
       "    <tr>\n",
       "      <th>259</th>\n",
       "      <td>C2253</td>\n",
       "      <td>1161</td>\n",
       "      <td>아파트</td>\n",
       "      <td>강원도</td>\n",
       "      <td>영구임대</td>\n",
       "      <td>31.32</td>\n",
       "      <td>239</td>\n",
       "      <td>0.0</td>\n",
       "      <td>C</td>\n",
       "      <td>3731000</td>\n",
       "      <td>83020</td>\n",
       "      <td>0.0</td>\n",
       "      <td>2.0</td>\n",
       "      <td>173.0</td>\n",
       "    </tr>\n",
       "    <tr>\n",
       "      <th>260</th>\n",
       "      <td>C2253</td>\n",
       "      <td>1161</td>\n",
       "      <td>아파트</td>\n",
       "      <td>강원도</td>\n",
       "      <td>영구임대</td>\n",
       "      <td>31.32</td>\n",
       "      <td>149</td>\n",
       "      <td>0.0</td>\n",
       "      <td>C</td>\n",
       "      <td>3731000</td>\n",
       "      <td>83020</td>\n",
       "      <td>0.0</td>\n",
       "      <td>2.0</td>\n",
       "      <td>173.0</td>\n",
       "    </tr>\n",
       "  </tbody>\n",
       "</table>\n",
       "</div>"
      ],
      "text/plain": [
       "      단지코드  총세대수 임대건물구분   지역  공급유형   전용면적  전용면적별세대수  공가수 자격유형    임대보증금    임대료  \\\n",
       "258  C2253  1161    아파트  강원도  영구임대  26.37       745  0.0  NaN  2249000  44770   \n",
       "259  C2253  1161    아파트  강원도  영구임대  31.32       239  0.0    C  3731000  83020   \n",
       "260  C2253  1161    아파트  강원도  영구임대  31.32       149  0.0    C  3731000  83020   \n",
       "\n",
       "     10분내지하철수  10분내버스정류장수  단지내주차면수  \n",
       "258       0.0         2.0    173.0  \n",
       "259       0.0         2.0    173.0  \n",
       "260       0.0         2.0    173.0  "
      ]
     },
     "execution_count": 345,
     "metadata": {},
     "output_type": "execute_result"
    }
   ],
   "source": [
    "group2 = grouped.get_group(('C2253', '아파트', '강원도', '영구임대'))\n",
    "group2"
   ]
  },
  {
   "cell_type": "code",
   "execution_count": 346,
   "metadata": {},
   "outputs": [],
   "source": [
    "test.loc[196, '자격유형'] = 'A'\n",
    "test.loc[258, '자격유형'] = 'C'"
   ]
  },
  {
   "cell_type": "code",
   "execution_count": 347,
   "metadata": {},
   "outputs": [
    {
     "data": {
      "text/html": [
       "<div>\n",
       "<style scoped>\n",
       "    .dataframe tbody tr th:only-of-type {\n",
       "        vertical-align: middle;\n",
       "    }\n",
       "\n",
       "    .dataframe tbody tr th {\n",
       "        vertical-align: top;\n",
       "    }\n",
       "\n",
       "    .dataframe thead th {\n",
       "        text-align: right;\n",
       "    }\n",
       "</style>\n",
       "<table border=\"1\" class=\"dataframe\">\n",
       "  <thead>\n",
       "    <tr style=\"text-align: right;\">\n",
       "      <th></th>\n",
       "      <th>단지코드</th>\n",
       "      <th>총세대수</th>\n",
       "      <th>임대건물구분</th>\n",
       "      <th>지역</th>\n",
       "      <th>공급유형</th>\n",
       "      <th>전용면적</th>\n",
       "      <th>전용면적별세대수</th>\n",
       "      <th>공가수</th>\n",
       "      <th>자격유형</th>\n",
       "      <th>임대보증금</th>\n",
       "      <th>임대료</th>\n",
       "      <th>10분내지하철수</th>\n",
       "      <th>10분내버스정류장수</th>\n",
       "      <th>단지내주차면수</th>\n",
       "    </tr>\n",
       "  </thead>\n",
       "  <tbody>\n",
       "  </tbody>\n",
       "</table>\n",
       "</div>"
      ],
      "text/plain": [
       "Empty DataFrame\n",
       "Columns: [단지코드, 총세대수, 임대건물구분, 지역, 공급유형, 전용면적, 전용면적별세대수, 공가수, 자격유형, 임대보증금, 임대료, 10분내지하철수, 10분내버스정류장수, 단지내주차면수]\n",
       "Index: []"
      ]
     },
     "execution_count": 347,
     "metadata": {},
     "output_type": "execute_result"
    }
   ],
   "source": [
    "test.loc[test['자격유형'].isnull()]"
   ]
  },
  {
   "cell_type": "code",
   "execution_count": 348,
   "metadata": {},
   "outputs": [
    {
     "name": "stdout",
     "output_type": "stream",
     "text": [
      "['A' 'B' 'C' 'D' 'E' 'F' 'G' 'H' 'I' 'J' 'K' 'L' 'M' 'N' 'O']\n",
      "['H' 'A' 'E' 'C' 'D' 'G' 'I' 'J' 'K' 'L' 'M' 'N']\n"
     ]
    }
   ],
   "source": [
    "print(train.자격유형.unique())\n",
    "print(test.자격유형.unique())"
   ]
  },
  {
   "cell_type": "code",
   "execution_count": 349,
   "metadata": {},
   "outputs": [],
   "source": [
    "mapping = {'A':1, 'B':2, 'C':3, 'D':4, 'E':5, \n",
    "           'F':6, 'G':7, 'H':8, 'I':9, 'J':10,\n",
    "           'K':11, 'L':12, 'M':13, 'N':14, 'O':15}\n",
    "train['자격유형'] = train['자격유형'].map(mapping).astype(int)\n",
    "test['자격유형'] =test['자격유형'].map(mapping).astype(int)"
   ]
  },
  {
   "cell_type": "code",
   "execution_count": 350,
   "metadata": {},
   "outputs": [
    {
     "data": {
      "text/plain": [
       "Index(['단지코드', '총세대수', '임대건물구분', '지역', '공급유형', '전용면적', '전용면적별세대수', '공가수',\n",
       "       '자격유형', '임대보증금', '임대료', '10분내지하철수', '10분내버스정류장수', '단지내주차면수', '등록차량수'],\n",
       "      dtype='object')"
      ]
     },
     "execution_count": 350,
     "metadata": {},
     "output_type": "execute_result"
    }
   ],
   "source": [
    "train.columns"
   ]
  },
  {
   "cell_type": "code",
   "execution_count": 351,
   "metadata": {},
   "outputs": [
    {
     "name": "stdout",
     "output_type": "stream",
     "text": [
      "['아파트' '상가']\n",
      "['아파트' '상가']\n"
     ]
    }
   ],
   "source": [
    "print(train.임대건물구분.unique())\n",
    "print(test.임대건물구분.unique())"
   ]
  },
  {
   "cell_type": "code",
   "execution_count": 352,
   "metadata": {},
   "outputs": [
    {
     "name": "stdout",
     "output_type": "stream",
     "text": [
      "['국민임대' '공공임대(50년)' '영구임대' '임대상가' '공공임대(10년)' '공공임대(분납)' '장기전세' '공공분양'\n",
      " '행복주택' '공공임대(5년)']\n",
      "['국민임대' '영구임대' '임대상가' '공공임대(50년)' '공공임대(10년)' '공공임대(분납)' '행복주택']\n"
     ]
    }
   ],
   "source": [
    "print(train.공급유형.unique())\n",
    "print(test.공급유형.unique())"
   ]
  },
  {
   "cell_type": "code",
   "execution_count": 353,
   "metadata": {},
   "outputs": [],
   "source": [
    "mapping = {'국민임대':1, '영구임대':2, '임대상가':3, '공공임대(50년)':4, '공공임대(10년)':5, \n",
    "           '공공임대(분납)':6, '행복주택':7, '장기전세':8, '공공분양':9, '공공임대(5년)':10,\n",
    "           'K':11, 'L':12, 'M':13, 'N':14, 'O':15}\n",
    "train['공급유형'] = train['공급유형'].map(mapping).astype(int)\n",
    "test['공급유형'] =test['공급유형'].map(mapping).astype(int)"
   ]
  },
  {
   "cell_type": "code",
   "execution_count": 354,
   "metadata": {},
   "outputs": [
    {
     "data": {
      "text/html": [
       "<div>\n",
       "<style scoped>\n",
       "    .dataframe tbody tr th:only-of-type {\n",
       "        vertical-align: middle;\n",
       "    }\n",
       "\n",
       "    .dataframe tbody tr th {\n",
       "        vertical-align: top;\n",
       "    }\n",
       "\n",
       "    .dataframe thead th {\n",
       "        text-align: right;\n",
       "    }\n",
       "</style>\n",
       "<table border=\"1\" class=\"dataframe\">\n",
       "  <thead>\n",
       "    <tr style=\"text-align: right;\">\n",
       "      <th></th>\n",
       "      <th>단지코드</th>\n",
       "      <th>총세대수</th>\n",
       "      <th>임대건물구분</th>\n",
       "      <th>지역</th>\n",
       "      <th>공급유형</th>\n",
       "      <th>전용면적</th>\n",
       "      <th>전용면적별세대수</th>\n",
       "      <th>공가수</th>\n",
       "      <th>자격유형</th>\n",
       "      <th>임대보증금</th>\n",
       "      <th>임대료</th>\n",
       "      <th>10분내지하철수</th>\n",
       "      <th>10분내버스정류장수</th>\n",
       "      <th>단지내주차면수</th>\n",
       "    </tr>\n",
       "  </thead>\n",
       "  <tbody>\n",
       "    <tr>\n",
       "      <th>0</th>\n",
       "      <td>C1072</td>\n",
       "      <td>754</td>\n",
       "      <td>아파트</td>\n",
       "      <td>경기도</td>\n",
       "      <td>1</td>\n",
       "      <td>39.79</td>\n",
       "      <td>116</td>\n",
       "      <td>14.0</td>\n",
       "      <td>8</td>\n",
       "      <td>22830000</td>\n",
       "      <td>189840</td>\n",
       "      <td>0.0</td>\n",
       "      <td>2.0</td>\n",
       "      <td>683.0</td>\n",
       "    </tr>\n",
       "    <tr>\n",
       "      <th>1</th>\n",
       "      <td>C1072</td>\n",
       "      <td>754</td>\n",
       "      <td>아파트</td>\n",
       "      <td>경기도</td>\n",
       "      <td>1</td>\n",
       "      <td>46.81</td>\n",
       "      <td>30</td>\n",
       "      <td>14.0</td>\n",
       "      <td>1</td>\n",
       "      <td>36048000</td>\n",
       "      <td>249930</td>\n",
       "      <td>0.0</td>\n",
       "      <td>2.0</td>\n",
       "      <td>683.0</td>\n",
       "    </tr>\n",
       "    <tr>\n",
       "      <th>2</th>\n",
       "      <td>C1072</td>\n",
       "      <td>754</td>\n",
       "      <td>아파트</td>\n",
       "      <td>경기도</td>\n",
       "      <td>1</td>\n",
       "      <td>46.90</td>\n",
       "      <td>112</td>\n",
       "      <td>14.0</td>\n",
       "      <td>8</td>\n",
       "      <td>36048000</td>\n",
       "      <td>249930</td>\n",
       "      <td>0.0</td>\n",
       "      <td>2.0</td>\n",
       "      <td>683.0</td>\n",
       "    </tr>\n",
       "    <tr>\n",
       "      <th>3</th>\n",
       "      <td>C1072</td>\n",
       "      <td>754</td>\n",
       "      <td>아파트</td>\n",
       "      <td>경기도</td>\n",
       "      <td>1</td>\n",
       "      <td>46.90</td>\n",
       "      <td>120</td>\n",
       "      <td>14.0</td>\n",
       "      <td>8</td>\n",
       "      <td>36048000</td>\n",
       "      <td>249930</td>\n",
       "      <td>0.0</td>\n",
       "      <td>2.0</td>\n",
       "      <td>683.0</td>\n",
       "    </tr>\n",
       "    <tr>\n",
       "      <th>4</th>\n",
       "      <td>C1072</td>\n",
       "      <td>754</td>\n",
       "      <td>아파트</td>\n",
       "      <td>경기도</td>\n",
       "      <td>1</td>\n",
       "      <td>51.46</td>\n",
       "      <td>60</td>\n",
       "      <td>14.0</td>\n",
       "      <td>8</td>\n",
       "      <td>43497000</td>\n",
       "      <td>296780</td>\n",
       "      <td>0.0</td>\n",
       "      <td>2.0</td>\n",
       "      <td>683.0</td>\n",
       "    </tr>\n",
       "  </tbody>\n",
       "</table>\n",
       "</div>"
      ],
      "text/plain": [
       "    단지코드  총세대수 임대건물구분   지역  공급유형   전용면적  전용면적별세대수   공가수  자격유형     임대보증금  \\\n",
       "0  C1072   754    아파트  경기도     1  39.79       116  14.0     8  22830000   \n",
       "1  C1072   754    아파트  경기도     1  46.81        30  14.0     1  36048000   \n",
       "2  C1072   754    아파트  경기도     1  46.90       112  14.0     8  36048000   \n",
       "3  C1072   754    아파트  경기도     1  46.90       120  14.0     8  36048000   \n",
       "4  C1072   754    아파트  경기도     1  51.46        60  14.0     8  43497000   \n",
       "\n",
       "      임대료  10분내지하철수  10분내버스정류장수  단지내주차면수  \n",
       "0  189840       0.0         2.0    683.0  \n",
       "1  249930       0.0         2.0    683.0  \n",
       "2  249930       0.0         2.0    683.0  \n",
       "3  249930       0.0         2.0    683.0  \n",
       "4  296780       0.0         2.0    683.0  "
      ]
     },
     "execution_count": 354,
     "metadata": {},
     "output_type": "execute_result"
    }
   ],
   "source": [
    "test.head()"
   ]
  },
  {
   "cell_type": "code",
   "execution_count": 355,
   "metadata": {},
   "outputs": [],
   "source": [
    "mapping_region = {'경기도':1, '부산광역시':2, '전라북도':3, '경상남도':4, '충청남도':5, '대전광역시':6, '제주특별자치도':7, \n",
    "                  '강원도':8, '울산광역시':9, '경상북도':10, '충청북도':11, '광주광역시':12, '전라남도':13, \n",
    "                  '대구광역시':14, '세종특별자치시':15, '서울특별시':16}\n",
    "train['지역'] = train['지역'].map(mapping_region).astype(int)\n",
    "test['지역'] = test['지역'].map(mapping_region).astype(int)"
   ]
  },
  {
   "cell_type": "code",
   "execution_count": 356,
   "metadata": {},
   "outputs": [
    {
     "data": {
      "text/html": [
       "<div>\n",
       "<style scoped>\n",
       "    .dataframe tbody tr th:only-of-type {\n",
       "        vertical-align: middle;\n",
       "    }\n",
       "\n",
       "    .dataframe tbody tr th {\n",
       "        vertical-align: top;\n",
       "    }\n",
       "\n",
       "    .dataframe thead th {\n",
       "        text-align: right;\n",
       "    }\n",
       "</style>\n",
       "<table border=\"1\" class=\"dataframe\">\n",
       "  <thead>\n",
       "    <tr style=\"text-align: right;\">\n",
       "      <th></th>\n",
       "      <th>단지코드</th>\n",
       "      <th>총세대수</th>\n",
       "      <th>임대건물구분</th>\n",
       "      <th>지역</th>\n",
       "      <th>공급유형</th>\n",
       "      <th>전용면적</th>\n",
       "      <th>전용면적별세대수</th>\n",
       "      <th>공가수</th>\n",
       "      <th>자격유형</th>\n",
       "      <th>임대보증금</th>\n",
       "      <th>임대료</th>\n",
       "      <th>10분내지하철수</th>\n",
       "      <th>10분내버스정류장수</th>\n",
       "      <th>단지내주차면수</th>\n",
       "    </tr>\n",
       "  </thead>\n",
       "  <tbody>\n",
       "    <tr>\n",
       "      <th>0</th>\n",
       "      <td>C1072</td>\n",
       "      <td>754</td>\n",
       "      <td>아파트</td>\n",
       "      <td>1</td>\n",
       "      <td>1</td>\n",
       "      <td>39.79</td>\n",
       "      <td>116</td>\n",
       "      <td>14.0</td>\n",
       "      <td>8</td>\n",
       "      <td>22830000</td>\n",
       "      <td>189840</td>\n",
       "      <td>0.0</td>\n",
       "      <td>2.0</td>\n",
       "      <td>683.0</td>\n",
       "    </tr>\n",
       "    <tr>\n",
       "      <th>1</th>\n",
       "      <td>C1072</td>\n",
       "      <td>754</td>\n",
       "      <td>아파트</td>\n",
       "      <td>1</td>\n",
       "      <td>1</td>\n",
       "      <td>46.81</td>\n",
       "      <td>30</td>\n",
       "      <td>14.0</td>\n",
       "      <td>1</td>\n",
       "      <td>36048000</td>\n",
       "      <td>249930</td>\n",
       "      <td>0.0</td>\n",
       "      <td>2.0</td>\n",
       "      <td>683.0</td>\n",
       "    </tr>\n",
       "    <tr>\n",
       "      <th>2</th>\n",
       "      <td>C1072</td>\n",
       "      <td>754</td>\n",
       "      <td>아파트</td>\n",
       "      <td>1</td>\n",
       "      <td>1</td>\n",
       "      <td>46.90</td>\n",
       "      <td>112</td>\n",
       "      <td>14.0</td>\n",
       "      <td>8</td>\n",
       "      <td>36048000</td>\n",
       "      <td>249930</td>\n",
       "      <td>0.0</td>\n",
       "      <td>2.0</td>\n",
       "      <td>683.0</td>\n",
       "    </tr>\n",
       "    <tr>\n",
       "      <th>3</th>\n",
       "      <td>C1072</td>\n",
       "      <td>754</td>\n",
       "      <td>아파트</td>\n",
       "      <td>1</td>\n",
       "      <td>1</td>\n",
       "      <td>46.90</td>\n",
       "      <td>120</td>\n",
       "      <td>14.0</td>\n",
       "      <td>8</td>\n",
       "      <td>36048000</td>\n",
       "      <td>249930</td>\n",
       "      <td>0.0</td>\n",
       "      <td>2.0</td>\n",
       "      <td>683.0</td>\n",
       "    </tr>\n",
       "    <tr>\n",
       "      <th>4</th>\n",
       "      <td>C1072</td>\n",
       "      <td>754</td>\n",
       "      <td>아파트</td>\n",
       "      <td>1</td>\n",
       "      <td>1</td>\n",
       "      <td>51.46</td>\n",
       "      <td>60</td>\n",
       "      <td>14.0</td>\n",
       "      <td>8</td>\n",
       "      <td>43497000</td>\n",
       "      <td>296780</td>\n",
       "      <td>0.0</td>\n",
       "      <td>2.0</td>\n",
       "      <td>683.0</td>\n",
       "    </tr>\n",
       "  </tbody>\n",
       "</table>\n",
       "</div>"
      ],
      "text/plain": [
       "    단지코드  총세대수 임대건물구분  지역  공급유형   전용면적  전용면적별세대수   공가수  자격유형     임대보증금  \\\n",
       "0  C1072   754    아파트   1     1  39.79       116  14.0     8  22830000   \n",
       "1  C1072   754    아파트   1     1  46.81        30  14.0     1  36048000   \n",
       "2  C1072   754    아파트   1     1  46.90       112  14.0     8  36048000   \n",
       "3  C1072   754    아파트   1     1  46.90       120  14.0     8  36048000   \n",
       "4  C1072   754    아파트   1     1  51.46        60  14.0     8  43497000   \n",
       "\n",
       "      임대료  10분내지하철수  10분내버스정류장수  단지내주차면수  \n",
       "0  189840       0.0         2.0    683.0  \n",
       "1  249930       0.0         2.0    683.0  \n",
       "2  249930       0.0         2.0    683.0  \n",
       "3  249930       0.0         2.0    683.0  \n",
       "4  296780       0.0         2.0    683.0  "
      ]
     },
     "execution_count": 356,
     "metadata": {},
     "output_type": "execute_result"
    }
   ],
   "source": [
    "test.head()"
   ]
  },
  {
   "cell_type": "code",
   "execution_count": 357,
   "metadata": {},
   "outputs": [],
   "source": [
    "import numpy as np"
   ]
  },
  {
   "cell_type": "code",
   "execution_count": 358,
   "metadata": {},
   "outputs": [],
   "source": [
    "from sklearn.model_selection import train_test_split\n",
    "from sklearn.linear_model import LinearRegression"
   ]
  },
  {
   "cell_type": "code",
   "execution_count": 359,
   "metadata": {},
   "outputs": [
    {
     "name": "stdout",
     "output_type": "stream",
     "text": [
      "0.1.9\n",
      "0.23.2\n"
     ]
    }
   ],
   "source": [
    "import mglearn\n",
    "import sklearn\n",
    "print(mglearn.__version__)\n",
    "print(sklearn.__version__)"
   ]
  },
  {
   "cell_type": "code",
   "execution_count": 360,
   "metadata": {},
   "outputs": [],
   "source": [
    "sel = ['총세대수', '전용면적', '전용면적별세대수', '공가수',  '단지내주차면수']\n",
    "# sel = ['총세대수']\n",
    "X = train[sel]\n",
    "y = train['등록차량수']"
   ]
  },
  {
   "cell_type": "code",
   "execution_count": 361,
   "metadata": {},
   "outputs": [
    {
     "data": {
      "text/plain": [
       "array([1716.26351813,  348.61048216,  783.88142282,  538.87547451,\n",
       "        107.12306256,  717.12036055,  432.67696112,  276.12112804,\n",
       "        644.72978349,  439.68033293,  143.51540176,  494.95910271,\n",
       "        133.53925635,  399.75694049,  145.68262375,  364.96082204,\n",
       "        -68.76232343,  355.56285592,   93.55394032,  686.73665198,\n",
       "        174.40284374,  602.37853238, 1074.43450639,  659.61381571,\n",
       "        270.0558529 ,  170.86078706,  758.50915285,  738.02907885,\n",
       "        121.57417248,  319.38471893,  414.13886676,  206.39907595,\n",
       "        712.75428592,  121.57417248,  310.86169569, 1295.92061276,\n",
       "        600.57369125,  553.74222917,   85.63062696,  595.35919502,\n",
       "        196.60418203,  705.1233294 ,  379.66124081,  703.09496894,\n",
       "        436.57365574,  272.93553796,  123.76327336,  560.21270074,\n",
       "        178.27701093,  554.51579091,   85.63062696,  581.69831777,\n",
       "        119.71647457,  730.42571704,  214.45463952,   33.5383559 ,\n",
       "        260.0721344 , 1525.31829281,  309.87672253,  656.6802561 ,\n",
       "        374.67773573,  365.46803108,  440.36491519,  865.90884185,\n",
       "         54.35013652,  229.30545197,  118.71167053,  515.13927569,\n",
       "        541.07679331,  545.95886322,  866.67541316,  994.0342455 ,\n",
       "        108.14854738,  379.22344042,  289.0913101 ,  857.50627904,\n",
       "       1441.61117309,  723.39455082,  554.25139129,  481.50831151,\n",
       "        175.84355518,  483.16295257,  896.94344054, 1001.08316881,\n",
       "        120.55033157, 1013.14523391,  729.85541114,  579.38647706,\n",
       "        540.98085762,  526.52486903, 1143.86741979,  794.65642735,\n",
       "         57.45527707,  177.9034117 ,  606.24431178,   66.87691603,\n",
       "         85.63062696,  358.70581212,  118.33943502,  942.60028294,\n",
       "        356.37036649, 1541.0353984 ,  182.37150609,   33.84682212,\n",
       "        819.03132126,  481.40943815,  378.50893924,  773.81128317,\n",
       "        384.17181847,  510.06262178,  899.01612411,  347.67184759,\n",
       "        628.04158618,  -68.76232343,  301.43608874,  391.86629575,\n",
       "        258.26576449,  840.77417025,  349.9023401 , 1379.18494762,\n",
       "       1097.56042662,  319.25112762,  295.39751911,  154.62805292,\n",
       "        972.13251057,  573.38605767,  540.9882698 ,  309.87672253,\n",
       "        734.17452287,  832.45454245, 1184.75174053,  446.23650454,\n",
       "        541.34488341,  188.77095613,  111.82256243,  536.39676166,\n",
       "       1113.70439611,  362.405384  ,  174.9209418 ,   56.66343992,\n",
       "        322.96021608,  735.71808199,  297.02667105,  715.8478442 ,\n",
       "        -40.16459123, 1017.12746073,  -45.28285614, 1255.46200272,\n",
       "       1059.98867276,  791.84191083,  443.85791161,  -77.82535482,\n",
       "        408.02012514,  450.26847943,  452.77360122, 1257.81226831,\n",
       "       1129.44910891,  973.98669408,  709.01573112,  773.46208147,\n",
       "        421.48400363,  217.54844078,  388.84703543,  196.24253571,\n",
       "        270.0558529 , 1259.61622887,   76.08704212,  111.82256243,\n",
       "        208.93160478,  309.37345728,  332.29223724,  880.64839959,\n",
       "        684.45368524,  -77.82535482,  962.12806162,  791.21529984,\n",
       "        605.42537525,  979.79482534,  178.27701093,  381.00721151,\n",
       "        111.82256243,  249.56390364,  535.10741635,  257.3449013 ,\n",
       "        318.57543971,  829.77251948,  937.11837477,  849.87584832,\n",
       "        681.37138837,  280.06176397,  260.41473779,  460.03620307,\n",
       "        895.56314351,  825.10862685,  552.27808419,  356.46124959,\n",
       "        741.6414813 ,  289.32223461,  708.13230842,  151.8018579 ,\n",
       "          3.29520567,  111.82256243,  148.04791223,  840.92723235,\n",
       "        776.10702171,  480.01642896,  951.7703868 ,  209.06105338,\n",
       "        479.24723567,  325.73569491,  119.71647457,  468.56634725,\n",
       "         97.17719436,  577.37873785,  745.29319648,  347.17249521,\n",
       "        562.62404589,  545.71163897,  413.00337581,  668.17067152,\n",
       "       1695.02788547,  666.34292863,  735.61199645,  -42.44626201,\n",
       "        823.89703885,  954.09287775, 1140.17783809,  704.08369591,\n",
       "        156.75793812,  482.66351923,  161.2724087 ,  -68.76232343,\n",
       "        927.92848794,  552.2439127 ,   16.16934002,  364.17984985,\n",
       "        -45.28285614,  -76.17040905, 1290.0071197 ,  901.15488711,\n",
       "       1242.30064572,  343.92881125,  519.99676695,  441.81115904,\n",
       "       1179.41373377,  455.06511469,  262.29693544,  533.20772512,\n",
       "        782.62926822,  220.4278486 ,  -74.93654416, 1012.41895533,\n",
       "        421.11034461,  674.18261197,  743.5644683 ,  709.83057538,\n",
       "        735.7671658 ,  850.58230736,  326.44328585,  277.10524023,\n",
       "       1620.4867374 ,  548.52493582,  260.36101547,  170.86078706,\n",
       "        -45.28285614,  174.44259321,  734.51354317,  125.91593735,\n",
       "        573.89254545,  466.64576839,  447.17035483,  591.84915098,\n",
       "        303.63885004,  177.72373024,   14.85878852, 1225.62201736,\n",
       "       1397.27044088, 1009.79547069,  134.52851012,  698.0259853 ,\n",
       "        946.01947742, 1216.6199436 ,  127.13021708, 1526.11012997,\n",
       "        132.58468329,  593.35736887,  179.72181115,  295.34075161,\n",
       "        246.62458346, 1441.44207327,  554.17187003,  557.91510019,\n",
       "        830.34463153,  592.05908032,  463.06075848,  191.01830513,\n",
       "        335.17994709,   69.41144241,  102.77026143,  236.19603255,\n",
       "        849.31805289,  281.52818794, 1171.08600238,  283.82059159,\n",
       "        478.3743041 , 1007.12826882, 1193.6403771 , 1226.27750143,\n",
       "        425.70389123,  631.66497988, 1001.25605071, 1127.44944583,\n",
       "        256.77382374,  -40.66401273,  617.07628831,  643.65674089,\n",
       "        229.05414054,  688.12930524,  372.85131124,  771.30969993,\n",
       "        661.63230295,  301.27074758,  691.70966725,  312.65608401,\n",
       "         97.17719436, 1004.60048762,  395.12436091,  749.84559619,\n",
       "        123.5265482 ,  363.71285642,  672.92582274,  322.63347207,\n",
       "        105.88646175, 1661.01212226,  111.82256243,  391.19395832,\n",
       "        277.9040881 ,  399.69154004,  -45.28285614,  956.83807608,\n",
       "        176.00302172,  392.76645661,  387.00185471,  751.41200144,\n",
       "        983.68886611, 1710.14607247,  118.94227583, 1680.87957292,\n",
       "       1057.42091714,  401.1633384 ,  642.60849492,  677.61659935,\n",
       "       1683.36199157,   41.9110105 ,  462.39274674,  443.85791161,\n",
       "         85.14851678,  347.6505527 ,  291.30496677,  330.09577203,\n",
       "        806.64746168,  367.50829919,  935.55862635,  268.4937519 ,\n",
       "        274.74785479,  151.8018579 ,  460.04518986,  490.3033633 ,\n",
       "        204.736558  , 1040.05237395, 1534.67147194,   52.26256585,\n",
       "        363.87979321,  579.38113877,  316.3375781 ,  254.62895674,\n",
       "        840.75114795,  441.92641423,  661.5981112 ,  900.75922557,\n",
       "        105.37296731,  586.86494196,  276.61966239,  339.49677128,\n",
       "        336.41431781,  151.8018579 ,  323.8888938 ,  459.67324466,\n",
       "        -24.85879105, 1003.74990778,  180.9097333 ,  726.44806785,\n",
       "        358.28168384,  734.72757728,  774.0726037 ,  193.59813736,\n",
       "        -37.73113547,  731.21251333,  734.26117304,  829.91212673,\n",
       "        587.02614289,   69.83054661,  164.13094537,  423.42495697,\n",
       "        102.77026143, 1051.2654208 ,  -76.17040905,  764.23921005,\n",
       "        265.21747868,  -38.28441616, 1233.71979702, 1007.2723909 ,\n",
       "        411.87071066,  111.6004313 , 1163.28220977,   34.47844343,\n",
       "        278.95712201,  459.69465462,  546.16761775,  125.42610508,\n",
       "        857.56256352,  931.55222916, 1598.52879207,  573.1363789 ,\n",
       "       1302.5790755 ,  -31.13583386,  309.87672253,  621.9295922 ,\n",
       "        991.62725452,  176.07368077, 1259.61622887,  378.16910797,\n",
       "        686.82220774,  301.79230181,  875.85370459,  349.4197219 ,\n",
       "        574.54460275,  -37.73113547,  511.2911032 ,  798.82108592,\n",
       "        -77.82535482,  146.66677162,  186.62720821,  622.07784152,\n",
       "       1545.42661812, 1016.55648837,  851.05743648,  473.62243723,\n",
       "       1164.54046226,  546.67683183,  619.64925144,  770.62754601,\n",
       "        130.90525608, 1669.20179935,  704.13302971,  183.42152968,\n",
       "        362.80001528,  -61.26837251,  306.56603465,  186.72619407,\n",
       "        113.0548049 ,  712.72504151,  177.66072918,  250.88567365,\n",
       "         33.82723697, 1394.62932889,  833.5641651 ,  807.12540123,\n",
       "        532.98316311,  285.83869301,  392.2529857 ,   51.93611881,\n",
       "        164.13094537, 1178.42064366, 1285.86073439,  748.61354426,\n",
       "        612.53204288,  282.64343843,  620.34507509,  639.93279968,\n",
       "        448.48908136,  318.31104009,  569.25432312,  963.5449887 ,\n",
       "        611.19716875,  342.66936977, 1388.59967138,  622.32833286,\n",
       "        128.08009719,  350.47927021,  627.91911458,  464.73290025,\n",
       "        107.57201642,  518.69096689,  177.8783005 ,  197.67142333,\n",
       "        955.0097206 ,  217.80642564,  780.25887334,  381.86047764,\n",
       "        184.87231254,  746.6673023 ,  777.11240585,  818.22755034,\n",
       "        580.21550375,  776.84364193,  323.84644953,  886.67729538,\n",
       "        671.51590694,  548.78713249,  584.54787067,  589.62238289,\n",
       "        300.25218532,  319.96892519,  -68.8210789 ,  512.16001076,\n",
       "        801.93453262,  342.89869167,  -77.0566374 , 1692.91773576,\n",
       "        854.90141909, 1126.5919578 ,  685.83447049, 1235.86917366,\n",
       "        257.3449013 ,  407.62154391,  151.89673304,  445.89005839,\n",
       "        153.23084631, 1618.6574034 ,  454.93679346,  631.35106403,\n",
       "        399.05781738,  984.83774764,  108.14854738,  164.13094537,\n",
       "        474.63854925,  940.98051374,  206.12937395,  499.30253269,\n",
       "        242.96195275,  121.73575003, 1165.02454333, 1529.42275963,\n",
       "        472.56701354,  435.13038906,  360.54926376,  388.42379377,\n",
       "        684.44345402,  258.8074648 ,  871.21217949,  517.64985614,\n",
       "        182.15117307,  347.82958133,  305.61695089,  642.15424864,\n",
       "        160.45081054, 1230.29713074,  -37.73113547,  799.14991282,\n",
       "       1221.65890729, 1435.549567  ,  877.38989618,  880.37899399,\n",
       "        832.65264174,  691.77730844,  -74.42733008,  473.39926574,\n",
       "        339.20534917,  734.82206592,  235.00173862,  498.81349459,\n",
       "        206.12937395,  826.50639387,  -56.86171219,  325.69724032,\n",
       "        733.36954027,  353.41743396,  300.53471593,  675.02362464,\n",
       "        172.3654864 ,  894.98636904, 1671.77832139, 1159.83379928,\n",
       "        765.53360352,  434.40904279, 1225.55764947,  322.44305591,\n",
       "        866.81575111,   95.76706305, 1538.212086  , 1417.32983543,\n",
       "        183.42152968,  536.2649095 , 1004.44312431,  107.02585819,\n",
       "        182.58337715,  270.0558529 ,  125.15680917, 1606.87952785,\n",
       "        472.54855442,  -68.86024921, 1160.70449591,  617.66387526,\n",
       "        298.81948265,   88.146402  ,  488.61917131,  554.51579091,\n",
       "        947.68769741,  694.35117326,  798.48388837,  111.82256243,\n",
       "        823.14988149,  -11.27747218,  520.75435161,  347.88780318,\n",
       "        543.27880709,  122.79359039, 1232.96722832, 1007.44084274,\n",
       "        170.86078706,  442.18110225,  793.00805544, 1136.28565794,\n",
       "        690.97726999,  -77.82535482,  784.69208973, 1660.14678191,\n",
       "        444.01844331,  438.65382767,  312.06536382,  468.80532425,\n",
       "        632.28557602,  522.93282312, 1176.7504834 , 1525.4671595 ,\n",
       "        100.76767913,  472.80854342,  576.37697429, 1225.40878279,\n",
       "        727.96412177,  309.87672253,  413.97364858,  724.4883915 ,\n",
       "       1582.40356015,  636.24919441,  133.49029346,  444.21570472,\n",
       "        691.51621505, 1612.68263217,  952.8175345 ,  630.2468968 ,\n",
       "        -24.69721351,  675.16060608,  125.40651992,  605.32865488,\n",
       "        742.85677885,  265.93534297,  988.94978776,  299.56447365,\n",
       "        892.55662558,  459.82148699,  887.47933869,  609.54465462,\n",
       "        119.71647457,  743.41732357,  384.19818629,  393.60734558,\n",
       "        572.92156171,  183.60856549,   52.91043261,  454.22308311,\n",
       "        266.0401656 ,  357.45445772,  594.10074244,  572.7938649 ,\n",
       "        302.94769836,  871.85457143,  -74.93654416,  -19.40396438,\n",
       "        223.73897498,  289.67038761,  335.68359734,  445.72585387,\n",
       "       1175.26114371,  546.16761775,  255.15086197,  771.99853809,\n",
       "        448.94515614,  541.92990958, 1614.20719533,  -45.28285614,\n",
       "       1410.50742155,  151.46273535,  601.97584718,  812.03970999,\n",
       "        206.12937395,   88.43434278,  177.60132301,  603.41095931,\n",
       "        607.76085443,  678.79980459,  599.21844656,  324.21398342,\n",
       "        607.15301995, 1178.84894074,  391.78997867,  528.12973732,\n",
       "        305.61695089,  491.05172742,  248.66414129,  115.83356113,\n",
       "       1051.6621015 ,  170.86078706,  810.63150926,  743.93186488,\n",
       "        414.52192709,  299.75529019,  776.38636165, 1268.35128893,\n",
       "       1041.53249627,  627.2170419 ,  392.0138787 ,  546.77850509])"
      ]
     },
     "execution_count": 361,
     "metadata": {},
     "output_type": "execute_result"
    }
   ],
   "source": [
    "X_train, X_test, y_train, y_test = train_test_split(X, y, random_state=0)\n",
    "model = LinearRegression().fit(X_train, y_train)  # 결측치가 있는 경우 넣으면 안 된다.\n",
    "pred = model.predict(X_test)\n",
    "pred"
   ]
  },
  {
   "cell_type": "code",
   "execution_count": 362,
   "metadata": {},
   "outputs": [
    {
     "data": {
      "text/plain": [
       "(array([-0.15912372,  0.48962892,  0.0719852 , -6.98404745,  1.09596934]),\n",
       " 100.64601235358606)"
      ]
     },
     "execution_count": 362,
     "metadata": {},
     "output_type": "execute_result"
    }
   ],
   "source": [
    "model.coef_, model.intercept_"
   ]
  },
  {
   "cell_type": "code",
   "execution_count": 363,
   "metadata": {},
   "outputs": [],
   "source": [
    "import pandas as pd"
   ]
  },
  {
   "cell_type": "code",
   "execution_count": 364,
   "metadata": {},
   "outputs": [
    {
     "name": "stderr",
     "output_type": "stream",
     "text": [
      "<ipython-input-364-95c87d46e687>:3: RuntimeWarning: invalid value encountered in log\n",
      "  '로그오차제곱': (np.log(y_test+1)-np.log(pred+1))**2}\n"
     ]
    },
    {
     "data": {
      "text/html": [
       "<div>\n",
       "<style scoped>\n",
       "    .dataframe tbody tr th:only-of-type {\n",
       "        vertical-align: middle;\n",
       "    }\n",
       "\n",
       "    .dataframe tbody tr th {\n",
       "        vertical-align: top;\n",
       "    }\n",
       "\n",
       "    .dataframe thead th {\n",
       "        text-align: right;\n",
       "    }\n",
       "</style>\n",
       "<table border=\"1\" class=\"dataframe\">\n",
       "  <thead>\n",
       "    <tr style=\"text-align: right;\">\n",
       "      <th></th>\n",
       "      <th>실제값</th>\n",
       "      <th>예측값</th>\n",
       "      <th>오차</th>\n",
       "      <th>오차절댓값</th>\n",
       "      <th>오차제곱</th>\n",
       "      <th>로그오차제곱</th>\n",
       "    </tr>\n",
       "  </thead>\n",
       "  <tbody>\n",
       "    <tr>\n",
       "      <th>2309</th>\n",
       "      <td>2315.0</td>\n",
       "      <td>1716.263518</td>\n",
       "      <td>598.736482</td>\n",
       "      <td>598.736482</td>\n",
       "      <td>358485.374722</td>\n",
       "      <td>0.089467</td>\n",
       "    </tr>\n",
       "    <tr>\n",
       "      <th>1323</th>\n",
       "      <td>408.0</td>\n",
       "      <td>348.610482</td>\n",
       "      <td>59.389518</td>\n",
       "      <td>59.389518</td>\n",
       "      <td>3527.114829</td>\n",
       "      <td>0.024616</td>\n",
       "    </tr>\n",
       "    <tr>\n",
       "      <th>22</th>\n",
       "      <td>730.0</td>\n",
       "      <td>783.881423</td>\n",
       "      <td>-53.881423</td>\n",
       "      <td>53.881423</td>\n",
       "      <td>2903.207725</td>\n",
       "      <td>0.005058</td>\n",
       "    </tr>\n",
       "    <tr>\n",
       "      <th>1005</th>\n",
       "      <td>596.0</td>\n",
       "      <td>538.875475</td>\n",
       "      <td>57.124525</td>\n",
       "      <td>57.124525</td>\n",
       "      <td>3263.211413</td>\n",
       "      <td>0.010116</td>\n",
       "    </tr>\n",
       "    <tr>\n",
       "      <th>248</th>\n",
       "      <td>108.0</td>\n",
       "      <td>107.123063</td>\n",
       "      <td>0.876937</td>\n",
       "      <td>0.876937</td>\n",
       "      <td>0.769019</td>\n",
       "      <td>0.000065</td>\n",
       "    </tr>\n",
       "    <tr>\n",
       "      <th>...</th>\n",
       "      <td>...</td>\n",
       "      <td>...</td>\n",
       "      <td>...</td>\n",
       "      <td>...</td>\n",
       "      <td>...</td>\n",
       "      <td>...</td>\n",
       "    </tr>\n",
       "    <tr>\n",
       "      <th>2870</th>\n",
       "      <td>1204.0</td>\n",
       "      <td>1268.351289</td>\n",
       "      <td>-64.351289</td>\n",
       "      <td>64.351289</td>\n",
       "      <td>4141.088387</td>\n",
       "      <td>0.002707</td>\n",
       "    </tr>\n",
       "    <tr>\n",
       "      <th>232</th>\n",
       "      <td>316.0</td>\n",
       "      <td>1041.532496</td>\n",
       "      <td>-725.532496</td>\n",
       "      <td>725.532496</td>\n",
       "      <td>526397.403146</td>\n",
       "      <td>1.417305</td>\n",
       "    </tr>\n",
       "    <tr>\n",
       "      <th>610</th>\n",
       "      <td>498.0</td>\n",
       "      <td>627.217042</td>\n",
       "      <td>-129.217042</td>\n",
       "      <td>129.217042</td>\n",
       "      <td>16697.043916</td>\n",
       "      <td>0.053029</td>\n",
       "    </tr>\n",
       "    <tr>\n",
       "      <th>1355</th>\n",
       "      <td>480.0</td>\n",
       "      <td>392.013879</td>\n",
       "      <td>87.986121</td>\n",
       "      <td>87.986121</td>\n",
       "      <td>7741.557542</td>\n",
       "      <td>0.040813</td>\n",
       "    </tr>\n",
       "    <tr>\n",
       "      <th>2845</th>\n",
       "      <td>396.0</td>\n",
       "      <td>546.778505</td>\n",
       "      <td>-150.778505</td>\n",
       "      <td>150.778505</td>\n",
       "      <td>22734.157598</td>\n",
       "      <td>0.103642</td>\n",
       "    </tr>\n",
       "  </tbody>\n",
       "</table>\n",
       "<p>724 rows × 6 columns</p>\n",
       "</div>"
      ],
      "text/plain": [
       "         실제값          예측값          오차       오차절댓값           오차제곱    로그오차제곱\n",
       "2309  2315.0  1716.263518  598.736482  598.736482  358485.374722  0.089467\n",
       "1323   408.0   348.610482   59.389518   59.389518    3527.114829  0.024616\n",
       "22     730.0   783.881423  -53.881423   53.881423    2903.207725  0.005058\n",
       "1005   596.0   538.875475   57.124525   57.124525    3263.211413  0.010116\n",
       "248    108.0   107.123063    0.876937    0.876937       0.769019  0.000065\n",
       "...      ...          ...         ...         ...            ...       ...\n",
       "2870  1204.0  1268.351289  -64.351289   64.351289    4141.088387  0.002707\n",
       "232    316.0  1041.532496 -725.532496  725.532496  526397.403146  1.417305\n",
       "610    498.0   627.217042 -129.217042  129.217042   16697.043916  0.053029\n",
       "1355   480.0   392.013879   87.986121   87.986121    7741.557542  0.040813\n",
       "2845   396.0   546.778505 -150.778505  150.778505   22734.157598  0.103642\n",
       "\n",
       "[724 rows x 6 columns]"
      ]
     },
     "execution_count": 364,
     "metadata": {},
     "output_type": "execute_result"
    }
   ],
   "source": [
    "dict_dat = {'실제값': y_test, '예측값': pred, \n",
    "            '오차': y_test - pred, '오차절댓값': abs(y_test - pred), '오차제곱': (y_test - pred)**2, \n",
    "           '로그오차제곱': (np.log(y_test+1)-np.log(pred+1))**2}\n",
    "dat = pd.DataFrame(dict_dat)\n",
    "dat"
   ]
  },
  {
   "cell_type": "code",
   "execution_count": 365,
   "metadata": {},
   "outputs": [
    {
     "data": {
      "text/plain": [
       "42701.70133960169"
      ]
     },
     "execution_count": 365,
     "metadata": {},
     "output_type": "execute_result"
    }
   ],
   "source": [
    "mse = ((y_test - pred)**2).sum()/len(y_test - pred)\n",
    "mse"
   ]
  },
  {
   "cell_type": "code",
   "execution_count": 366,
   "metadata": {},
   "outputs": [
    {
     "data": {
      "text/plain": [
       "149.1293341160225"
      ]
     },
     "execution_count": 366,
     "metadata": {},
     "output_type": "execute_result"
    }
   ],
   "source": [
    "mae = abs(y_test-pred).sum()/len(pred)\n",
    "mae"
   ]
  },
  {
   "cell_type": "code",
   "execution_count": 367,
   "metadata": {},
   "outputs": [
    {
     "data": {
      "text/plain": [
       "206.64389983641348"
      ]
     },
     "execution_count": 367,
     "metadata": {},
     "output_type": "execute_result"
    }
   ],
   "source": [
    "rmse = mse**0.5\n",
    "rmse\n",
    "rmse = np.sqrt(mse)\n",
    "rmse"
   ]
  },
  {
   "cell_type": "markdown",
   "metadata": {},
   "source": [
    "### 7-3 주차 수요 예측 LASSO모델 적용해보기. MAE, MSE 구해보기"
   ]
  },
  {
   "cell_type": "code",
   "execution_count": 368,
   "metadata": {},
   "outputs": [
    {
     "name": "stdout",
     "output_type": "stream",
     "text": [
      "정규화, 추가 생성 :  (2896, 27) (2896,)\n",
      "0.0 1.0\n"
     ]
    }
   ],
   "source": [
    "from sklearn.preprocessing import MinMaxScaler, PolynomialFeatures\n",
    "\n",
    "sel = ['총세대수', '전용면적', '전용면적별세대수', '공가수',  '단지내주차면수', '자격유형']\n",
    "# sel = ['총세대수']\n",
    "X = train[sel]\n",
    "y = train['등록차량수']\n",
    "\n",
    "normalize_X = MinMaxScaler().fit_transform(X)\n",
    "ex_X = PolynomialFeatures(degree=2, include_bias=False).fit_transform(normalize_X)  # 데이터 feature 추가 생성\n",
    "\n",
    "X_train, X_test, y_train, y_test = train_test_split(ex_X, y, random_state=0)\n",
    "\n",
    "print('정규화, 추가 생성 : ', ex_X.shape, y.shape)\n",
    "print(np.min(ex_X), np.max(ex_X))"
   ]
  },
  {
   "cell_type": "code",
   "execution_count": 369,
   "metadata": {},
   "outputs": [
    {
     "data": {
      "text/plain": [
       "(2172, 27)"
      ]
     },
     "execution_count": 369,
     "metadata": {},
     "output_type": "execute_result"
    }
   ],
   "source": [
    "X_train.shape"
   ]
  },
  {
   "cell_type": "code",
   "execution_count": 370,
   "metadata": {},
   "outputs": [
    {
     "data": {
      "text/plain": [
       "array([2019.65008666,  392.24733726,  800.88739133,  498.30046632,\n",
       "        120.74690258,  718.94113017,  438.63449529,  317.25462096,\n",
       "        658.14803242,  443.14276016])"
      ]
     },
     "execution_count": 370,
     "metadata": {},
     "output_type": "execute_result"
    }
   ],
   "source": [
    "from sklearn.linear_model import Lasso # Lasso : L1, Ridge: L2\n",
    "lasso = Lasso(alpha=0.1).fit(X_train, y_train)\n",
    "pred = lasso.predict(X_test)\n",
    "pred[0:10]"
   ]
  },
  {
   "cell_type": "code",
   "execution_count": 371,
   "metadata": {},
   "outputs": [
    {
     "data": {
      "text/plain": [
       "array([-0.00000000e+00,  9.10177686e+02,  0.00000000e+00,  4.46380447e+02,\n",
       "        1.64165505e+03, -1.30416775e+02, -4.55914610e+02, -4.74056617e+02,\n",
       "        2.90154807e+01,  0.00000000e+00,  5.33340619e+02,  0.00000000e+00,\n",
       "       -8.39513699e+02,  0.00000000e+00,  0.00000000e+00,  1.87726773e+03,\n",
       "       -5.12612990e+02, -0.00000000e+00,  0.00000000e+00,  4.60423407e+02,\n",
       "       -0.00000000e+00, -3.15036676e+02, -1.51132974e+03, -3.84044860e-01,\n",
       "        1.09077078e+02,  4.13440767e+02, -0.00000000e+00])"
      ]
     },
     "execution_count": 371,
     "metadata": {},
     "output_type": "execute_result"
    }
   ],
   "source": [
    "lasso.coef_"
   ]
  },
  {
   "cell_type": "code",
   "execution_count": 372,
   "metadata": {},
   "outputs": [
    {
     "name": "stdout",
     "output_type": "stream",
     "text": [
      "학습용 데이터 세트 점수 : 0.83\n",
      "테스트 데이터 세트 점수 : 0.82\n"
     ]
    }
   ],
   "source": [
    "print(\"학습용 데이터 세트 점수 : {:.2f}\".format(lasso.score(X_train, y_train)))\n",
    "print(\"테스트 데이터 세트 점수 : {:.2f}\".format(lasso.score(X_test, y_test)))"
   ]
  },
  {
   "cell_type": "code",
   "execution_count": 373,
   "metadata": {},
   "outputs": [
    {
     "data": {
      "text/plain": [
       "131.9598976166298"
      ]
     },
     "execution_count": 373,
     "metadata": {},
     "output_type": "execute_result"
    }
   ],
   "source": [
    "mae = abs(y_test-pred).sum()/len(pred)\n",
    "mae"
   ]
  },
  {
   "cell_type": "code",
   "execution_count": 374,
   "metadata": {},
   "outputs": [
    {
     "data": {
      "text/plain": [
       "35213.800851827385"
      ]
     },
     "execution_count": 374,
     "metadata": {},
     "output_type": "execute_result"
    }
   ],
   "source": [
    "mse = ((y_test - pred)**2).sum()/len(y_test - pred)\n",
    "mse"
   ]
  },
  {
   "cell_type": "code",
   "execution_count": 375,
   "metadata": {},
   "outputs": [
    {
     "data": {
      "text/plain": [
       "187.65340618232162"
      ]
     },
     "execution_count": 375,
     "metadata": {},
     "output_type": "execute_result"
    }
   ],
   "source": [
    "rmse = mse**0.5\n",
    "rmse"
   ]
  },
  {
   "cell_type": "markdown",
   "metadata": {},
   "source": [
    "### 7-4 주차 수요 예측 Ridge 모델 적용해보기. MAE, MSE 구해보기"
   ]
  },
  {
   "cell_type": "code",
   "execution_count": 376,
   "metadata": {},
   "outputs": [
    {
     "data": {
      "text/plain": [
       "array([2029.11368446,  383.97130032,  808.49722234,  495.5838777 ,\n",
       "        125.00886239,  725.17528719,  448.31966119,  310.8521135 ,\n",
       "        656.60649668,  442.13558937])"
      ]
     },
     "execution_count": 376,
     "metadata": {},
     "output_type": "execute_result"
    }
   ],
   "source": [
    "from sklearn.linear_model import Ridge # Lasso : L1, Ridge: L2\n",
    "ridge = Ridge(alpha=0.1).fit(X_train, y_train)\n",
    "pred = ridge.predict(X_test)\n",
    "pred[0:10]"
   ]
  },
  {
   "cell_type": "code",
   "execution_count": 377,
   "metadata": {},
   "outputs": [
    {
     "data": {
      "text/plain": [
       "array([   56.29867296,  1283.91055699,   -50.65904613,   464.99702448,\n",
       "        1579.6380411 ,   -39.92848841,  -497.35236058,  -845.05433511,\n",
       "         792.3598323 ,    24.79631946,   557.1279123 ,   -52.08829391,\n",
       "        -755.80106246,   571.96177737,   457.0527057 ,  2061.10094671,\n",
       "       -1789.36265055,  -706.30094106,   266.56530546,   284.44559235,\n",
       "        -557.44649494,  -380.0955209 , -1576.58308144,    15.06000118,\n",
       "         119.39185091,   547.27140981,   -60.3847873 ])"
      ]
     },
     "execution_count": 377,
     "metadata": {},
     "output_type": "execute_result"
    }
   ],
   "source": [
    "ridge.coef_"
   ]
  },
  {
   "cell_type": "code",
   "execution_count": 378,
   "metadata": {},
   "outputs": [
    {
     "name": "stdout",
     "output_type": "stream",
     "text": [
      "학습용 데이터 세트 점수 : 0.83\n",
      "테스트 데이터 세트 점수 : 0.83\n"
     ]
    }
   ],
   "source": [
    "print(\"학습용 데이터 세트 점수 : {:.2f}\".format(ridge.score(X_train, y_train)))\n",
    "print(\"테스트 데이터 세트 점수 : {:.2f}\".format(ridge.score(X_test, y_test)))"
   ]
  },
  {
   "cell_type": "code",
   "execution_count": 379,
   "metadata": {},
   "outputs": [
    {
     "data": {
      "text/plain": [
       "130.58525971696537"
      ]
     },
     "execution_count": 379,
     "metadata": {},
     "output_type": "execute_result"
    }
   ],
   "source": [
    "mae = abs(y_test-pred).sum()/len(pred)\n",
    "mae"
   ]
  },
  {
   "cell_type": "code",
   "execution_count": 380,
   "metadata": {},
   "outputs": [
    {
     "data": {
      "text/plain": [
       "34519.63943419638"
      ]
     },
     "execution_count": 380,
     "metadata": {},
     "output_type": "execute_result"
    }
   ],
   "source": [
    "mse = ((y_test - pred)**2).sum()/len(y_test - pred)\n",
    "mse"
   ]
  },
  {
   "cell_type": "code",
   "execution_count": 381,
   "metadata": {},
   "outputs": [
    {
     "data": {
      "text/plain": [
       "185.79461626806193"
      ]
     },
     "execution_count": 381,
     "metadata": {},
     "output_type": "execute_result"
    }
   ],
   "source": [
    "rmse = mse**0.5\n",
    "rmse"
   ]
  },
  {
   "cell_type": "code",
   "execution_count": 382,
   "metadata": {},
   "outputs": [
    {
     "ename": "ValueError",
     "evalue": "Length of values (724) does not match length of index (1022)",
     "output_type": "error",
     "traceback": [
      "\u001b[1;31m---------------------------------------------------------------------------\u001b[0m",
      "\u001b[1;31mValueError\u001b[0m                                Traceback (most recent call last)",
      "\u001b[1;32m<ipython-input-382-25fa29436f1d>\u001b[0m in \u001b[0;36m<module>\u001b[1;34m\u001b[0m\n\u001b[1;32m----> 1\u001b[1;33m \u001b[0mtest\u001b[0m\u001b[1;33m[\u001b[0m\u001b[1;34m'등록차량수'\u001b[0m\u001b[1;33m]\u001b[0m \u001b[1;33m=\u001b[0m \u001b[0mpred\u001b[0m\u001b[1;33m\u001b[0m\u001b[1;33m\u001b[0m\u001b[0m\n\u001b[0m\u001b[0;32m      2\u001b[0m \u001b[0mtest\u001b[0m\u001b[1;33m[\u001b[0m\u001b[1;34m'단지별차량수평균'\u001b[0m\u001b[1;33m]\u001b[0m \u001b[1;33m=\u001b[0m \u001b[0mtest\u001b[0m\u001b[1;33m.\u001b[0m\u001b[0mgroupby\u001b[0m\u001b[1;33m(\u001b[0m\u001b[1;34m\"단지코드\"\u001b[0m\u001b[1;33m)\u001b[0m\u001b[1;33m[\u001b[0m\u001b[1;34m'등록차량수'\u001b[0m\u001b[1;33m]\u001b[0m\u001b[1;33m.\u001b[0m\u001b[0mtransform\u001b[0m\u001b[1;33m(\u001b[0m\u001b[0mnp\u001b[0m\u001b[1;33m.\u001b[0m\u001b[0mmean\u001b[0m\u001b[1;33m)\u001b[0m\u001b[1;33m\u001b[0m\u001b[1;33m\u001b[0m\u001b[0m\n\u001b[0;32m      3\u001b[0m \u001b[0mtest_new\u001b[0m \u001b[1;33m=\u001b[0m \u001b[0mtest\u001b[0m\u001b[1;33m.\u001b[0m\u001b[0mdrop_duplicates\u001b[0m\u001b[1;33m(\u001b[0m\u001b[1;33m[\u001b[0m\u001b[1;34m'단지코드'\u001b[0m\u001b[1;33m]\u001b[0m\u001b[1;33m,\u001b[0m \u001b[0mkeep\u001b[0m\u001b[1;33m=\u001b[0m\u001b[1;34m'first'\u001b[0m\u001b[1;33m)\u001b[0m\u001b[1;33m.\u001b[0m\u001b[0mreset_index\u001b[0m\u001b[1;33m(\u001b[0m\u001b[1;33m)\u001b[0m\u001b[1;33m\u001b[0m\u001b[1;33m\u001b[0m\u001b[0m\n\u001b[0;32m      4\u001b[0m \u001b[0mtest_new\u001b[0m\u001b[1;33m\u001b[0m\u001b[1;33m\u001b[0m\u001b[0m\n",
      "\u001b[1;32m~\\anaconda3\\lib\\site-packages\\pandas\\core\\frame.py\u001b[0m in \u001b[0;36m__setitem__\u001b[1;34m(self, key, value)\u001b[0m\n\u001b[0;32m   3038\u001b[0m         \u001b[1;32melse\u001b[0m\u001b[1;33m:\u001b[0m\u001b[1;33m\u001b[0m\u001b[1;33m\u001b[0m\u001b[0m\n\u001b[0;32m   3039\u001b[0m             \u001b[1;31m# set column\u001b[0m\u001b[1;33m\u001b[0m\u001b[1;33m\u001b[0m\u001b[1;33m\u001b[0m\u001b[0m\n\u001b[1;32m-> 3040\u001b[1;33m             \u001b[0mself\u001b[0m\u001b[1;33m.\u001b[0m\u001b[0m_set_item\u001b[0m\u001b[1;33m(\u001b[0m\u001b[0mkey\u001b[0m\u001b[1;33m,\u001b[0m \u001b[0mvalue\u001b[0m\u001b[1;33m)\u001b[0m\u001b[1;33m\u001b[0m\u001b[1;33m\u001b[0m\u001b[0m\n\u001b[0m\u001b[0;32m   3041\u001b[0m \u001b[1;33m\u001b[0m\u001b[0m\n\u001b[0;32m   3042\u001b[0m     \u001b[1;32mdef\u001b[0m \u001b[0m_setitem_slice\u001b[0m\u001b[1;33m(\u001b[0m\u001b[0mself\u001b[0m\u001b[1;33m,\u001b[0m \u001b[0mkey\u001b[0m\u001b[1;33m:\u001b[0m \u001b[0mslice\u001b[0m\u001b[1;33m,\u001b[0m \u001b[0mvalue\u001b[0m\u001b[1;33m)\u001b[0m\u001b[1;33m:\u001b[0m\u001b[1;33m\u001b[0m\u001b[1;33m\u001b[0m\u001b[0m\n",
      "\u001b[1;32m~\\anaconda3\\lib\\site-packages\\pandas\\core\\frame.py\u001b[0m in \u001b[0;36m_set_item\u001b[1;34m(self, key, value)\u001b[0m\n\u001b[0;32m   3114\u001b[0m         \"\"\"\n\u001b[0;32m   3115\u001b[0m         \u001b[0mself\u001b[0m\u001b[1;33m.\u001b[0m\u001b[0m_ensure_valid_index\u001b[0m\u001b[1;33m(\u001b[0m\u001b[0mvalue\u001b[0m\u001b[1;33m)\u001b[0m\u001b[1;33m\u001b[0m\u001b[1;33m\u001b[0m\u001b[0m\n\u001b[1;32m-> 3116\u001b[1;33m         \u001b[0mvalue\u001b[0m \u001b[1;33m=\u001b[0m \u001b[0mself\u001b[0m\u001b[1;33m.\u001b[0m\u001b[0m_sanitize_column\u001b[0m\u001b[1;33m(\u001b[0m\u001b[0mkey\u001b[0m\u001b[1;33m,\u001b[0m \u001b[0mvalue\u001b[0m\u001b[1;33m)\u001b[0m\u001b[1;33m\u001b[0m\u001b[1;33m\u001b[0m\u001b[0m\n\u001b[0m\u001b[0;32m   3117\u001b[0m         \u001b[0mNDFrame\u001b[0m\u001b[1;33m.\u001b[0m\u001b[0m_set_item\u001b[0m\u001b[1;33m(\u001b[0m\u001b[0mself\u001b[0m\u001b[1;33m,\u001b[0m \u001b[0mkey\u001b[0m\u001b[1;33m,\u001b[0m \u001b[0mvalue\u001b[0m\u001b[1;33m)\u001b[0m\u001b[1;33m\u001b[0m\u001b[1;33m\u001b[0m\u001b[0m\n\u001b[0;32m   3118\u001b[0m \u001b[1;33m\u001b[0m\u001b[0m\n",
      "\u001b[1;32m~\\anaconda3\\lib\\site-packages\\pandas\\core\\frame.py\u001b[0m in \u001b[0;36m_sanitize_column\u001b[1;34m(self, key, value, broadcast)\u001b[0m\n\u001b[0;32m   3762\u001b[0m \u001b[1;33m\u001b[0m\u001b[0m\n\u001b[0;32m   3763\u001b[0m             \u001b[1;31m# turn me into an ndarray\u001b[0m\u001b[1;33m\u001b[0m\u001b[1;33m\u001b[0m\u001b[1;33m\u001b[0m\u001b[0m\n\u001b[1;32m-> 3764\u001b[1;33m             \u001b[0mvalue\u001b[0m \u001b[1;33m=\u001b[0m \u001b[0msanitize_index\u001b[0m\u001b[1;33m(\u001b[0m\u001b[0mvalue\u001b[0m\u001b[1;33m,\u001b[0m \u001b[0mself\u001b[0m\u001b[1;33m.\u001b[0m\u001b[0mindex\u001b[0m\u001b[1;33m)\u001b[0m\u001b[1;33m\u001b[0m\u001b[1;33m\u001b[0m\u001b[0m\n\u001b[0m\u001b[0;32m   3765\u001b[0m             \u001b[1;32mif\u001b[0m \u001b[1;32mnot\u001b[0m \u001b[0misinstance\u001b[0m\u001b[1;33m(\u001b[0m\u001b[0mvalue\u001b[0m\u001b[1;33m,\u001b[0m \u001b[1;33m(\u001b[0m\u001b[0mnp\u001b[0m\u001b[1;33m.\u001b[0m\u001b[0mndarray\u001b[0m\u001b[1;33m,\u001b[0m \u001b[0mIndex\u001b[0m\u001b[1;33m)\u001b[0m\u001b[1;33m)\u001b[0m\u001b[1;33m:\u001b[0m\u001b[1;33m\u001b[0m\u001b[1;33m\u001b[0m\u001b[0m\n\u001b[0;32m   3766\u001b[0m                 \u001b[1;32mif\u001b[0m \u001b[0misinstance\u001b[0m\u001b[1;33m(\u001b[0m\u001b[0mvalue\u001b[0m\u001b[1;33m,\u001b[0m \u001b[0mlist\u001b[0m\u001b[1;33m)\u001b[0m \u001b[1;32mand\u001b[0m \u001b[0mlen\u001b[0m\u001b[1;33m(\u001b[0m\u001b[0mvalue\u001b[0m\u001b[1;33m)\u001b[0m \u001b[1;33m>\u001b[0m \u001b[1;36m0\u001b[0m\u001b[1;33m:\u001b[0m\u001b[1;33m\u001b[0m\u001b[1;33m\u001b[0m\u001b[0m\n",
      "\u001b[1;32m~\\anaconda3\\lib\\site-packages\\pandas\\core\\internals\\construction.py\u001b[0m in \u001b[0;36msanitize_index\u001b[1;34m(data, index)\u001b[0m\n\u001b[0;32m    745\u001b[0m     \"\"\"\n\u001b[0;32m    746\u001b[0m     \u001b[1;32mif\u001b[0m \u001b[0mlen\u001b[0m\u001b[1;33m(\u001b[0m\u001b[0mdata\u001b[0m\u001b[1;33m)\u001b[0m \u001b[1;33m!=\u001b[0m \u001b[0mlen\u001b[0m\u001b[1;33m(\u001b[0m\u001b[0mindex\u001b[0m\u001b[1;33m)\u001b[0m\u001b[1;33m:\u001b[0m\u001b[1;33m\u001b[0m\u001b[1;33m\u001b[0m\u001b[0m\n\u001b[1;32m--> 747\u001b[1;33m         raise ValueError(\n\u001b[0m\u001b[0;32m    748\u001b[0m             \u001b[1;34m\"Length of values \"\u001b[0m\u001b[1;33m\u001b[0m\u001b[1;33m\u001b[0m\u001b[0m\n\u001b[0;32m    749\u001b[0m             \u001b[1;34mf\"({len(data)}) \"\u001b[0m\u001b[1;33m\u001b[0m\u001b[1;33m\u001b[0m\u001b[0m\n",
      "\u001b[1;31mValueError\u001b[0m: Length of values (724) does not match length of index (1022)"
     ]
    }
   ],
   "source": [
    "test['등록차량수'] = pred\n",
    "test['단지별차량수평균'] = test.groupby(\"단지코드\")['등록차량수'].transform(np.mean)\n",
    "test_new = test.drop_duplicates(['단지코드'], keep='first').reset_index()\n",
    "test_new"
   ]
  },
  {
   "cell_type": "code",
   "execution_count": null,
   "metadata": {},
   "outputs": [],
   "source": [
    "add_dat = {'code':['C2675', 'C2335', 'C1327'],\n",
    "           'num':['0', '0', '0']}\n",
    "add_df = pd.DataFrame(add_dat)\n",
    "add_df"
   ]
  },
  {
   "cell_type": "code",
   "execution_count": null,
   "metadata": {},
   "outputs": [],
   "source": [
    "sub_df = test_new[ ['단지코드', '단지별차량수평균']]\n",
    "sub_df.columns = ['code', 'num']\n",
    "sub_df = pd.concat([sub_df, add_df]).reset_index()\n",
    "sub_df = sub_df.drop(['index'], axis=1)\n",
    "sub_df"
   ]
  },
  {
   "cell_type": "code",
   "execution_count": 311,
   "metadata": {},
   "outputs": [
    {
     "ename": "NameError",
     "evalue": "name 'sub_df' is not defined",
     "output_type": "error",
     "traceback": [
      "\u001b[1;31m---------------------------------------------------------------------------\u001b[0m",
      "\u001b[1;31mNameError\u001b[0m                                 Traceback (most recent call last)",
      "\u001b[1;32m<ipython-input-311-5591fda92e6b>\u001b[0m in \u001b[0;36m<module>\u001b[1;34m\u001b[0m\n\u001b[1;32m----> 1\u001b[1;33m \u001b[0msub_df\u001b[0m\u001b[1;33m.\u001b[0m\u001b[0mto_csv\u001b[0m\u001b[1;33m(\u001b[0m\u001b[1;34m'third_practice_regression_20210714.csv'\u001b[0m\u001b[1;33m,\u001b[0m \u001b[0mindex\u001b[0m\u001b[1;33m=\u001b[0m\u001b[1;32mFalse\u001b[0m\u001b[1;33m)\u001b[0m\u001b[1;33m\u001b[0m\u001b[1;33m\u001b[0m\u001b[0m\n\u001b[0m\u001b[0;32m      2\u001b[0m \u001b[0msub_df\u001b[0m\u001b[1;33m.\u001b[0m\u001b[0mhead\u001b[0m\u001b[1;33m(\u001b[0m\u001b[1;33m)\u001b[0m\u001b[1;33m\u001b[0m\u001b[1;33m\u001b[0m\u001b[0m\n",
      "\u001b[1;31mNameError\u001b[0m: name 'sub_df' is not defined"
     ]
    }
   ],
   "source": [
    "sub_df.to_csv('third_practice_regression_20210714.csv', index=False)\n",
    "sub_df.head()"
   ]
  },
  {
   "cell_type": "code",
   "execution_count": 31,
   "metadata": {},
   "outputs": [
    {
     "data": {
      "text/plain": [
       "['.ipynb_checkpoints',\n",
       " '01_데이터셋_살펴보기.ipynb',\n",
       " '02_second_model.ipynb',\n",
       " '03_third_model.ipynb',\n",
       " 'age_gender_info.csv',\n",
       " 'baseline_practice_0712.csv',\n",
       " 'sample_submission.csv',\n",
       " 'second_practice_randomforest_20210712.csv',\n",
       " 'test.csv',\n",
       " 'third_practice_randomforest_20210712.csv',\n",
       " 'train.csv']"
      ]
     },
     "execution_count": 31,
     "metadata": {},
     "output_type": "execute_result"
    }
   ],
   "source": [
    "import os\n",
    "os.listdir(os.getcwd())"
   ]
  },
  {
   "cell_type": "code",
   "execution_count": null,
   "metadata": {},
   "outputs": [],
   "source": []
  }
 ],
 "metadata": {
  "kernelspec": {
   "display_name": "Python 3",
   "language": "python",
   "name": "python3"
  },
  "language_info": {
   "codemirror_mode": {
    "name": "ipython",
    "version": 3
   },
   "file_extension": ".py",
   "mimetype": "text/x-python",
   "name": "python",
   "nbconvert_exporter": "python",
   "pygments_lexer": "ipython3",
   "version": "3.8.5"
  }
 },
 "nbformat": 4,
 "nbformat_minor": 4
}
