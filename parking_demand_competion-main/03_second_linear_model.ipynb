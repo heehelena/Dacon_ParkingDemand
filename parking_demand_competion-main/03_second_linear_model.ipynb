{
 "cells": [
  {
   "cell_type": "markdown",
   "metadata": {},
   "source": [
    "## 선형 모델 "
   ]
  },
  {
   "cell_type": "markdown",
   "metadata": {},
   "source": [
    "### 학습 목표 \n",
    " * 오류 처리된(2,3번 해결) 데이터를 활용한다.\n",
    " * 데이터 EDA 및 시각화를 통해 데이터를 이해하고 기본 모델을 만들어본다.\n",
    " * 모델을 제출해 본다."
   ]
  },
  {
   "cell_type": "markdown",
   "metadata": {},
   "source": [
    "* 데이콘 대회 : https://dacon.io/competitions/official/235745/overview/description\n",
    "* https://dacon.io/competitions/official/235745/talkboard/403708?page=1&dtype=recent"
   ]
  },
  {
   "cell_type": "markdown",
   "metadata": {},
   "source": [
    "### 01. 데이터 불러오기 및 확인"
   ]
  },
  {
   "cell_type": "code",
   "execution_count": 1,
   "metadata": {},
   "outputs": [],
   "source": [
    "import matplotlib.pyplot as plt\n",
    "import seaborn as sns\n",
    "from sklearn.linear_model import LinearRegression"
   ]
  },
  {
   "cell_type": "code",
   "execution_count": 2,
   "metadata": {},
   "outputs": [
    {
     "data": {
      "text/plain": [
       "((2896, 15), (1008, 14), (150, 2), (16, 23))"
      ]
     },
     "execution_count": 2,
     "metadata": {},
     "output_type": "execute_result"
    }
   ],
   "source": [
    "import pandas as pd\n",
    "\n",
    "train = pd.read_csv(\"../data/parking_demand/train_df_errno.csv\")\n",
    "test = pd.read_csv(\"../data/parking_demand/test_df.csv\")\n",
    "sub = pd.read_csv(\"../data/parking_demand/sample_submission.csv\")\n",
    "age = pd.read_csv(\"../data/parking_demand/age_gender_info.csv\")\n",
    "\n",
    "train.shape, test.shape, sub.shape, age.shape"
   ]
  },
  {
   "cell_type": "code",
   "execution_count": 3,
   "metadata": {},
   "outputs": [
    {
     "data": {
      "text/plain": [
       "Index(['단지코드', '총세대수', '임대건물구분', '지역', '공급유형', '전용면적', '전용면적별세대수', '공가수',\n",
       "       '자격유형', '임대보증금', '임대료', '10분내지하철수', '10분내버스정류장수', '단지내주차면수', '등록차량수'],\n",
       "      dtype='object')"
      ]
     },
     "execution_count": 3,
     "metadata": {},
     "output_type": "execute_result"
    }
   ],
   "source": [
    "train.columns"
   ]
  },
  {
   "cell_type": "code",
   "execution_count": 4,
   "metadata": {},
   "outputs": [],
   "source": [
    "train.columns = ['단지코드', '총세대수', '임대건물구분', '지역', '공급유형', '전용면적', '전용면적별세대수', '공가수',\n",
    "       '자격유형', '임대보증금', '임대료', '10분내지하철수',\n",
    "       '10분내버스정류장수', '단지내주차면수', '등록차량수']\n",
    "\n",
    "test.columns = ['단지코드', '총세대수', '임대건물구분', '지역', '공급유형', '전용면적', '전용면적별세대수', '공가수',\n",
    "       '자격유형', '임대보증금', '임대료', '10분내지하철수',\n",
    "       '10분내버스정류장수', '단지내주차면수']\n"
   ]
  },
  {
   "cell_type": "markdown",
   "metadata": {},
   "source": [
    "### 오류 데이터가 없는지 확인"
   ]
  },
  {
   "cell_type": "code",
   "execution_count": 5,
   "metadata": {},
   "outputs": [
    {
     "data": {
      "text/html": [
       "<div>\n",
       "<style scoped>\n",
       "    .dataframe tbody tr th:only-of-type {\n",
       "        vertical-align: middle;\n",
       "    }\n",
       "\n",
       "    .dataframe tbody tr th {\n",
       "        vertical-align: top;\n",
       "    }\n",
       "\n",
       "    .dataframe thead th {\n",
       "        text-align: right;\n",
       "    }\n",
       "</style>\n",
       "<table border=\"1\" class=\"dataframe\">\n",
       "  <thead>\n",
       "    <tr style=\"text-align: right;\">\n",
       "      <th></th>\n",
       "      <th>단지코드</th>\n",
       "      <th>총세대수</th>\n",
       "      <th>임대건물구분</th>\n",
       "      <th>지역</th>\n",
       "      <th>공급유형</th>\n",
       "      <th>전용면적</th>\n",
       "      <th>전용면적별세대수</th>\n",
       "      <th>공가수</th>\n",
       "      <th>자격유형</th>\n",
       "      <th>임대보증금</th>\n",
       "      <th>임대료</th>\n",
       "      <th>10분내지하철수</th>\n",
       "      <th>10분내버스정류장수</th>\n",
       "      <th>단지내주차면수</th>\n",
       "      <th>등록차량수</th>\n",
       "    </tr>\n",
       "  </thead>\n",
       "  <tbody>\n",
       "  </tbody>\n",
       "</table>\n",
       "</div>"
      ],
      "text/plain": [
       "Empty DataFrame\n",
       "Columns: [단지코드, 총세대수, 임대건물구분, 지역, 공급유형, 전용면적, 전용면적별세대수, 공가수, 자격유형, 임대보증금, 임대료, 10분내지하철수, 10분내버스정류장수, 단지내주차면수, 등록차량수]\n",
       "Index: []"
      ]
     },
     "execution_count": 5,
     "metadata": {},
     "output_type": "execute_result"
    }
   ],
   "source": [
    "train.loc[ ((train['단지코드']=='C2675') | \n",
    "           (train['단지코드']=='C2335') |\n",
    "           (train['단지코드']=='C1327') ) , :]"
   ]
  },
  {
   "cell_type": "code",
   "execution_count": 6,
   "metadata": {},
   "outputs": [
    {
     "data": {
      "text/html": [
       "<div>\n",
       "<style scoped>\n",
       "    .dataframe tbody tr th:only-of-type {\n",
       "        vertical-align: middle;\n",
       "    }\n",
       "\n",
       "    .dataframe tbody tr th {\n",
       "        vertical-align: top;\n",
       "    }\n",
       "\n",
       "    .dataframe thead th {\n",
       "        text-align: right;\n",
       "    }\n",
       "</style>\n",
       "<table border=\"1\" class=\"dataframe\">\n",
       "  <thead>\n",
       "    <tr style=\"text-align: right;\">\n",
       "      <th></th>\n",
       "      <th>단지코드</th>\n",
       "      <th>총세대수</th>\n",
       "      <th>임대건물구분</th>\n",
       "      <th>지역</th>\n",
       "      <th>공급유형</th>\n",
       "      <th>전용면적</th>\n",
       "      <th>전용면적별세대수</th>\n",
       "      <th>공가수</th>\n",
       "      <th>자격유형</th>\n",
       "      <th>임대보증금</th>\n",
       "      <th>임대료</th>\n",
       "      <th>10분내지하철수</th>\n",
       "      <th>10분내버스정류장수</th>\n",
       "      <th>단지내주차면수</th>\n",
       "    </tr>\n",
       "  </thead>\n",
       "  <tbody>\n",
       "  </tbody>\n",
       "</table>\n",
       "</div>"
      ],
      "text/plain": [
       "Empty DataFrame\n",
       "Columns: [단지코드, 총세대수, 임대건물구분, 지역, 공급유형, 전용면적, 전용면적별세대수, 공가수, 자격유형, 임대보증금, 임대료, 10분내지하철수, 10분내버스정류장수, 단지내주차면수]\n",
       "Index: []"
      ]
     },
     "execution_count": 6,
     "metadata": {},
     "output_type": "execute_result"
    }
   ],
   "source": [
    "test.loc[ ((test['단지코드']=='C2675') | \n",
    "           (test['단지코드']=='C2335') |\n",
    "           (test['단지코드']=='C1327') ) , :]"
   ]
  },
  {
   "cell_type": "markdown",
   "metadata": {},
   "source": [
    "### 오류 데이터 처리 확인"
   ]
  },
  {
   "cell_type": "markdown",
   "metadata": {},
   "source": [
    "* ※ 동일한 단지에 코드가 2개로 부여된 단지 코드 (3쌍) : ['C2085', 'C1397'], ['C2431', 'C1649'], ['C1036', 'C2675'] "
   ]
  },
  {
   "cell_type": "markdown",
   "metadata": {},
   "source": [
    "* - (참고 사항) 주차면수는 하나의 단지임을 전제로 산정된 것이고 총세대수는 두 개 단지의 합계입니다. 다만 등록차량대수는 ['C2085', 'C1397'] 단지의 경우 동일 수치"
   ]
  },
  {
   "cell_type": "code",
   "execution_count": 7,
   "metadata": {},
   "outputs": [
    {
     "data": {
      "text/plain": [
       "(14, 15)"
      ]
     },
     "execution_count": 7,
     "metadata": {},
     "output_type": "execute_result"
    }
   ],
   "source": [
    "# C2085, C1397 -> N2085\n",
    "train.loc[ train['단지코드']=='N2085', : ].shape"
   ]
  },
  {
   "cell_type": "markdown",
   "metadata": {},
   "source": [
    "### 오류 코드 변경\n",
    " * C2431, C1649의 총세대수를 1047로 변경\n",
    " * C2431, C1649의 등록차량대수를 1214로 변경\n",
    " * C2431, C1649의 단지코드를 N2431로 변경\n",
    " "
   ]
  },
  {
   "cell_type": "code",
   "execution_count": 8,
   "metadata": {},
   "outputs": [
    {
     "name": "stdout",
     "output_type": "stream",
     "text": [
      "(6, 15)\n"
     ]
    },
    {
     "data": {
      "text/html": [
       "<div>\n",
       "<style scoped>\n",
       "    .dataframe tbody tr th:only-of-type {\n",
       "        vertical-align: middle;\n",
       "    }\n",
       "\n",
       "    .dataframe tbody tr th {\n",
       "        vertical-align: top;\n",
       "    }\n",
       "\n",
       "    .dataframe thead th {\n",
       "        text-align: right;\n",
       "    }\n",
       "</style>\n",
       "<table border=\"1\" class=\"dataframe\">\n",
       "  <thead>\n",
       "    <tr style=\"text-align: right;\">\n",
       "      <th></th>\n",
       "      <th>단지코드</th>\n",
       "      <th>총세대수</th>\n",
       "      <th>임대건물구분</th>\n",
       "      <th>지역</th>\n",
       "      <th>공급유형</th>\n",
       "      <th>전용면적</th>\n",
       "      <th>전용면적별세대수</th>\n",
       "      <th>공가수</th>\n",
       "      <th>자격유형</th>\n",
       "      <th>임대보증금</th>\n",
       "      <th>임대료</th>\n",
       "      <th>10분내지하철수</th>\n",
       "      <th>10분내버스정류장수</th>\n",
       "      <th>단지내주차면수</th>\n",
       "      <th>등록차량수</th>\n",
       "    </tr>\n",
       "  </thead>\n",
       "  <tbody>\n",
       "    <tr>\n",
       "      <th>2293</th>\n",
       "      <td>N2431</td>\n",
       "      <td>1047</td>\n",
       "      <td>아파트</td>\n",
       "      <td>경상남도</td>\n",
       "      <td>공공임대(10년)</td>\n",
       "      <td>74.97</td>\n",
       "      <td>80</td>\n",
       "      <td>15.0</td>\n",
       "      <td>A</td>\n",
       "      <td>46000000</td>\n",
       "      <td>456000</td>\n",
       "      <td>NaN</td>\n",
       "      <td>NaN</td>\n",
       "      <td>1066.0</td>\n",
       "      <td>1214.0</td>\n",
       "    </tr>\n",
       "    <tr>\n",
       "      <th>2294</th>\n",
       "      <td>N2431</td>\n",
       "      <td>1047</td>\n",
       "      <td>아파트</td>\n",
       "      <td>경상남도</td>\n",
       "      <td>공공임대(10년)</td>\n",
       "      <td>84.95</td>\n",
       "      <td>124</td>\n",
       "      <td>15.0</td>\n",
       "      <td>A</td>\n",
       "      <td>57000000</td>\n",
       "      <td>462000</td>\n",
       "      <td>NaN</td>\n",
       "      <td>NaN</td>\n",
       "      <td>1066.0</td>\n",
       "      <td>1214.0</td>\n",
       "    </tr>\n",
       "    <tr>\n",
       "      <th>2295</th>\n",
       "      <td>N2431</td>\n",
       "      <td>1047</td>\n",
       "      <td>아파트</td>\n",
       "      <td>경상남도</td>\n",
       "      <td>공공임대(10년)</td>\n",
       "      <td>84.96</td>\n",
       "      <td>289</td>\n",
       "      <td>15.0</td>\n",
       "      <td>A</td>\n",
       "      <td>57000000</td>\n",
       "      <td>462000</td>\n",
       "      <td>NaN</td>\n",
       "      <td>NaN</td>\n",
       "      <td>1066.0</td>\n",
       "      <td>1214.0</td>\n",
       "    </tr>\n",
       "    <tr>\n",
       "      <th>2296</th>\n",
       "      <td>N2431</td>\n",
       "      <td>1047</td>\n",
       "      <td>아파트</td>\n",
       "      <td>경상남도</td>\n",
       "      <td>공공임대(10년)</td>\n",
       "      <td>84.98</td>\n",
       "      <td>82</td>\n",
       "      <td>15.0</td>\n",
       "      <td>A</td>\n",
       "      <td>57000000</td>\n",
       "      <td>462000</td>\n",
       "      <td>NaN</td>\n",
       "      <td>NaN</td>\n",
       "      <td>1066.0</td>\n",
       "      <td>1214.0</td>\n",
       "    </tr>\n",
       "    <tr>\n",
       "      <th>2350</th>\n",
       "      <td>N2431</td>\n",
       "      <td>1047</td>\n",
       "      <td>아파트</td>\n",
       "      <td>경상남도</td>\n",
       "      <td>국민임대</td>\n",
       "      <td>36.77</td>\n",
       "      <td>272</td>\n",
       "      <td>16.0</td>\n",
       "      <td>A</td>\n",
       "      <td>11217000</td>\n",
       "      <td>233330</td>\n",
       "      <td>0.0</td>\n",
       "      <td>2.0</td>\n",
       "      <td>1066.0</td>\n",
       "      <td>1214.0</td>\n",
       "    </tr>\n",
       "    <tr>\n",
       "      <th>2351</th>\n",
       "      <td>N2431</td>\n",
       "      <td>1047</td>\n",
       "      <td>아파트</td>\n",
       "      <td>경상남도</td>\n",
       "      <td>국민임대</td>\n",
       "      <td>46.78</td>\n",
       "      <td>200</td>\n",
       "      <td>16.0</td>\n",
       "      <td>A</td>\n",
       "      <td>24389000</td>\n",
       "      <td>303220</td>\n",
       "      <td>0.0</td>\n",
       "      <td>2.0</td>\n",
       "      <td>1066.0</td>\n",
       "      <td>1214.0</td>\n",
       "    </tr>\n",
       "  </tbody>\n",
       "</table>\n",
       "</div>"
      ],
      "text/plain": [
       "       단지코드  총세대수 임대건물구분    지역       공급유형   전용면적  전용면적별세대수   공가수 자격유형  \\\n",
       "2293  N2431  1047    아파트  경상남도  공공임대(10년)  74.97        80  15.0    A   \n",
       "2294  N2431  1047    아파트  경상남도  공공임대(10년)  84.95       124  15.0    A   \n",
       "2295  N2431  1047    아파트  경상남도  공공임대(10년)  84.96       289  15.0    A   \n",
       "2296  N2431  1047    아파트  경상남도  공공임대(10년)  84.98        82  15.0    A   \n",
       "2350  N2431  1047    아파트  경상남도       국민임대  36.77       272  16.0    A   \n",
       "2351  N2431  1047    아파트  경상남도       국민임대  46.78       200  16.0    A   \n",
       "\n",
       "         임대보증금     임대료  10분내지하철수  10분내버스정류장수  단지내주차면수   등록차량수  \n",
       "2293  46000000  456000       NaN         NaN   1066.0  1214.0  \n",
       "2294  57000000  462000       NaN         NaN   1066.0  1214.0  \n",
       "2295  57000000  462000       NaN         NaN   1066.0  1214.0  \n",
       "2296  57000000  462000       NaN         NaN   1066.0  1214.0  \n",
       "2350  11217000  233330       0.0         2.0   1066.0  1214.0  \n",
       "2351  24389000  303220       0.0         2.0   1066.0  1214.0  "
      ]
     },
     "execution_count": 8,
     "metadata": {},
     "output_type": "execute_result"
    }
   ],
   "source": [
    "# C2431, C1649 -> N2431\n",
    "print( train.loc[ train['단지코드']=='N2431', : ].shape )\n",
    "train.loc[ train['단지코드']=='N2431', : ]"
   ]
  },
  {
   "cell_type": "markdown",
   "metadata": {},
   "source": [
    "### 오류 코드 변경\n",
    " * C1036의 총세대수를 1243로 변경\n",
    " * C1036의 단지코드를 N1036로 변경"
   ]
  },
  {
   "cell_type": "code",
   "execution_count": 9,
   "metadata": {},
   "outputs": [
    {
     "data": {
      "text/plain": [
       "(7, 15)"
      ]
     },
     "execution_count": 9,
     "metadata": {},
     "output_type": "execute_result"
    }
   ],
   "source": [
    "# C2085, C1397 -> N2085\n",
    "train.loc[ train['단지코드']=='N1036', : ].shape"
   ]
  },
  {
   "cell_type": "markdown",
   "metadata": {},
   "source": [
    "### 오류 3\n",
    "```\n",
    "3. 단지코드 등 기입 실수로 데이터 정제 과정에서 매칭 오류 발생  \n",
    " - (오류 내용) 단지코드 등 기입 실수로 총세대수가 주차면수에 비해 과하게 많거나 적은 경우가 발생하였고, 점검 결과 일부 데이터의 단지코드, 총세대수, 주차면수 등에서 오류가 검출되었습니다.\n",
    " - (발생 원인) 원천데이터 수집 과정에서 단지 코드 등이 잘못 기입되었고 이를 인지하지 못한 채 데이터 정제를 하여 오류가 발생하였습니다.\n",
    " - (관련 데이터) 아래와 같이 총 9개 단지에서 같은 문제가 확인되었습니다. \n",
    "※ 실수가 발생한 단지 코드 (9개 단지) : ['C2335', 'C1327', 'C1095', 'C2051', 'C1218', 'C1894', 'C2483', 'C1502', 'C1988']\n",
    " - C2335, C1327 단지는 테스트셋, 나머지는 트레인셋 입니다.\n",
    "```"
   ]
  },
  {
   "cell_type": "markdown",
   "metadata": {},
   "source": [
    "### 오류 처리\n",
    " * train 데이터 셋에 오류 발생 코드를 ERR04로 변경 후, 데이터 셋을 두개로 분리"
   ]
  },
  {
   "cell_type": "code",
   "execution_count": 10,
   "metadata": {},
   "outputs": [
    {
     "data": {
      "text/plain": [
       "(0, 15)"
      ]
     },
     "execution_count": 10,
     "metadata": {},
     "output_type": "execute_result"
    }
   ],
   "source": [
    "train.loc[ train['단지코드'].str.contains('ERR'), :].shape"
   ]
  },
  {
   "cell_type": "markdown",
   "metadata": {},
   "source": [
    "### 02. 결측치를 처리(1)"
   ]
  },
  {
   "cell_type": "code",
   "execution_count": 11,
   "metadata": {},
   "outputs": [
    {
     "data": {
      "text/plain": [
       "단지코드            0\n",
       "총세대수            0\n",
       "임대건물구분          0\n",
       "지역              0\n",
       "공급유형            0\n",
       "전용면적            0\n",
       "전용면적별세대수        0\n",
       "공가수             0\n",
       "자격유형            0\n",
       "임대보증금         569\n",
       "임대료           569\n",
       "10분내지하철수      211\n",
       "10분내버스정류장수      4\n",
       "단지내주차면수         0\n",
       "등록차량수           0\n",
       "dtype: int64"
      ]
     },
     "execution_count": 11,
     "metadata": {},
     "output_type": "execute_result"
    }
   ],
   "source": [
    "train.isnull().sum()"
   ]
  },
  {
   "cell_type": "code",
   "execution_count": 12,
   "metadata": {},
   "outputs": [
    {
     "data": {
      "text/plain": [
       "단지코드            0\n",
       "총세대수            0\n",
       "임대건물구분          0\n",
       "지역              0\n",
       "공급유형            0\n",
       "전용면적            0\n",
       "전용면적별세대수        0\n",
       "공가수             0\n",
       "자격유형            2\n",
       "임대보증금         180\n",
       "임대료           180\n",
       "10분내지하철수       38\n",
       "10분내버스정류장수      0\n",
       "단지내주차면수         0\n",
       "dtype: int64"
      ]
     },
     "execution_count": 12,
     "metadata": {},
     "output_type": "execute_result"
    }
   ],
   "source": [
    "test.isnull().sum()"
   ]
  },
  {
   "cell_type": "markdown",
   "metadata": {},
   "source": [
    "###  자격유형(test) 결측치 처리"
   ]
  },
  {
   "cell_type": "code",
   "execution_count": 13,
   "metadata": {},
   "outputs": [
    {
     "data": {
      "text/plain": [
       "array(['경상남도', '대전광역시', '경기도', '전라북도', '강원도', '광주광역시', '충청남도', '부산광역시',\n",
       "       '제주특별자치도', '울산광역시', '충청북도', '전라남도', '경상북도', '대구광역시', '서울특별시',\n",
       "       '세종특별자치시'], dtype=object)"
      ]
     },
     "execution_count": 13,
     "metadata": {},
     "output_type": "execute_result"
    }
   ],
   "source": [
    "train['지역'].unique()"
   ]
  },
  {
   "cell_type": "code",
   "execution_count": 14,
   "metadata": {},
   "outputs": [
    {
     "data": {
      "text/plain": [
       "array(['경기도', '부산광역시', '전라북도', '경상남도', '충청남도', '대전광역시', '제주특별자치도', '강원도',\n",
       "       '울산광역시', '경상북도', '충청북도', '광주광역시', '전라남도', '대구광역시', '세종특별자치시'],\n",
       "      dtype=object)"
      ]
     },
     "execution_count": 14,
     "metadata": {},
     "output_type": "execute_result"
    }
   ],
   "source": [
    "test['지역'].unique()"
   ]
  },
  {
   "cell_type": "code",
   "execution_count": 15,
   "metadata": {},
   "outputs": [
    {
     "data": {
      "text/html": [
       "<div>\n",
       "<style scoped>\n",
       "    .dataframe tbody tr th:only-of-type {\n",
       "        vertical-align: middle;\n",
       "    }\n",
       "\n",
       "    .dataframe tbody tr th {\n",
       "        vertical-align: top;\n",
       "    }\n",
       "\n",
       "    .dataframe thead th {\n",
       "        text-align: right;\n",
       "    }\n",
       "</style>\n",
       "<table border=\"1\" class=\"dataframe\">\n",
       "  <thead>\n",
       "    <tr style=\"text-align: right;\">\n",
       "      <th></th>\n",
       "      <th>단지코드</th>\n",
       "      <th>총세대수</th>\n",
       "      <th>임대건물구분</th>\n",
       "      <th>지역</th>\n",
       "      <th>공급유형</th>\n",
       "      <th>전용면적</th>\n",
       "      <th>전용면적별세대수</th>\n",
       "      <th>공가수</th>\n",
       "      <th>자격유형</th>\n",
       "      <th>임대보증금</th>\n",
       "      <th>임대료</th>\n",
       "      <th>10분내지하철수</th>\n",
       "      <th>10분내버스정류장수</th>\n",
       "      <th>단지내주차면수</th>\n",
       "    </tr>\n",
       "  </thead>\n",
       "  <tbody>\n",
       "    <tr>\n",
       "      <th>196</th>\n",
       "      <td>C2411</td>\n",
       "      <td>962</td>\n",
       "      <td>아파트</td>\n",
       "      <td>경상남도</td>\n",
       "      <td>국민임대</td>\n",
       "      <td>46.90</td>\n",
       "      <td>240</td>\n",
       "      <td>25.0</td>\n",
       "      <td>NaN</td>\n",
       "      <td>71950000</td>\n",
       "      <td>37470</td>\n",
       "      <td>0.0</td>\n",
       "      <td>2.0</td>\n",
       "      <td>840.0</td>\n",
       "    </tr>\n",
       "    <tr>\n",
       "      <th>258</th>\n",
       "      <td>C2253</td>\n",
       "      <td>1161</td>\n",
       "      <td>아파트</td>\n",
       "      <td>강원도</td>\n",
       "      <td>영구임대</td>\n",
       "      <td>26.37</td>\n",
       "      <td>745</td>\n",
       "      <td>0.0</td>\n",
       "      <td>NaN</td>\n",
       "      <td>2249000</td>\n",
       "      <td>44770</td>\n",
       "      <td>0.0</td>\n",
       "      <td>2.0</td>\n",
       "      <td>173.0</td>\n",
       "    </tr>\n",
       "  </tbody>\n",
       "</table>\n",
       "</div>"
      ],
      "text/plain": [
       "      단지코드  총세대수 임대건물구분    지역  공급유형   전용면적  전용면적별세대수   공가수 자격유형     임대보증금  \\\n",
       "196  C2411   962    아파트  경상남도  국민임대  46.90       240  25.0  NaN  71950000   \n",
       "258  C2253  1161    아파트   강원도  영구임대  26.37       745   0.0  NaN   2249000   \n",
       "\n",
       "       임대료  10분내지하철수  10분내버스정류장수  단지내주차면수  \n",
       "196  37470       0.0         2.0    840.0  \n",
       "258  44770       0.0         2.0    173.0  "
      ]
     },
     "execution_count": 15,
     "metadata": {},
     "output_type": "execute_result"
    }
   ],
   "source": [
    "test.loc[test['자격유형'].isnull()]"
   ]
  },
  {
   "cell_type": "code",
   "execution_count": 16,
   "metadata": {},
   "outputs": [
    {
     "data": {
      "text/html": [
       "<div>\n",
       "<style scoped>\n",
       "    .dataframe tbody tr th:only-of-type {\n",
       "        vertical-align: middle;\n",
       "    }\n",
       "\n",
       "    .dataframe tbody tr th {\n",
       "        vertical-align: top;\n",
       "    }\n",
       "\n",
       "    .dataframe thead th {\n",
       "        text-align: right;\n",
       "    }\n",
       "</style>\n",
       "<table border=\"1\" class=\"dataframe\">\n",
       "  <thead>\n",
       "    <tr style=\"text-align: right;\">\n",
       "      <th></th>\n",
       "      <th>단지코드</th>\n",
       "      <th>총세대수</th>\n",
       "      <th>임대건물구분</th>\n",
       "      <th>지역</th>\n",
       "      <th>공급유형</th>\n",
       "      <th>전용면적</th>\n",
       "      <th>전용면적별세대수</th>\n",
       "      <th>공가수</th>\n",
       "      <th>자격유형</th>\n",
       "      <th>임대보증금</th>\n",
       "      <th>임대료</th>\n",
       "      <th>10분내지하철수</th>\n",
       "      <th>10분내버스정류장수</th>\n",
       "      <th>단지내주차면수</th>\n",
       "    </tr>\n",
       "  </thead>\n",
       "  <tbody>\n",
       "    <tr>\n",
       "      <th>258</th>\n",
       "      <td>C2253</td>\n",
       "      <td>1161</td>\n",
       "      <td>아파트</td>\n",
       "      <td>강원도</td>\n",
       "      <td>영구임대</td>\n",
       "      <td>26.37</td>\n",
       "      <td>745</td>\n",
       "      <td>0.0</td>\n",
       "      <td>NaN</td>\n",
       "      <td>2249000</td>\n",
       "      <td>44770</td>\n",
       "      <td>0.0</td>\n",
       "      <td>2.0</td>\n",
       "      <td>173.0</td>\n",
       "    </tr>\n",
       "    <tr>\n",
       "      <th>259</th>\n",
       "      <td>C2253</td>\n",
       "      <td>1161</td>\n",
       "      <td>아파트</td>\n",
       "      <td>강원도</td>\n",
       "      <td>영구임대</td>\n",
       "      <td>31.32</td>\n",
       "      <td>239</td>\n",
       "      <td>0.0</td>\n",
       "      <td>C</td>\n",
       "      <td>3731000</td>\n",
       "      <td>83020</td>\n",
       "      <td>0.0</td>\n",
       "      <td>2.0</td>\n",
       "      <td>173.0</td>\n",
       "    </tr>\n",
       "    <tr>\n",
       "      <th>260</th>\n",
       "      <td>C2253</td>\n",
       "      <td>1161</td>\n",
       "      <td>아파트</td>\n",
       "      <td>강원도</td>\n",
       "      <td>영구임대</td>\n",
       "      <td>31.32</td>\n",
       "      <td>149</td>\n",
       "      <td>0.0</td>\n",
       "      <td>C</td>\n",
       "      <td>3731000</td>\n",
       "      <td>83020</td>\n",
       "      <td>0.0</td>\n",
       "      <td>2.0</td>\n",
       "      <td>173.0</td>\n",
       "    </tr>\n",
       "  </tbody>\n",
       "</table>\n",
       "</div>"
      ],
      "text/plain": [
       "      단지코드  총세대수 임대건물구분   지역  공급유형   전용면적  전용면적별세대수  공가수 자격유형    임대보증금    임대료  \\\n",
       "258  C2253  1161    아파트  강원도  영구임대  26.37       745  0.0  NaN  2249000  44770   \n",
       "259  C2253  1161    아파트  강원도  영구임대  31.32       239  0.0    C  3731000  83020   \n",
       "260  C2253  1161    아파트  강원도  영구임대  31.32       149  0.0    C  3731000  83020   \n",
       "\n",
       "     10분내지하철수  10분내버스정류장수  단지내주차면수  \n",
       "258       0.0         2.0    173.0  \n",
       "259       0.0         2.0    173.0  \n",
       "260       0.0         2.0    173.0  "
      ]
     },
     "execution_count": 16,
     "metadata": {},
     "output_type": "execute_result"
    }
   ],
   "source": [
    "grouped = test.groupby(['단지코드', '임대건물구분', '지역','공급유형'])\n",
    "group1 = grouped.get_group( ('C2411', '아파트', '경상남도', '국민임대')  )\n",
    "group2 = grouped.get_group( ('C2253', '아파트', '강원도', '영구임대')  )\n",
    "group2"
   ]
  },
  {
   "cell_type": "code",
   "execution_count": 17,
   "metadata": {},
   "outputs": [],
   "source": [
    "test.loc[ 196, \"자격유형\"] = 'A'\n",
    "test.loc[ 258, \"자격유형\"] = 'C'"
   ]
  },
  {
   "cell_type": "code",
   "execution_count": 18,
   "metadata": {},
   "outputs": [
    {
     "data": {
      "text/html": [
       "<div>\n",
       "<style scoped>\n",
       "    .dataframe tbody tr th:only-of-type {\n",
       "        vertical-align: middle;\n",
       "    }\n",
       "\n",
       "    .dataframe tbody tr th {\n",
       "        vertical-align: top;\n",
       "    }\n",
       "\n",
       "    .dataframe thead th {\n",
       "        text-align: right;\n",
       "    }\n",
       "</style>\n",
       "<table border=\"1\" class=\"dataframe\">\n",
       "  <thead>\n",
       "    <tr style=\"text-align: right;\">\n",
       "      <th></th>\n",
       "      <th>단지코드</th>\n",
       "      <th>총세대수</th>\n",
       "      <th>임대건물구분</th>\n",
       "      <th>지역</th>\n",
       "      <th>공급유형</th>\n",
       "      <th>전용면적</th>\n",
       "      <th>전용면적별세대수</th>\n",
       "      <th>공가수</th>\n",
       "      <th>자격유형</th>\n",
       "      <th>임대보증금</th>\n",
       "      <th>임대료</th>\n",
       "      <th>10분내지하철수</th>\n",
       "      <th>10분내버스정류장수</th>\n",
       "      <th>단지내주차면수</th>\n",
       "      <th>등록차량수</th>\n",
       "    </tr>\n",
       "  </thead>\n",
       "  <tbody>\n",
       "    <tr>\n",
       "      <th>0</th>\n",
       "      <td>C2515</td>\n",
       "      <td>545</td>\n",
       "      <td>아파트</td>\n",
       "      <td>경상남도</td>\n",
       "      <td>국민임대</td>\n",
       "      <td>33.48</td>\n",
       "      <td>276</td>\n",
       "      <td>17.0</td>\n",
       "      <td>A</td>\n",
       "      <td>9216000</td>\n",
       "      <td>82940</td>\n",
       "      <td>0.0</td>\n",
       "      <td>3.0</td>\n",
       "      <td>624.0</td>\n",
       "      <td>205.0</td>\n",
       "    </tr>\n",
       "    <tr>\n",
       "      <th>1</th>\n",
       "      <td>C2515</td>\n",
       "      <td>545</td>\n",
       "      <td>아파트</td>\n",
       "      <td>경상남도</td>\n",
       "      <td>국민임대</td>\n",
       "      <td>39.60</td>\n",
       "      <td>60</td>\n",
       "      <td>17.0</td>\n",
       "      <td>A</td>\n",
       "      <td>12672000</td>\n",
       "      <td>107130</td>\n",
       "      <td>0.0</td>\n",
       "      <td>3.0</td>\n",
       "      <td>624.0</td>\n",
       "      <td>205.0</td>\n",
       "    </tr>\n",
       "    <tr>\n",
       "      <th>2</th>\n",
       "      <td>C2515</td>\n",
       "      <td>545</td>\n",
       "      <td>아파트</td>\n",
       "      <td>경상남도</td>\n",
       "      <td>국민임대</td>\n",
       "      <td>39.60</td>\n",
       "      <td>20</td>\n",
       "      <td>17.0</td>\n",
       "      <td>A</td>\n",
       "      <td>12672000</td>\n",
       "      <td>107130</td>\n",
       "      <td>0.0</td>\n",
       "      <td>3.0</td>\n",
       "      <td>624.0</td>\n",
       "      <td>205.0</td>\n",
       "    </tr>\n",
       "  </tbody>\n",
       "</table>\n",
       "</div>"
      ],
      "text/plain": [
       "    단지코드  총세대수 임대건물구분    지역  공급유형   전용면적  전용면적별세대수   공가수 자격유형     임대보증금  \\\n",
       "0  C2515   545    아파트  경상남도  국민임대  33.48       276  17.0    A   9216000   \n",
       "1  C2515   545    아파트  경상남도  국민임대  39.60        60  17.0    A  12672000   \n",
       "2  C2515   545    아파트  경상남도  국민임대  39.60        20  17.0    A  12672000   \n",
       "\n",
       "      임대료  10분내지하철수  10분내버스정류장수  단지내주차면수  등록차량수  \n",
       "0   82940       0.0         3.0    624.0  205.0  \n",
       "1  107130       0.0         3.0    624.0  205.0  \n",
       "2  107130       0.0         3.0    624.0  205.0  "
      ]
     },
     "execution_count": 18,
     "metadata": {},
     "output_type": "execute_result"
    }
   ],
   "source": [
    "train.head(3)"
   ]
  },
  {
   "cell_type": "code",
   "execution_count": 19,
   "metadata": {},
   "outputs": [
    {
     "data": {
      "text/html": [
       "<div>\n",
       "<style scoped>\n",
       "    .dataframe tbody tr th:only-of-type {\n",
       "        vertical-align: middle;\n",
       "    }\n",
       "\n",
       "    .dataframe tbody tr th {\n",
       "        vertical-align: top;\n",
       "    }\n",
       "\n",
       "    .dataframe thead th {\n",
       "        text-align: right;\n",
       "    }\n",
       "</style>\n",
       "<table border=\"1\" class=\"dataframe\">\n",
       "  <thead>\n",
       "    <tr style=\"text-align: right;\">\n",
       "      <th></th>\n",
       "      <th>단지코드</th>\n",
       "      <th>총세대수</th>\n",
       "      <th>임대건물구분</th>\n",
       "      <th>지역</th>\n",
       "      <th>공급유형</th>\n",
       "      <th>전용면적</th>\n",
       "      <th>전용면적별세대수</th>\n",
       "      <th>공가수</th>\n",
       "      <th>자격유형</th>\n",
       "      <th>임대보증금</th>\n",
       "      <th>임대료</th>\n",
       "      <th>10분내지하철수</th>\n",
       "      <th>10분내버스정류장수</th>\n",
       "      <th>단지내주차면수</th>\n",
       "    </tr>\n",
       "  </thead>\n",
       "  <tbody>\n",
       "    <tr>\n",
       "      <th>0</th>\n",
       "      <td>C1072</td>\n",
       "      <td>754</td>\n",
       "      <td>아파트</td>\n",
       "      <td>경기도</td>\n",
       "      <td>국민임대</td>\n",
       "      <td>39.79</td>\n",
       "      <td>116</td>\n",
       "      <td>14.0</td>\n",
       "      <td>H</td>\n",
       "      <td>22830000</td>\n",
       "      <td>189840</td>\n",
       "      <td>0.0</td>\n",
       "      <td>2.0</td>\n",
       "      <td>683.0</td>\n",
       "    </tr>\n",
       "    <tr>\n",
       "      <th>1</th>\n",
       "      <td>C1072</td>\n",
       "      <td>754</td>\n",
       "      <td>아파트</td>\n",
       "      <td>경기도</td>\n",
       "      <td>국민임대</td>\n",
       "      <td>46.81</td>\n",
       "      <td>30</td>\n",
       "      <td>14.0</td>\n",
       "      <td>A</td>\n",
       "      <td>36048000</td>\n",
       "      <td>249930</td>\n",
       "      <td>0.0</td>\n",
       "      <td>2.0</td>\n",
       "      <td>683.0</td>\n",
       "    </tr>\n",
       "    <tr>\n",
       "      <th>2</th>\n",
       "      <td>C1072</td>\n",
       "      <td>754</td>\n",
       "      <td>아파트</td>\n",
       "      <td>경기도</td>\n",
       "      <td>국민임대</td>\n",
       "      <td>46.90</td>\n",
       "      <td>112</td>\n",
       "      <td>14.0</td>\n",
       "      <td>H</td>\n",
       "      <td>36048000</td>\n",
       "      <td>249930</td>\n",
       "      <td>0.0</td>\n",
       "      <td>2.0</td>\n",
       "      <td>683.0</td>\n",
       "    </tr>\n",
       "  </tbody>\n",
       "</table>\n",
       "</div>"
      ],
      "text/plain": [
       "    단지코드  총세대수 임대건물구분   지역  공급유형   전용면적  전용면적별세대수   공가수 자격유형     임대보증금  \\\n",
       "0  C1072   754    아파트  경기도  국민임대  39.79       116  14.0    H  22830000   \n",
       "1  C1072   754    아파트  경기도  국민임대  46.81        30  14.0    A  36048000   \n",
       "2  C1072   754    아파트  경기도  국민임대  46.90       112  14.0    H  36048000   \n",
       "\n",
       "      임대료  10분내지하철수  10분내버스정류장수  단지내주차면수  \n",
       "0  189840       0.0         2.0    683.0  \n",
       "1  249930       0.0         2.0    683.0  \n",
       "2  249930       0.0         2.0    683.0  "
      ]
     },
     "execution_count": 19,
     "metadata": {},
     "output_type": "execute_result"
    }
   ],
   "source": [
    "test.head(3)"
   ]
  },
  {
   "cell_type": "code",
   "execution_count": 20,
   "metadata": {},
   "outputs": [
    {
     "name": "stdout",
     "output_type": "stream",
     "text": [
      "['A' 'B' 'C' 'D' 'E' 'F' 'G' 'H' 'I' 'J' 'K' 'L' 'M' 'N' 'O']\n",
      "['H' 'A' 'E' 'C' 'D' 'G' 'I' 'J' 'K' 'L' 'M' 'N']\n"
     ]
    }
   ],
   "source": [
    "print(train.자격유형.unique())\n",
    "print(test.자격유형.unique())"
   ]
  },
  {
   "cell_type": "code",
   "execution_count": 21,
   "metadata": {},
   "outputs": [
    {
     "data": {
      "text/html": [
       "<div>\n",
       "<style scoped>\n",
       "    .dataframe tbody tr th:only-of-type {\n",
       "        vertical-align: middle;\n",
       "    }\n",
       "\n",
       "    .dataframe tbody tr th {\n",
       "        vertical-align: top;\n",
       "    }\n",
       "\n",
       "    .dataframe thead th {\n",
       "        text-align: right;\n",
       "    }\n",
       "</style>\n",
       "<table border=\"1\" class=\"dataframe\">\n",
       "  <thead>\n",
       "    <tr style=\"text-align: right;\">\n",
       "      <th></th>\n",
       "      <th>단지코드</th>\n",
       "      <th>총세대수</th>\n",
       "      <th>임대건물구분</th>\n",
       "      <th>지역</th>\n",
       "      <th>공급유형</th>\n",
       "      <th>전용면적</th>\n",
       "      <th>전용면적별세대수</th>\n",
       "      <th>공가수</th>\n",
       "      <th>자격유형</th>\n",
       "      <th>임대보증금</th>\n",
       "      <th>임대료</th>\n",
       "      <th>10분내지하철수</th>\n",
       "      <th>10분내버스정류장수</th>\n",
       "      <th>단지내주차면수</th>\n",
       "      <th>등록차량수</th>\n",
       "    </tr>\n",
       "  </thead>\n",
       "  <tbody>\n",
       "    <tr>\n",
       "      <th>0</th>\n",
       "      <td>C2515</td>\n",
       "      <td>545</td>\n",
       "      <td>아파트</td>\n",
       "      <td>경상남도</td>\n",
       "      <td>국민임대</td>\n",
       "      <td>33.48</td>\n",
       "      <td>276</td>\n",
       "      <td>17.0</td>\n",
       "      <td>1</td>\n",
       "      <td>9216000</td>\n",
       "      <td>82940</td>\n",
       "      <td>0.0</td>\n",
       "      <td>3.0</td>\n",
       "      <td>624.0</td>\n",
       "      <td>205.0</td>\n",
       "    </tr>\n",
       "    <tr>\n",
       "      <th>1</th>\n",
       "      <td>C2515</td>\n",
       "      <td>545</td>\n",
       "      <td>아파트</td>\n",
       "      <td>경상남도</td>\n",
       "      <td>국민임대</td>\n",
       "      <td>39.60</td>\n",
       "      <td>60</td>\n",
       "      <td>17.0</td>\n",
       "      <td>1</td>\n",
       "      <td>12672000</td>\n",
       "      <td>107130</td>\n",
       "      <td>0.0</td>\n",
       "      <td>3.0</td>\n",
       "      <td>624.0</td>\n",
       "      <td>205.0</td>\n",
       "    </tr>\n",
       "    <tr>\n",
       "      <th>2</th>\n",
       "      <td>C2515</td>\n",
       "      <td>545</td>\n",
       "      <td>아파트</td>\n",
       "      <td>경상남도</td>\n",
       "      <td>국민임대</td>\n",
       "      <td>39.60</td>\n",
       "      <td>20</td>\n",
       "      <td>17.0</td>\n",
       "      <td>1</td>\n",
       "      <td>12672000</td>\n",
       "      <td>107130</td>\n",
       "      <td>0.0</td>\n",
       "      <td>3.0</td>\n",
       "      <td>624.0</td>\n",
       "      <td>205.0</td>\n",
       "    </tr>\n",
       "  </tbody>\n",
       "</table>\n",
       "</div>"
      ],
      "text/plain": [
       "    단지코드  총세대수 임대건물구분    지역  공급유형   전용면적  전용면적별세대수   공가수  자격유형     임대보증금  \\\n",
       "0  C2515   545    아파트  경상남도  국민임대  33.48       276  17.0     1   9216000   \n",
       "1  C2515   545    아파트  경상남도  국민임대  39.60        60  17.0     1  12672000   \n",
       "2  C2515   545    아파트  경상남도  국민임대  39.60        20  17.0     1  12672000   \n",
       "\n",
       "      임대료  10분내지하철수  10분내버스정류장수  단지내주차면수  등록차량수  \n",
       "0   82940       0.0         3.0    624.0  205.0  \n",
       "1  107130       0.0         3.0    624.0  205.0  \n",
       "2  107130       0.0         3.0    624.0  205.0  "
      ]
     },
     "execution_count": 21,
     "metadata": {},
     "output_type": "execute_result"
    }
   ],
   "source": [
    "mapping = { 'A':1, 'B':2, 'C':3, 'D':4, 'E':5, \n",
    "            'F':6, 'G':7, 'H':8, 'I':9, 'J':10, \n",
    "            'K':11, 'L':12, 'M':13, 'N':14, 'O':15  }\n",
    "\n",
    "train['자격유형'] =train['자격유형'].map(mapping).astype(int)\n",
    "test['자격유형'] =test['자격유형'].map(mapping).astype(int)\n",
    "\n",
    "train.head(3)"
   ]
  },
  {
   "cell_type": "code",
   "execution_count": 22,
   "metadata": {},
   "outputs": [
    {
     "data": {
      "text/html": [
       "<div>\n",
       "<style scoped>\n",
       "    .dataframe tbody tr th:only-of-type {\n",
       "        vertical-align: middle;\n",
       "    }\n",
       "\n",
       "    .dataframe tbody tr th {\n",
       "        vertical-align: top;\n",
       "    }\n",
       "\n",
       "    .dataframe thead th {\n",
       "        text-align: right;\n",
       "    }\n",
       "</style>\n",
       "<table border=\"1\" class=\"dataframe\">\n",
       "  <thead>\n",
       "    <tr style=\"text-align: right;\">\n",
       "      <th></th>\n",
       "      <th>단지코드</th>\n",
       "      <th>총세대수</th>\n",
       "      <th>임대건물구분</th>\n",
       "      <th>지역</th>\n",
       "      <th>공급유형</th>\n",
       "      <th>전용면적</th>\n",
       "      <th>전용면적별세대수</th>\n",
       "      <th>공가수</th>\n",
       "      <th>자격유형</th>\n",
       "      <th>임대보증금</th>\n",
       "      <th>임대료</th>\n",
       "      <th>10분내지하철수</th>\n",
       "      <th>10분내버스정류장수</th>\n",
       "      <th>단지내주차면수</th>\n",
       "    </tr>\n",
       "  </thead>\n",
       "  <tbody>\n",
       "    <tr>\n",
       "      <th>0</th>\n",
       "      <td>C1072</td>\n",
       "      <td>754</td>\n",
       "      <td>아파트</td>\n",
       "      <td>경기도</td>\n",
       "      <td>국민임대</td>\n",
       "      <td>39.79</td>\n",
       "      <td>116</td>\n",
       "      <td>14.0</td>\n",
       "      <td>8</td>\n",
       "      <td>22830000</td>\n",
       "      <td>189840</td>\n",
       "      <td>0.0</td>\n",
       "      <td>2.0</td>\n",
       "      <td>683.0</td>\n",
       "    </tr>\n",
       "    <tr>\n",
       "      <th>1</th>\n",
       "      <td>C1072</td>\n",
       "      <td>754</td>\n",
       "      <td>아파트</td>\n",
       "      <td>경기도</td>\n",
       "      <td>국민임대</td>\n",
       "      <td>46.81</td>\n",
       "      <td>30</td>\n",
       "      <td>14.0</td>\n",
       "      <td>1</td>\n",
       "      <td>36048000</td>\n",
       "      <td>249930</td>\n",
       "      <td>0.0</td>\n",
       "      <td>2.0</td>\n",
       "      <td>683.0</td>\n",
       "    </tr>\n",
       "    <tr>\n",
       "      <th>2</th>\n",
       "      <td>C1072</td>\n",
       "      <td>754</td>\n",
       "      <td>아파트</td>\n",
       "      <td>경기도</td>\n",
       "      <td>국민임대</td>\n",
       "      <td>46.90</td>\n",
       "      <td>112</td>\n",
       "      <td>14.0</td>\n",
       "      <td>8</td>\n",
       "      <td>36048000</td>\n",
       "      <td>249930</td>\n",
       "      <td>0.0</td>\n",
       "      <td>2.0</td>\n",
       "      <td>683.0</td>\n",
       "    </tr>\n",
       "  </tbody>\n",
       "</table>\n",
       "</div>"
      ],
      "text/plain": [
       "    단지코드  총세대수 임대건물구분   지역  공급유형   전용면적  전용면적별세대수   공가수  자격유형     임대보증금  \\\n",
       "0  C1072   754    아파트  경기도  국민임대  39.79       116  14.0     8  22830000   \n",
       "1  C1072   754    아파트  경기도  국민임대  46.81        30  14.0     1  36048000   \n",
       "2  C1072   754    아파트  경기도  국민임대  46.90       112  14.0     8  36048000   \n",
       "\n",
       "      임대료  10분내지하철수  10분내버스정류장수  단지내주차면수  \n",
       "0  189840       0.0         2.0    683.0  \n",
       "1  249930       0.0         2.0    683.0  \n",
       "2  249930       0.0         2.0    683.0  "
      ]
     },
     "execution_count": 22,
     "metadata": {},
     "output_type": "execute_result"
    }
   ],
   "source": [
    "test.head(3)"
   ]
  },
  {
   "cell_type": "code",
   "execution_count": 23,
   "metadata": {},
   "outputs": [
    {
     "name": "stdout",
     "output_type": "stream",
     "text": [
      "['국민임대' '공공임대(50년)' '영구임대' '임대상가' '공공임대(10년)' '공공임대(분납)' '장기전세' '공공분양'\n",
      " '행복주택' '공공임대(5년)']\n",
      "['국민임대' '영구임대' '임대상가' '공공임대(50년)' '공공임대(10년)' '공공임대(분납)' '행복주택']\n"
     ]
    }
   ],
   "source": [
    "print(train.공급유형.unique())\n",
    "print(test.공급유형.unique())"
   ]
  },
  {
   "cell_type": "code",
   "execution_count": 24,
   "metadata": {},
   "outputs": [
    {
     "data": {
      "text/plain": [
       "Index(['단지코드', '총세대수', '임대건물구분', '지역', '공급유형', '전용면적', '전용면적별세대수', '공가수',\n",
       "       '자격유형', '임대보증금', '임대료', '10분내지하철수', '10분내버스정류장수', '단지내주차면수', '등록차량수'],\n",
       "      dtype='object')"
      ]
     },
     "execution_count": 24,
     "metadata": {},
     "output_type": "execute_result"
    }
   ],
   "source": [
    "train.columns"
   ]
  },
  {
   "cell_type": "markdown",
   "metadata": {},
   "source": [
    "### 10분내버스정류장수 (tr) 결측치 처리,"
   ]
  },
  {
   "cell_type": "code",
   "execution_count": 25,
   "metadata": {},
   "outputs": [
    {
     "data": {
      "text/plain": [
       "단지코드            0\n",
       "총세대수            0\n",
       "임대건물구분          0\n",
       "지역              0\n",
       "공급유형            0\n",
       "전용면적            0\n",
       "전용면적별세대수        0\n",
       "공가수             0\n",
       "자격유형            0\n",
       "임대보증금         569\n",
       "임대료           569\n",
       "10분내지하철수      211\n",
       "10분내버스정류장수      4\n",
       "단지내주차면수         0\n",
       "등록차량수           0\n",
       "dtype: int64"
      ]
     },
     "execution_count": 25,
     "metadata": {},
     "output_type": "execute_result"
    }
   ],
   "source": [
    "train.isnull().sum()"
   ]
  },
  {
   "cell_type": "code",
   "execution_count": 26,
   "metadata": {},
   "outputs": [
    {
     "data": {
      "text/html": [
       "<div>\n",
       "<style scoped>\n",
       "    .dataframe tbody tr th:only-of-type {\n",
       "        vertical-align: middle;\n",
       "    }\n",
       "\n",
       "    .dataframe tbody tr th {\n",
       "        vertical-align: top;\n",
       "    }\n",
       "\n",
       "    .dataframe thead th {\n",
       "        text-align: right;\n",
       "    }\n",
       "</style>\n",
       "<table border=\"1\" class=\"dataframe\">\n",
       "  <thead>\n",
       "    <tr style=\"text-align: right;\">\n",
       "      <th></th>\n",
       "      <th>단지코드</th>\n",
       "      <th>총세대수</th>\n",
       "      <th>임대건물구분</th>\n",
       "      <th>지역</th>\n",
       "      <th>공급유형</th>\n",
       "      <th>전용면적</th>\n",
       "      <th>전용면적별세대수</th>\n",
       "      <th>공가수</th>\n",
       "      <th>자격유형</th>\n",
       "      <th>임대보증금</th>\n",
       "      <th>임대료</th>\n",
       "      <th>10분내지하철수</th>\n",
       "      <th>10분내버스정류장수</th>\n",
       "      <th>단지내주차면수</th>\n",
       "      <th>등록차량수</th>\n",
       "    </tr>\n",
       "  </thead>\n",
       "  <tbody>\n",
       "    <tr>\n",
       "      <th>2293</th>\n",
       "      <td>N2431</td>\n",
       "      <td>1047</td>\n",
       "      <td>아파트</td>\n",
       "      <td>경상남도</td>\n",
       "      <td>공공임대(10년)</td>\n",
       "      <td>74.97</td>\n",
       "      <td>80</td>\n",
       "      <td>15.0</td>\n",
       "      <td>1</td>\n",
       "      <td>46000000</td>\n",
       "      <td>456000</td>\n",
       "      <td>NaN</td>\n",
       "      <td>NaN</td>\n",
       "      <td>1066.0</td>\n",
       "      <td>1214.0</td>\n",
       "    </tr>\n",
       "    <tr>\n",
       "      <th>2294</th>\n",
       "      <td>N2431</td>\n",
       "      <td>1047</td>\n",
       "      <td>아파트</td>\n",
       "      <td>경상남도</td>\n",
       "      <td>공공임대(10년)</td>\n",
       "      <td>84.95</td>\n",
       "      <td>124</td>\n",
       "      <td>15.0</td>\n",
       "      <td>1</td>\n",
       "      <td>57000000</td>\n",
       "      <td>462000</td>\n",
       "      <td>NaN</td>\n",
       "      <td>NaN</td>\n",
       "      <td>1066.0</td>\n",
       "      <td>1214.0</td>\n",
       "    </tr>\n",
       "    <tr>\n",
       "      <th>2295</th>\n",
       "      <td>N2431</td>\n",
       "      <td>1047</td>\n",
       "      <td>아파트</td>\n",
       "      <td>경상남도</td>\n",
       "      <td>공공임대(10년)</td>\n",
       "      <td>84.96</td>\n",
       "      <td>289</td>\n",
       "      <td>15.0</td>\n",
       "      <td>1</td>\n",
       "      <td>57000000</td>\n",
       "      <td>462000</td>\n",
       "      <td>NaN</td>\n",
       "      <td>NaN</td>\n",
       "      <td>1066.0</td>\n",
       "      <td>1214.0</td>\n",
       "    </tr>\n",
       "    <tr>\n",
       "      <th>2296</th>\n",
       "      <td>N2431</td>\n",
       "      <td>1047</td>\n",
       "      <td>아파트</td>\n",
       "      <td>경상남도</td>\n",
       "      <td>공공임대(10년)</td>\n",
       "      <td>84.98</td>\n",
       "      <td>82</td>\n",
       "      <td>15.0</td>\n",
       "      <td>1</td>\n",
       "      <td>57000000</td>\n",
       "      <td>462000</td>\n",
       "      <td>NaN</td>\n",
       "      <td>NaN</td>\n",
       "      <td>1066.0</td>\n",
       "      <td>1214.0</td>\n",
       "    </tr>\n",
       "  </tbody>\n",
       "</table>\n",
       "</div>"
      ],
      "text/plain": [
       "       단지코드  총세대수 임대건물구분    지역       공급유형   전용면적  전용면적별세대수   공가수  자격유형  \\\n",
       "2293  N2431  1047    아파트  경상남도  공공임대(10년)  74.97        80  15.0     1   \n",
       "2294  N2431  1047    아파트  경상남도  공공임대(10년)  84.95       124  15.0     1   \n",
       "2295  N2431  1047    아파트  경상남도  공공임대(10년)  84.96       289  15.0     1   \n",
       "2296  N2431  1047    아파트  경상남도  공공임대(10년)  84.98        82  15.0     1   \n",
       "\n",
       "         임대보증금     임대료  10분내지하철수  10분내버스정류장수  단지내주차면수   등록차량수  \n",
       "2293  46000000  456000       NaN         NaN   1066.0  1214.0  \n",
       "2294  57000000  462000       NaN         NaN   1066.0  1214.0  \n",
       "2295  57000000  462000       NaN         NaN   1066.0  1214.0  \n",
       "2296  57000000  462000       NaN         NaN   1066.0  1214.0  "
      ]
     },
     "execution_count": 26,
     "metadata": {},
     "output_type": "execute_result"
    }
   ],
   "source": [
    "train.loc[ train['10분내버스정류장수'].isnull(), :]"
   ]
  },
  {
   "cell_type": "code",
   "execution_count": 27,
   "metadata": {},
   "outputs": [
    {
     "data": {
      "text/html": [
       "<div>\n",
       "<style scoped>\n",
       "    .dataframe tbody tr th:only-of-type {\n",
       "        vertical-align: middle;\n",
       "    }\n",
       "\n",
       "    .dataframe tbody tr th {\n",
       "        vertical-align: top;\n",
       "    }\n",
       "\n",
       "    .dataframe thead th {\n",
       "        text-align: right;\n",
       "    }\n",
       "</style>\n",
       "<table border=\"1\" class=\"dataframe\">\n",
       "  <thead>\n",
       "    <tr style=\"text-align: right;\">\n",
       "      <th></th>\n",
       "      <th>단지코드</th>\n",
       "      <th>총세대수</th>\n",
       "      <th>임대건물구분</th>\n",
       "      <th>지역</th>\n",
       "      <th>공급유형</th>\n",
       "      <th>전용면적</th>\n",
       "      <th>전용면적별세대수</th>\n",
       "      <th>공가수</th>\n",
       "      <th>자격유형</th>\n",
       "      <th>임대보증금</th>\n",
       "      <th>임대료</th>\n",
       "      <th>10분내지하철수</th>\n",
       "      <th>10분내버스정류장수</th>\n",
       "      <th>단지내주차면수</th>\n",
       "      <th>등록차량수</th>\n",
       "    </tr>\n",
       "  </thead>\n",
       "  <tbody>\n",
       "    <tr>\n",
       "      <th>2158</th>\n",
       "      <td>C1788</td>\n",
       "      <td>376</td>\n",
       "      <td>아파트</td>\n",
       "      <td>경상남도</td>\n",
       "      <td>공공임대(10년)</td>\n",
       "      <td>51.59</td>\n",
       "      <td>116</td>\n",
       "      <td>28.0</td>\n",
       "      <td>1</td>\n",
       "      <td>29000000</td>\n",
       "      <td>340000</td>\n",
       "      <td>0.0</td>\n",
       "      <td>3.0</td>\n",
       "      <td>380.0</td>\n",
       "      <td>412.0</td>\n",
       "    </tr>\n",
       "    <tr>\n",
       "      <th>2159</th>\n",
       "      <td>C1788</td>\n",
       "      <td>376</td>\n",
       "      <td>아파트</td>\n",
       "      <td>경상남도</td>\n",
       "      <td>공공임대(10년)</td>\n",
       "      <td>59.97</td>\n",
       "      <td>260</td>\n",
       "      <td>28.0</td>\n",
       "      <td>1</td>\n",
       "      <td>36000000</td>\n",
       "      <td>390000</td>\n",
       "      <td>0.0</td>\n",
       "      <td>3.0</td>\n",
       "      <td>380.0</td>\n",
       "      <td>412.0</td>\n",
       "    </tr>\n",
       "    <tr>\n",
       "      <th>2208</th>\n",
       "      <td>C2405</td>\n",
       "      <td>600</td>\n",
       "      <td>아파트</td>\n",
       "      <td>경상남도</td>\n",
       "      <td>공공임대(10년)</td>\n",
       "      <td>75.84</td>\n",
       "      <td>48</td>\n",
       "      <td>22.0</td>\n",
       "      <td>1</td>\n",
       "      <td>36019000</td>\n",
       "      <td>603480</td>\n",
       "      <td>0.0</td>\n",
       "      <td>8.0</td>\n",
       "      <td>728.0</td>\n",
       "      <td>1240.0</td>\n",
       "    </tr>\n",
       "    <tr>\n",
       "      <th>2209</th>\n",
       "      <td>C2405</td>\n",
       "      <td>600</td>\n",
       "      <td>아파트</td>\n",
       "      <td>경상남도</td>\n",
       "      <td>공공임대(10년)</td>\n",
       "      <td>75.99</td>\n",
       "      <td>54</td>\n",
       "      <td>22.0</td>\n",
       "      <td>1</td>\n",
       "      <td>36113000</td>\n",
       "      <td>603480</td>\n",
       "      <td>0.0</td>\n",
       "      <td>8.0</td>\n",
       "      <td>728.0</td>\n",
       "      <td>1240.0</td>\n",
       "    </tr>\n",
       "    <tr>\n",
       "      <th>2210</th>\n",
       "      <td>C2405</td>\n",
       "      <td>600</td>\n",
       "      <td>아파트</td>\n",
       "      <td>경상남도</td>\n",
       "      <td>공공임대(10년)</td>\n",
       "      <td>84.95</td>\n",
       "      <td>182</td>\n",
       "      <td>22.0</td>\n",
       "      <td>1</td>\n",
       "      <td>44868000</td>\n",
       "      <td>636400</td>\n",
       "      <td>0.0</td>\n",
       "      <td>8.0</td>\n",
       "      <td>728.0</td>\n",
       "      <td>1240.0</td>\n",
       "    </tr>\n",
       "    <tr>\n",
       "      <th>2293</th>\n",
       "      <td>N2431</td>\n",
       "      <td>1047</td>\n",
       "      <td>아파트</td>\n",
       "      <td>경상남도</td>\n",
       "      <td>공공임대(10년)</td>\n",
       "      <td>74.97</td>\n",
       "      <td>80</td>\n",
       "      <td>15.0</td>\n",
       "      <td>1</td>\n",
       "      <td>46000000</td>\n",
       "      <td>456000</td>\n",
       "      <td>NaN</td>\n",
       "      <td>NaN</td>\n",
       "      <td>1066.0</td>\n",
       "      <td>1214.0</td>\n",
       "    </tr>\n",
       "    <tr>\n",
       "      <th>2294</th>\n",
       "      <td>N2431</td>\n",
       "      <td>1047</td>\n",
       "      <td>아파트</td>\n",
       "      <td>경상남도</td>\n",
       "      <td>공공임대(10년)</td>\n",
       "      <td>84.95</td>\n",
       "      <td>124</td>\n",
       "      <td>15.0</td>\n",
       "      <td>1</td>\n",
       "      <td>57000000</td>\n",
       "      <td>462000</td>\n",
       "      <td>NaN</td>\n",
       "      <td>NaN</td>\n",
       "      <td>1066.0</td>\n",
       "      <td>1214.0</td>\n",
       "    </tr>\n",
       "    <tr>\n",
       "      <th>2295</th>\n",
       "      <td>N2431</td>\n",
       "      <td>1047</td>\n",
       "      <td>아파트</td>\n",
       "      <td>경상남도</td>\n",
       "      <td>공공임대(10년)</td>\n",
       "      <td>84.96</td>\n",
       "      <td>289</td>\n",
       "      <td>15.0</td>\n",
       "      <td>1</td>\n",
       "      <td>57000000</td>\n",
       "      <td>462000</td>\n",
       "      <td>NaN</td>\n",
       "      <td>NaN</td>\n",
       "      <td>1066.0</td>\n",
       "      <td>1214.0</td>\n",
       "    </tr>\n",
       "    <tr>\n",
       "      <th>2296</th>\n",
       "      <td>N2431</td>\n",
       "      <td>1047</td>\n",
       "      <td>아파트</td>\n",
       "      <td>경상남도</td>\n",
       "      <td>공공임대(10년)</td>\n",
       "      <td>84.98</td>\n",
       "      <td>82</td>\n",
       "      <td>15.0</td>\n",
       "      <td>1</td>\n",
       "      <td>57000000</td>\n",
       "      <td>462000</td>\n",
       "      <td>NaN</td>\n",
       "      <td>NaN</td>\n",
       "      <td>1066.0</td>\n",
       "      <td>1214.0</td>\n",
       "    </tr>\n",
       "    <tr>\n",
       "      <th>2498</th>\n",
       "      <td>C1941</td>\n",
       "      <td>404</td>\n",
       "      <td>아파트</td>\n",
       "      <td>경상남도</td>\n",
       "      <td>공공임대(10년)</td>\n",
       "      <td>84.94</td>\n",
       "      <td>64</td>\n",
       "      <td>19.0</td>\n",
       "      <td>1</td>\n",
       "      <td>47288000</td>\n",
       "      <td>627080</td>\n",
       "      <td>0.0</td>\n",
       "      <td>3.0</td>\n",
       "      <td>490.0</td>\n",
       "      <td>600.0</td>\n",
       "    </tr>\n",
       "    <tr>\n",
       "      <th>2499</th>\n",
       "      <td>C1941</td>\n",
       "      <td>404</td>\n",
       "      <td>아파트</td>\n",
       "      <td>경상남도</td>\n",
       "      <td>공공임대(10년)</td>\n",
       "      <td>84.94</td>\n",
       "      <td>72</td>\n",
       "      <td>19.0</td>\n",
       "      <td>1</td>\n",
       "      <td>47288000</td>\n",
       "      <td>627080</td>\n",
       "      <td>0.0</td>\n",
       "      <td>3.0</td>\n",
       "      <td>490.0</td>\n",
       "      <td>600.0</td>\n",
       "    </tr>\n",
       "    <tr>\n",
       "      <th>2500</th>\n",
       "      <td>C1941</td>\n",
       "      <td>404</td>\n",
       "      <td>아파트</td>\n",
       "      <td>경상남도</td>\n",
       "      <td>공공임대(10년)</td>\n",
       "      <td>84.96</td>\n",
       "      <td>16</td>\n",
       "      <td>19.0</td>\n",
       "      <td>1</td>\n",
       "      <td>47288000</td>\n",
       "      <td>627080</td>\n",
       "      <td>0.0</td>\n",
       "      <td>3.0</td>\n",
       "      <td>490.0</td>\n",
       "      <td>600.0</td>\n",
       "    </tr>\n",
       "    <tr>\n",
       "      <th>2501</th>\n",
       "      <td>C1941</td>\n",
       "      <td>404</td>\n",
       "      <td>아파트</td>\n",
       "      <td>경상남도</td>\n",
       "      <td>공공임대(10년)</td>\n",
       "      <td>84.99</td>\n",
       "      <td>252</td>\n",
       "      <td>19.0</td>\n",
       "      <td>1</td>\n",
       "      <td>47288000</td>\n",
       "      <td>627080</td>\n",
       "      <td>0.0</td>\n",
       "      <td>3.0</td>\n",
       "      <td>490.0</td>\n",
       "      <td>600.0</td>\n",
       "    </tr>\n",
       "    <tr>\n",
       "      <th>2594</th>\n",
       "      <td>C1284</td>\n",
       "      <td>528</td>\n",
       "      <td>아파트</td>\n",
       "      <td>경상남도</td>\n",
       "      <td>공공임대(10년)</td>\n",
       "      <td>59.72</td>\n",
       "      <td>59</td>\n",
       "      <td>0.0</td>\n",
       "      <td>1</td>\n",
       "      <td>32896000</td>\n",
       "      <td>185040</td>\n",
       "      <td>0.0</td>\n",
       "      <td>5.0</td>\n",
       "      <td>543.0</td>\n",
       "      <td>780.0</td>\n",
       "    </tr>\n",
       "    <tr>\n",
       "      <th>2595</th>\n",
       "      <td>C1284</td>\n",
       "      <td>528</td>\n",
       "      <td>아파트</td>\n",
       "      <td>경상남도</td>\n",
       "      <td>공공임대(10년)</td>\n",
       "      <td>59.92</td>\n",
       "      <td>469</td>\n",
       "      <td>0.0</td>\n",
       "      <td>1</td>\n",
       "      <td>32896000</td>\n",
       "      <td>185040</td>\n",
       "      <td>0.0</td>\n",
       "      <td>5.0</td>\n",
       "      <td>543.0</td>\n",
       "      <td>780.0</td>\n",
       "    </tr>\n",
       "    <tr>\n",
       "      <th>2596</th>\n",
       "      <td>C2595</td>\n",
       "      <td>867</td>\n",
       "      <td>아파트</td>\n",
       "      <td>경상남도</td>\n",
       "      <td>공공임대(10년)</td>\n",
       "      <td>59.95</td>\n",
       "      <td>137</td>\n",
       "      <td>2.0</td>\n",
       "      <td>1</td>\n",
       "      <td>38000000</td>\n",
       "      <td>430000</td>\n",
       "      <td>0.0</td>\n",
       "      <td>5.0</td>\n",
       "      <td>897.0</td>\n",
       "      <td>1359.0</td>\n",
       "    </tr>\n",
       "    <tr>\n",
       "      <th>2597</th>\n",
       "      <td>C2595</td>\n",
       "      <td>867</td>\n",
       "      <td>아파트</td>\n",
       "      <td>경상남도</td>\n",
       "      <td>공공임대(10년)</td>\n",
       "      <td>59.96</td>\n",
       "      <td>557</td>\n",
       "      <td>2.0</td>\n",
       "      <td>1</td>\n",
       "      <td>38000000</td>\n",
       "      <td>430000</td>\n",
       "      <td>0.0</td>\n",
       "      <td>5.0</td>\n",
       "      <td>897.0</td>\n",
       "      <td>1359.0</td>\n",
       "    </tr>\n",
       "    <tr>\n",
       "      <th>2598</th>\n",
       "      <td>C2595</td>\n",
       "      <td>867</td>\n",
       "      <td>아파트</td>\n",
       "      <td>경상남도</td>\n",
       "      <td>공공임대(10년)</td>\n",
       "      <td>74.93</td>\n",
       "      <td>105</td>\n",
       "      <td>2.0</td>\n",
       "      <td>1</td>\n",
       "      <td>44000000</td>\n",
       "      <td>550000</td>\n",
       "      <td>0.0</td>\n",
       "      <td>5.0</td>\n",
       "      <td>897.0</td>\n",
       "      <td>1359.0</td>\n",
       "    </tr>\n",
       "    <tr>\n",
       "      <th>2599</th>\n",
       "      <td>C2595</td>\n",
       "      <td>867</td>\n",
       "      <td>아파트</td>\n",
       "      <td>경상남도</td>\n",
       "      <td>공공임대(10년)</td>\n",
       "      <td>84.90</td>\n",
       "      <td>60</td>\n",
       "      <td>2.0</td>\n",
       "      <td>1</td>\n",
       "      <td>54000000</td>\n",
       "      <td>620000</td>\n",
       "      <td>0.0</td>\n",
       "      <td>5.0</td>\n",
       "      <td>897.0</td>\n",
       "      <td>1359.0</td>\n",
       "    </tr>\n",
       "    <tr>\n",
       "      <th>2600</th>\n",
       "      <td>C2595</td>\n",
       "      <td>867</td>\n",
       "      <td>아파트</td>\n",
       "      <td>경상남도</td>\n",
       "      <td>공공임대(10년)</td>\n",
       "      <td>84.98</td>\n",
       "      <td>8</td>\n",
       "      <td>2.0</td>\n",
       "      <td>1</td>\n",
       "      <td>54000000</td>\n",
       "      <td>620000</td>\n",
       "      <td>0.0</td>\n",
       "      <td>5.0</td>\n",
       "      <td>897.0</td>\n",
       "      <td>1359.0</td>\n",
       "    </tr>\n",
       "  </tbody>\n",
       "</table>\n",
       "</div>"
      ],
      "text/plain": [
       "       단지코드  총세대수 임대건물구분    지역       공급유형   전용면적  전용면적별세대수   공가수  자격유형  \\\n",
       "2158  C1788   376    아파트  경상남도  공공임대(10년)  51.59       116  28.0     1   \n",
       "2159  C1788   376    아파트  경상남도  공공임대(10년)  59.97       260  28.0     1   \n",
       "2208  C2405   600    아파트  경상남도  공공임대(10년)  75.84        48  22.0     1   \n",
       "2209  C2405   600    아파트  경상남도  공공임대(10년)  75.99        54  22.0     1   \n",
       "2210  C2405   600    아파트  경상남도  공공임대(10년)  84.95       182  22.0     1   \n",
       "2293  N2431  1047    아파트  경상남도  공공임대(10년)  74.97        80  15.0     1   \n",
       "2294  N2431  1047    아파트  경상남도  공공임대(10년)  84.95       124  15.0     1   \n",
       "2295  N2431  1047    아파트  경상남도  공공임대(10년)  84.96       289  15.0     1   \n",
       "2296  N2431  1047    아파트  경상남도  공공임대(10년)  84.98        82  15.0     1   \n",
       "2498  C1941   404    아파트  경상남도  공공임대(10년)  84.94        64  19.0     1   \n",
       "2499  C1941   404    아파트  경상남도  공공임대(10년)  84.94        72  19.0     1   \n",
       "2500  C1941   404    아파트  경상남도  공공임대(10년)  84.96        16  19.0     1   \n",
       "2501  C1941   404    아파트  경상남도  공공임대(10년)  84.99       252  19.0     1   \n",
       "2594  C1284   528    아파트  경상남도  공공임대(10년)  59.72        59   0.0     1   \n",
       "2595  C1284   528    아파트  경상남도  공공임대(10년)  59.92       469   0.0     1   \n",
       "2596  C2595   867    아파트  경상남도  공공임대(10년)  59.95       137   2.0     1   \n",
       "2597  C2595   867    아파트  경상남도  공공임대(10년)  59.96       557   2.0     1   \n",
       "2598  C2595   867    아파트  경상남도  공공임대(10년)  74.93       105   2.0     1   \n",
       "2599  C2595   867    아파트  경상남도  공공임대(10년)  84.90        60   2.0     1   \n",
       "2600  C2595   867    아파트  경상남도  공공임대(10년)  84.98         8   2.0     1   \n",
       "\n",
       "         임대보증금     임대료  10분내지하철수  10분내버스정류장수  단지내주차면수   등록차량수  \n",
       "2158  29000000  340000       0.0         3.0    380.0   412.0  \n",
       "2159  36000000  390000       0.0         3.0    380.0   412.0  \n",
       "2208  36019000  603480       0.0         8.0    728.0  1240.0  \n",
       "2209  36113000  603480       0.0         8.0    728.0  1240.0  \n",
       "2210  44868000  636400       0.0         8.0    728.0  1240.0  \n",
       "2293  46000000  456000       NaN         NaN   1066.0  1214.0  \n",
       "2294  57000000  462000       NaN         NaN   1066.0  1214.0  \n",
       "2295  57000000  462000       NaN         NaN   1066.0  1214.0  \n",
       "2296  57000000  462000       NaN         NaN   1066.0  1214.0  \n",
       "2498  47288000  627080       0.0         3.0    490.0   600.0  \n",
       "2499  47288000  627080       0.0         3.0    490.0   600.0  \n",
       "2500  47288000  627080       0.0         3.0    490.0   600.0  \n",
       "2501  47288000  627080       0.0         3.0    490.0   600.0  \n",
       "2594  32896000  185040       0.0         5.0    543.0   780.0  \n",
       "2595  32896000  185040       0.0         5.0    543.0   780.0  \n",
       "2596  38000000  430000       0.0         5.0    897.0  1359.0  \n",
       "2597  38000000  430000       0.0         5.0    897.0  1359.0  \n",
       "2598  44000000  550000       0.0         5.0    897.0  1359.0  \n",
       "2599  54000000  620000       0.0         5.0    897.0  1359.0  \n",
       "2600  54000000  620000       0.0         5.0    897.0  1359.0  "
      ]
     },
     "execution_count": 27,
     "metadata": {},
     "output_type": "execute_result"
    }
   ],
   "source": [
    "grouped = train.groupby(['임대건물구분', '지역','공급유형', '자격유형'])\n",
    "group1 = grouped.get_group( ('아파트', '경상남도', '공공임대(10년)', 1)  )\n",
    "group1"
   ]
  },
  {
   "cell_type": "code",
   "execution_count": 28,
   "metadata": {},
   "outputs": [],
   "source": [
    "# 데이터 확인 후, 임의 처리 4\n",
    "train.loc[ train['10분내버스정류장수'].isnull(), \"10분내버스정류장수\"] = 5"
   ]
  },
  {
   "cell_type": "code",
   "execution_count": 29,
   "metadata": {},
   "outputs": [
    {
     "data": {
      "text/html": [
       "<div>\n",
       "<style scoped>\n",
       "    .dataframe tbody tr th:only-of-type {\n",
       "        vertical-align: middle;\n",
       "    }\n",
       "\n",
       "    .dataframe tbody tr th {\n",
       "        vertical-align: top;\n",
       "    }\n",
       "\n",
       "    .dataframe thead th {\n",
       "        text-align: right;\n",
       "    }\n",
       "</style>\n",
       "<table border=\"1\" class=\"dataframe\">\n",
       "  <thead>\n",
       "    <tr style=\"text-align: right;\">\n",
       "      <th></th>\n",
       "      <th>단지코드</th>\n",
       "      <th>총세대수</th>\n",
       "      <th>임대건물구분</th>\n",
       "      <th>지역</th>\n",
       "      <th>공급유형</th>\n",
       "      <th>전용면적</th>\n",
       "      <th>전용면적별세대수</th>\n",
       "      <th>공가수</th>\n",
       "      <th>자격유형</th>\n",
       "      <th>임대보증금</th>\n",
       "      <th>임대료</th>\n",
       "      <th>10분내지하철수</th>\n",
       "      <th>10분내버스정류장수</th>\n",
       "      <th>단지내주차면수</th>\n",
       "      <th>등록차량수</th>\n",
       "    </tr>\n",
       "  </thead>\n",
       "  <tbody>\n",
       "  </tbody>\n",
       "</table>\n",
       "</div>"
      ],
      "text/plain": [
       "Empty DataFrame\n",
       "Columns: [단지코드, 총세대수, 임대건물구분, 지역, 공급유형, 전용면적, 전용면적별세대수, 공가수, 자격유형, 임대보증금, 임대료, 10분내지하철수, 10분내버스정류장수, 단지내주차면수, 등록차량수]\n",
       "Index: []"
      ]
     },
     "execution_count": 29,
     "metadata": {},
     "output_type": "execute_result"
    }
   ],
   "source": [
    "train.loc[ train['10분내버스정류장수'].isnull(), :]"
   ]
  },
  {
   "cell_type": "code",
   "execution_count": 30,
   "metadata": {},
   "outputs": [
    {
     "data": {
      "text/plain": [
       "총세대수          0.333440\n",
       "전용면적          0.112717\n",
       "전용면적별세대수      0.250513\n",
       "공가수           0.118910\n",
       "자격유형         -0.154482\n",
       "10분내지하철수     -0.107308\n",
       "10분내버스정류장수    0.104964\n",
       "단지내주차면수       0.861338\n",
       "등록차량수         1.000000\n",
       "Name: 등록차량수, dtype: float64"
      ]
     },
     "execution_count": 30,
     "metadata": {},
     "output_type": "execute_result"
    }
   ],
   "source": [
    "train.corr()['등록차량수']"
   ]
  },
  {
   "cell_type": "code",
   "execution_count": 31,
   "metadata": {},
   "outputs": [],
   "source": [
    "from sklearn.linear_model import LinearRegression\n",
    "import numpy as np\n",
    "from sklearn.model_selection import train_test_split"
   ]
  },
  {
   "cell_type": "code",
   "execution_count": 32,
   "metadata": {},
   "outputs": [],
   "source": [
    "sel = ['총세대수', '전용면적', '전용면적별세대수', \n",
    "       '공가수',  '단지내주차면수', '자격유형']\n",
    "\n",
    "X = train[sel]\n",
    "y = train['등록차량수']\n",
    "\n",
    "X_train, X_test, y_train, y_test = train_test_split(X, y, test_size=0.3, \n",
    "                                                   random_state=0)"
   ]
  },
  {
   "cell_type": "code",
   "execution_count": 33,
   "metadata": {},
   "outputs": [],
   "source": [
    "model = LinearRegression()\n",
    "model.fit(X_train, y_train)\n",
    "pred = model.predict(X_test)"
   ]
  },
  {
   "cell_type": "code",
   "execution_count": 34,
   "metadata": {},
   "outputs": [
    {
     "name": "stdout",
     "output_type": "stream",
     "text": [
      "학습(score) : 0.7848278438379498\n",
      "테스트(score) : 0.7841937560157191\n"
     ]
    }
   ],
   "source": [
    "print(\"학습(score) :\", model.score(X_train, y_train) ) # 결정계수\n",
    "print(\"테스트(score) :\", model.score(X_test, y_test) ) # 결정계수"
   ]
  },
  {
   "cell_type": "code",
   "execution_count": 35,
   "metadata": {},
   "outputs": [
    {
     "data": {
      "text/plain": [
       "147.8977567932893"
      ]
     },
     "execution_count": 35,
     "metadata": {},
     "output_type": "execute_result"
    }
   ],
   "source": [
    "# mae\n",
    "np.mean( np.abs(y_test - pred)  )"
   ]
  },
  {
   "cell_type": "code",
   "execution_count": 36,
   "metadata": {},
   "outputs": [
    {
     "data": {
      "text/plain": [
       "43640.968133126094"
      ]
     },
     "execution_count": 36,
     "metadata": {},
     "output_type": "execute_result"
    }
   ],
   "source": [
    "# mse\n",
    "mse_val = np.mean( (y_test - pred)**2  )\n",
    "mse_val"
   ]
  },
  {
   "cell_type": "code",
   "execution_count": 37,
   "metadata": {},
   "outputs": [
    {
     "data": {
      "text/plain": [
       "208.9042080311598"
      ]
     },
     "execution_count": 37,
     "metadata": {},
     "output_type": "execute_result"
    }
   ],
   "source": [
    "# rmse\n",
    "np.sqrt(  mse_val )"
   ]
  }
 ],
 "metadata": {
  "kernelspec": {
   "display_name": "Python 3",
   "language": "python",
   "name": "python3"
  },
  "language_info": {
   "codemirror_mode": {
    "name": "ipython",
    "version": 3
   },
   "file_extension": ".py",
   "mimetype": "text/x-python",
   "name": "python",
   "nbconvert_exporter": "python",
   "pygments_lexer": "ipython3",
   "version": "3.8.5"
  }
 },
 "nbformat": 4,
 "nbformat_minor": 4
}
